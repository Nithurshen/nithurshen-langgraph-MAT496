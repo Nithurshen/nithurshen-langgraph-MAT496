{
 "cells": [
  {
   "cell_type": "code",
   "id": "5b430d92-f595-4322-a56e-06de7485daa8",
   "metadata": {
    "ExecuteTime": {
     "end_time": "2025-10-23T04:09:41.131850Z",
     "start_time": "2025-10-23T04:09:41.127381Z"
    }
   },
   "source": [
    "import os, getpass\n",
    "from dotenv import load_dotenv\n",
    "load_dotenv()"
   ],
   "outputs": [
    {
     "data": {
      "text/plain": [
       "True"
      ]
     },
     "execution_count": 33,
     "metadata": {},
     "output_type": "execute_result"
    }
   ],
   "execution_count": 33
  },
  {
   "cell_type": "code",
   "id": "2d7321e0-0d99-4efe-a67b-74c12271859b",
   "metadata": {
    "ExecuteTime": {
     "end_time": "2025-10-23T04:09:41.964635Z",
     "start_time": "2025-10-23T04:09:41.141911Z"
    }
   },
   "source": [
    "from typing import Literal\n",
    "from langchain_core.messages import HumanMessage, SystemMessage, RemoveMessage, AIMessage\n",
    "from langgraph.graph import MessagesState\n",
    "from langgraph.graph import StateGraph, START, END\n",
    "from langchain_openai import ChatOpenAI\n",
    "from langchain_core.runnables import RunnableConfig\n",
    "from IPython.display import Image, display\n",
    "from langgraph.checkpoint.memory import MemorySaver\n",
    "\n",
    "model = ChatOpenAI(model=\"gpt-4.1-nano\", temperature=0)\n",
    "\n",
    "class RaceSessionState(MessagesState):\n",
    "    race_summary: str\n",
    "\n",
    "def call_race_control(state: RaceSessionState, config: RunnableConfig):\n",
    "    summary = state.get(\"race_summary\", \"\")\n",
    "    if summary:\n",
    "        system_message = f\"Summary of the race session so far: {summary}\"\n",
    "        messages = [SystemMessage(content=system_message)] + state[\"messages\"]\n",
    "    else:\n",
    "        messages = state[\"messages\"]\n",
    "\n",
    "    response = model.invoke(messages, config)\n",
    "    return {\"messages\": response}\n",
    "\n",
    "def generate_race_report(state: RaceSessionState):\n",
    "    summary = state.get(\"race_summary\", \"\")\n",
    "    if summary:\n",
    "        summary_message = (\n",
    "            f\"This is the race report so far: {summary}\\n\\n\"\n",
    "            \"Update the report based on the new radio messages above:\"\n",
    "        )\n",
    "    else:\n",
    "        summary_message = \"Generate a brief race report based on the radio messages above:\"\n",
    "\n",
    "    messages = state[\"messages\"] + [HumanMessage(content=summary_message)]\n",
    "    response = model.invoke(messages)\n",
    "\n",
    "    delete_messages = [RemoveMessage(id=m.id) for m in state[\"messages\"][:-2]]\n",
    "    return {\"race_summary\": response.content, \"messages\": delete_messages}\n",
    "\n",
    "def should_generate_report(state: RaceSessionState) -> Literal[\"generate_race_report\", END]:\n",
    "    messages = state[\"messages\"]\n",
    "    if len(messages) > 6:\n",
    "        return \"generate_race_report\"\n",
    "    return END\n",
    "\n",
    "workflow = StateGraph(RaceSessionState)\n",
    "workflow.add_node(\"radio_comms\", call_race_control)\n",
    "workflow.add_node(generate_race_report)\n",
    "\n",
    "workflow.add_edge(START, \"radio_comms\")\n",
    "workflow.add_conditional_edges(\"radio_comms\", should_generate_report)\n",
    "workflow.add_edge(\"generate_race_report\", END)\n",
    "\n",
    "memory = MemorySaver()\n",
    "graph = workflow.compile(checkpointer=memory)\n",
    "display(Image(graph.get_graph().draw_mermaid_png()))"
   ],
   "outputs": [
    {
     "data": {
      "image/png": "[encoded data removed]",
      "text/plain": [
       "<IPython.core.display.Image object>"
      ]
     },
     "metadata": {},
     "output_type": "display_data",
     "jetTransient": {
      "display_id": null
     }
    }
   ],
   "execution_count": 34
  },
  {
   "cell_type": "code",
   "id": "9a6f8ae9-f244-40c5-a2da-618b72631b22",
   "metadata": {
    "ExecuteTime": {
     "end_time": "2025-10-23T04:09:44.699435Z",
     "start_time": "2025-10-23T04:09:41.976632Z"
    }
   },
   "source": [
    "config = {\"configurable\": {\"thread_id\": \"f1_stream_updates\"}}\n",
    "\n",
    "input_message = HumanMessage(content=\"Box this lap.\", name=\"RaceEngineer\")\n",
    "for chunk in graph.stream({\"messages\": [input_message]}, config, stream_mode=\"updates\"):\n",
    "    print(chunk)"
   ],
   "outputs": [
    {
     "name": "stdout",
     "output_type": "stream",
     "text": [
      "{'radio_comms': {'messages': AIMessage(content='Copy that. Box this lap and prepare for a pit stop.', additional_kwargs={'refusal': None}, response_metadata={'token_usage': {'completion_tokens': 13, 'prompt_tokens': 14, 'total_tokens': 27, 'completion_tokens_details': {'accepted_prediction_tokens': 0, 'audio_tokens': 0, 'reasoning_tokens': 0, 'rejected_prediction_tokens': 0}, 'prompt_tokens_details': {'audio_tokens': 0, 'cached_tokens': 0}}, 'model_provider': 'openai', 'model_name': 'gpt-4.1-nano-2025-04-14', 'system_fingerprint': 'fp_950f36939b', 'id': 'chatcmpl-CTgvvsgaT7tfh7Nhk0iIqJj3DwgWH', 'service_tier': 'default', 'finish_reason': 'stop', 'logprobs': None}, id='lc_run--77c9c2bf-e2d5-431a-b248-87c1a7348c83-0', usage_metadata={'input_tokens': 14, 'output_tokens': 13, 'total_tokens': 27, 'input_token_details': {'audio': 0, 'cache_read': 0}, 'output_token_details': {'audio': 0, 'reasoning': 0}})}}\n"
     ]
    }
   ],
   "execution_count": 35
  },
  {
   "cell_type": "markdown",
   "id": "0c4882e9-07dd-4d70-866b-dfc530418cad",
   "metadata": {},
   "source": [
    "Let's now just print the state update."
   ]
  },
  {
   "cell_type": "code",
   "id": "c859c777-cb12-4682-9108-6b367e597b81",
   "metadata": {
    "ExecuteTime": {
     "end_time": "2025-10-23T04:09:45.593932Z",
     "start_time": "2025-10-23T04:09:44.702865Z"
    }
   },
   "source": [
    "for chunk in graph.stream({\"messages\": [input_message]}, config, stream_mode=\"updates\"):\n",
    "    if \"radio_comms\" in chunk:\n",
    "        chunk['radio_comms'][\"messages\"].pretty_print()"
   ],
   "outputs": [
    {
     "name": "stdout",
     "output_type": "stream",
     "text": [
      "==================================\u001B[1m Ai Message \u001B[0m==================================\n",
      "\n",
      "Understood. Box this lap and prepare for a pit stop.\n"
     ]
    }
   ],
   "execution_count": 36
  },
  {
   "cell_type": "code",
   "id": "6ee763f8-6d1f-491e-8050-fb1439e116df",
   "metadata": {
    "ExecuteTime": {
     "end_time": "2025-10-23T04:09:46.394559Z",
     "start_time": "2025-10-23T04:09:45.597306Z"
    }
   },
   "source": [
    "config = {\"configurable\": {\"thread_id\": \"f1_stream_values\"}}\n",
    "\n",
    "input_message = HumanMessage(content=\"Confirm strategy.\", name=\"Driver_VER\")\n",
    "for event in graph.stream({\"messages\": [input_message]}, config, stream_mode=\"values\"):\n",
    "    for m in event['messages']:\n",
    "        m.pretty_print()\n",
    "    print(\"---\"*25)"
   ],
   "outputs": [
    {
     "name": "stdout",
     "output_type": "stream",
     "text": [
      "================================\u001B[1m Human Message \u001B[0m=================================\n",
      "Name: Driver_VER\n",
      "\n",
      "Confirm strategy.\n",
      "---------------------------------------------------------------------------\n",
      "================================\u001B[1m Human Message \u001B[0m=================================\n",
      "Name: Driver_VER\n",
      "\n",
      "Confirm strategy.\n",
      "==================================\u001B[1m Ai Message \u001B[0m==================================\n",
      "\n",
      "Hello! Could you please provide more details about the strategy you'd like to confirm? This will help me assist you more effectively.\n",
      "---------------------------------------------------------------------------\n"
     ]
    }
   ],
   "execution_count": 37
  },
  {
   "cell_type": "code",
   "id": "6ae8c7a6-c6e7-4cef-ac9f-190d2f4dd763",
   "metadata": {
    "ExecuteTime": {
     "end_time": "2025-10-23T04:09:47.327103Z",
     "start_time": "2025-10-23T04:09:46.399981Z"
    }
   },
   "source": [
    "config = {\"configurable\": {\"thread_id\": \"f1_astream_events\"}}\n",
    "input_message = HumanMessage(content=\"What's the gap to Hamilton?\", name=\"Driver_LEC\")\n",
    "async for event in graph.astream_events({\"messages\": [input_message]}, config, version=\"v2\"):\n",
    "    print(f\"Node: {event['metadata'].get('langgraph_node','')}. Type: {event['event']}. Name: {event['name']}\")"
   ],
   "outputs": [
    {
     "name": "stdout",
     "output_type": "stream",
     "text": [
      "Node: . Type: on_chain_start. Name: LangGraph\n",
      "Node: radio_comms. Type: on_chain_start. Name: radio_comms\n",
      "Node: radio_comms. Type: on_chat_model_start. Name: ChatOpenAI\n",
      "Node: radio_comms. Type: on_chat_model_stream. Name: ChatOpenAI\n",
      "Node: radio_comms. Type: on_chat_model_stream. Name: ChatOpenAI\n",
      "Node: radio_comms. Type: on_chat_model_stream. Name: ChatOpenAI\n",
      "Node: radio_comms. Type: on_chat_model_stream. Name: ChatOpenAI\n",
      "Node: radio_comms. Type: on_chat_model_stream. Name: ChatOpenAI\n",
      "Node: radio_comms. Type: on_chat_model_stream. Name: ChatOpenAI\n",
      "Node: radio_comms. Type: on_chat_model_stream. Name: ChatOpenAI\n",
      "Node: radio_comms. Type: on_chat_model_stream. Name: ChatOpenAI\n",
      "Node: radio_comms. Type: on_chat_model_stream. Name: ChatOpenAI\n",
      "Node: radio_comms. Type: on_chat_model_stream. Name: ChatOpenAI\n",
      "Node: radio_comms. Type: on_chat_model_stream. Name: ChatOpenAI\n",
      "Node: radio_comms. Type: on_chat_model_stream. Name: ChatOpenAI\n",
      "Node: radio_comms. Type: on_chat_model_stream. Name: ChatOpenAI\n",
      "Node: radio_comms. Type: on_chat_model_stream. Name: ChatOpenAI\n",
      "Node: radio_comms. Type: on_chat_model_stream. Name: ChatOpenAI\n",
      "Node: radio_comms. Type: on_chat_model_stream. Name: ChatOpenAI\n",
      "Node: radio_comms. Type: on_chat_model_stream. Name: ChatOpenAI\n",
      "Node: radio_comms. Type: on_chat_model_stream. Name: ChatOpenAI\n",
      "Node: radio_comms. Type: on_chat_model_stream. Name: ChatOpenAI\n",
      "Node: radio_comms. Type: on_chat_model_stream. Name: ChatOpenAI\n",
      "Node: radio_comms. Type: on_chat_model_stream. Name: ChatOpenAI\n",
      "Node: radio_comms. Type: on_chat_model_stream. Name: ChatOpenAI\n",
      "Node: radio_comms. Type: on_chat_model_stream. Name: ChatOpenAI\n",
      "Node: radio_comms. Type: on_chat_model_stream. Name: ChatOpenAI\n",
      "Node: radio_comms. Type: on_chat_model_stream. Name: ChatOpenAI\n",
      "Node: radio_comms. Type: on_chat_model_stream. Name: ChatOpenAI\n",
      "Node: radio_comms. Type: on_chat_model_stream. Name: ChatOpenAI\n",
      "Node: radio_comms. Type: on_chat_model_stream. Name: ChatOpenAI\n",
      "Node: radio_comms. Type: on_chat_model_stream. Name: ChatOpenAI\n",
      "Node: radio_comms. Type: on_chat_model_stream. Name: ChatOpenAI\n",
      "Node: radio_comms. Type: on_chat_model_stream. Name: ChatOpenAI\n",
      "Node: radio_comms. Type: on_chat_model_stream. Name: ChatOpenAI\n",
      "Node: radio_comms. Type: on_chat_model_stream. Name: ChatOpenAI\n",
      "Node: radio_comms. Type: on_chat_model_stream. Name: ChatOpenAI\n",
      "Node: radio_comms. Type: on_chat_model_stream. Name: ChatOpenAI\n",
      "Node: radio_comms. Type: on_chat_model_stream. Name: ChatOpenAI\n",
      "Node: radio_comms. Type: on_chat_model_stream. Name: ChatOpenAI\n",
      "Node: radio_comms. Type: on_chat_model_stream. Name: ChatOpenAI\n",
      "Node: radio_comms. Type: on_chat_model_stream. Name: ChatOpenAI\n",
      "Node: radio_comms. Type: on_chat_model_end. Name: ChatOpenAI\n",
      "Node: radio_comms. Type: on_chain_start. Name: should_generate_report\n",
      "Node: radio_comms. Type: on_chain_end. Name: should_generate_report\n",
      "Node: radio_comms. Type: on_chain_stream. Name: radio_comms\n",
      "Node: radio_comms. Type: on_chain_end. Name: radio_comms\n",
      "Node: . Type: on_chain_stream. Name: LangGraph\n",
      "Node: . Type: on_chain_end. Name: LangGraph\n"
     ]
    }
   ],
   "execution_count": 38
  },
  {
   "cell_type": "code",
   "id": "cc3529f8-3960-4d41-9ed6-373f93183950",
   "metadata": {
    "ExecuteTime": {
     "end_time": "2025-10-23T04:09:50.264016Z",
     "start_time": "2025-10-23T04:09:48.497428Z"
    }
   },
   "source": [
    "node_to_stream = 'radio_comms'\n",
    "config = {\"configurable\": {\"thread_id\": \"f1_token_stream\"}}\n",
    "input_message = HumanMessage(content=\"Push now, push now!\", name=\"RaceEngineer\")\n",
    "async for event in graph.astream_events({\"messages\": [input_message]}, config, version=\"v2\"):\n",
    "    if event[\"event\"] == \"on_chat_model_stream\" and event['metadata'].get('langgraph_node','') == node_to_stream:\n",
    "        print(event[\"data\"])"
   ],
   "outputs": [
    {
     "name": "stdout",
     "output_type": "stream",
     "text": [
      "{'chunk': AIMessageChunk(content='', additional_kwargs={}, response_metadata={'model_provider': 'openai'}, id='lc_run--a7b6756b-3630-46e0-a573-0d2abcfecaef')}\n",
      "{'chunk': AIMessageChunk(content='It', additional_kwargs={}, response_metadata={'model_provider': 'openai'}, id='lc_run--a7b6756b-3630-46e0-a573-0d2abcfecaef')}\n",
      "{'chunk': AIMessageChunk(content=' sounds', additional_kwargs={}, response_metadata={'model_provider': 'openai'}, id='lc_run--a7b6756b-3630-46e0-a573-0d2abcfecaef')}\n",
      "{'chunk': AIMessageChunk(content=' like', additional_kwargs={}, response_metadata={'model_provider': 'openai'}, id='lc_run--a7b6756b-3630-46e0-a573-0d2abcfecaef')}\n",
      "{'chunk': AIMessageChunk(content=\" you're\", additional_kwargs={}, response_metadata={'model_provider': 'openai'}, id='lc_run--a7b6756b-3630-46e0-a573-0d2abcfecaef')}\n",
      "{'chunk': AIMessageChunk(content=' encouraging', additional_kwargs={}, response_metadata={'model_provider': 'openai'}, id='lc_run--a7b6756b-3630-46e0-a573-0d2abcfecaef')}\n",
      "{'chunk': AIMessageChunk(content=' someone', additional_kwargs={}, response_metadata={'model_provider': 'openai'}, id='lc_run--a7b6756b-3630-46e0-a573-0d2abcfecaef')}\n",
      "{'chunk': AIMessageChunk(content=' to', additional_kwargs={}, response_metadata={'model_provider': 'openai'}, id='lc_run--a7b6756b-3630-46e0-a573-0d2abcfecaef')}\n",
      "{'chunk': AIMessageChunk(content=' give', additional_kwargs={}, response_metadata={'model_provider': 'openai'}, id='lc_run--a7b6756b-3630-46e0-a573-0d2abcfecaef')}\n",
      "{'chunk': AIMessageChunk(content=' their', additional_kwargs={}, response_metadata={'model_provider': 'openai'}, id='lc_run--a7b6756b-3630-46e0-a573-0d2abcfecaef')}\n",
      "{'chunk': AIMessageChunk(content=' best', additional_kwargs={}, response_metadata={'model_provider': 'openai'}, id='lc_run--a7b6756b-3630-46e0-a573-0d2abcfecaef')}\n",
      "{'chunk': AIMessageChunk(content=' effort', additional_kwargs={}, response_metadata={'model_provider': 'openai'}, id='lc_run--a7b6756b-3630-46e0-a573-0d2abcfecaef')}\n",
      "{'chunk': AIMessageChunk(content='—', additional_kwargs={}, response_metadata={'model_provider': 'openai'}, id='lc_run--a7b6756b-3630-46e0-a573-0d2abcfecaef')}\n",
      "{'chunk': AIMessageChunk(content='great', additional_kwargs={}, response_metadata={'model_provider': 'openai'}, id='lc_run--a7b6756b-3630-46e0-a573-0d2abcfecaef')}\n",
      "{'chunk': AIMessageChunk(content=' motivation', additional_kwargs={}, response_metadata={'model_provider': 'openai'}, id='lc_run--a7b6756b-3630-46e0-a573-0d2abcfecaef')}\n",
      "{'chunk': AIMessageChunk(content='!', additional_kwargs={}, response_metadata={'model_provider': 'openai'}, id='lc_run--a7b6756b-3630-46e0-a573-0d2abcfecaef')}\n",
      "{'chunk': AIMessageChunk(content=' If', additional_kwargs={}, response_metadata={'model_provider': 'openai'}, id='lc_run--a7b6756b-3630-46e0-a573-0d2abcfecaef')}\n",
      "{'chunk': AIMessageChunk(content=\" you're\", additional_kwargs={}, response_metadata={'model_provider': 'openai'}, id='lc_run--a7b6756b-3630-46e0-a573-0d2abcfecaef')}\n",
      "{'chunk': AIMessageChunk(content=' referring', additional_kwargs={}, response_metadata={'model_provider': 'openai'}, id='lc_run--a7b6756b-3630-46e0-a573-0d2abcfecaef')}\n",
      "{'chunk': AIMessageChunk(content=' to', additional_kwargs={}, response_metadata={'model_provider': 'openai'}, id='lc_run--a7b6756b-3630-46e0-a573-0d2abcfecaef')}\n",
      "{'chunk': AIMessageChunk(content=' a', additional_kwargs={}, response_metadata={'model_provider': 'openai'}, id='lc_run--a7b6756b-3630-46e0-a573-0d2abcfecaef')}\n",
      "{'chunk': AIMessageChunk(content=' race', additional_kwargs={}, response_metadata={'model_provider': 'openai'}, id='lc_run--a7b6756b-3630-46e0-a573-0d2abcfecaef')}\n",
      "{'chunk': AIMessageChunk(content=' engineer', additional_kwargs={}, response_metadata={'model_provider': 'openai'}, id='lc_run--a7b6756b-3630-46e0-a573-0d2abcfecaef')}\n",
      "{'chunk': AIMessageChunk(content=' or', additional_kwargs={}, response_metadata={'model_provider': 'openai'}, id='lc_run--a7b6756b-3630-46e0-a573-0d2abcfecaef')}\n",
      "{'chunk': AIMessageChunk(content=' team', additional_kwargs={}, response_metadata={'model_provider': 'openai'}, id='lc_run--a7b6756b-3630-46e0-a573-0d2abcfecaef')}\n",
      "{'chunk': AIMessageChunk(content=' member', additional_kwargs={}, response_metadata={'model_provider': 'openai'}, id='lc_run--a7b6756b-3630-46e0-a573-0d2abcfecaef')}\n",
      "{'chunk': AIMessageChunk(content=',', additional_kwargs={}, response_metadata={'model_provider': 'openai'}, id='lc_run--a7b6756b-3630-46e0-a573-0d2abcfecaef')}\n",
      "{'chunk': AIMessageChunk(content=' keep', additional_kwargs={}, response_metadata={'model_provider': 'openai'}, id='lc_run--a7b6756b-3630-46e0-a573-0d2abcfecaef')}\n",
      "{'chunk': AIMessageChunk(content=' pushing', additional_kwargs={}, response_metadata={'model_provider': 'openai'}, id='lc_run--a7b6756b-3630-46e0-a573-0d2abcfecaef')}\n",
      "{'chunk': AIMessageChunk(content=' forward', additional_kwargs={}, response_metadata={'model_provider': 'openai'}, id='lc_run--a7b6756b-3630-46e0-a573-0d2abcfecaef')}\n",
      "{'chunk': AIMessageChunk(content=' and', additional_kwargs={}, response_metadata={'model_provider': 'openai'}, id='lc_run--a7b6756b-3630-46e0-a573-0d2abcfecaef')}\n",
      "{'chunk': AIMessageChunk(content=' stay', additional_kwargs={}, response_metadata={'model_provider': 'openai'}, id='lc_run--a7b6756b-3630-46e0-a573-0d2abcfecaef')}\n",
      "{'chunk': AIMessageChunk(content=' focused', additional_kwargs={}, response_metadata={'model_provider': 'openai'}, id='lc_run--a7b6756b-3630-46e0-a573-0d2abcfecaef')}\n",
      "{'chunk': AIMessageChunk(content='.', additional_kwargs={}, response_metadata={'model_provider': 'openai'}, id='lc_run--a7b6756b-3630-46e0-a573-0d2abcfecaef')}\n",
      "{'chunk': AIMessageChunk(content=' Let', additional_kwargs={}, response_metadata={'model_provider': 'openai'}, id='lc_run--a7b6756b-3630-46e0-a573-0d2abcfecaef')}\n",
      "{'chunk': AIMessageChunk(content=' me', additional_kwargs={}, response_metadata={'model_provider': 'openai'}, id='lc_run--a7b6756b-3630-46e0-a573-0d2abcfecaef')}\n",
      "{'chunk': AIMessageChunk(content=' know', additional_kwargs={}, response_metadata={'model_provider': 'openai'}, id='lc_run--a7b6756b-3630-46e0-a573-0d2abcfecaef')}\n",
      "{'chunk': AIMessageChunk(content=' if', additional_kwargs={}, response_metadata={'model_provider': 'openai'}, id='lc_run--a7b6756b-3630-46e0-a573-0d2abcfecaef')}\n",
      "{'chunk': AIMessageChunk(content=\" you'd\", additional_kwargs={}, response_metadata={'model_provider': 'openai'}, id='lc_run--a7b6756b-3630-46e0-a573-0d2abcfecaef')}\n",
      "{'chunk': AIMessageChunk(content=' like', additional_kwargs={}, response_metadata={'model_provider': 'openai'}, id='lc_run--a7b6756b-3630-46e0-a573-0d2abcfecaef')}\n",
      "{'chunk': AIMessageChunk(content=' any', additional_kwargs={}, response_metadata={'model_provider': 'openai'}, id='lc_run--a7b6756b-3630-46e0-a573-0d2abcfecaef')}\n",
      "{'chunk': AIMessageChunk(content=' specific', additional_kwargs={}, response_metadata={'model_provider': 'openai'}, id='lc_run--a7b6756b-3630-46e0-a573-0d2abcfecaef')}\n",
      "{'chunk': AIMessageChunk(content=' advice', additional_kwargs={}, response_metadata={'model_provider': 'openai'}, id='lc_run--a7b6756b-3630-46e0-a573-0d2abcfecaef')}\n",
      "{'chunk': AIMessageChunk(content=' or', additional_kwargs={}, response_metadata={'model_provider': 'openai'}, id='lc_run--a7b6756b-3630-46e0-a573-0d2abcfecaef')}\n",
      "{'chunk': AIMessageChunk(content=' support', additional_kwargs={}, response_metadata={'model_provider': 'openai'}, id='lc_run--a7b6756b-3630-46e0-a573-0d2abcfecaef')}\n",
      "{'chunk': AIMessageChunk(content=' related', additional_kwargs={}, response_metadata={'model_provider': 'openai'}, id='lc_run--a7b6756b-3630-46e0-a573-0d2abcfecaef')}\n",
      "{'chunk': AIMessageChunk(content=' to', additional_kwargs={}, response_metadata={'model_provider': 'openai'}, id='lc_run--a7b6756b-3630-46e0-a573-0d2abcfecaef')}\n",
      "{'chunk': AIMessageChunk(content=' racing', additional_kwargs={}, response_metadata={'model_provider': 'openai'}, id='lc_run--a7b6756b-3630-46e0-a573-0d2abcfecaef')}\n",
      "{'chunk': AIMessageChunk(content=' strategies', additional_kwargs={}, response_metadata={'model_provider': 'openai'}, id='lc_run--a7b6756b-3630-46e0-a573-0d2abcfecaef')}\n",
      "{'chunk': AIMessageChunk(content=' or', additional_kwargs={}, response_metadata={'model_provider': 'openai'}, id='lc_run--a7b6756b-3630-46e0-a573-0d2abcfecaef')}\n",
      "{'chunk': AIMessageChunk(content=' engineering', additional_kwargs={}, response_metadata={'model_provider': 'openai'}, id='lc_run--a7b6756b-3630-46e0-a573-0d2abcfecaef')}\n",
      "{'chunk': AIMessageChunk(content='!', additional_kwargs={}, response_metadata={'model_provider': 'openai'}, id='lc_run--a7b6756b-3630-46e0-a573-0d2abcfecaef')}\n",
      "{'chunk': AIMessageChunk(content='', additional_kwargs={}, response_metadata={'finish_reason': 'stop', 'model_name': 'gpt-4.1-nano-2025-04-14', 'system_fingerprint': 'fp_950f36939b', 'service_tier': 'default', 'model_provider': 'openai'}, id='lc_run--a7b6756b-3630-46e0-a573-0d2abcfecaef', chunk_position='last')}\n",
      "{'chunk': AIMessageChunk(content='', additional_kwargs={}, response_metadata={}, id='lc_run--a7b6756b-3630-46e0-a573-0d2abcfecaef', usage_metadata={'input_tokens': 16, 'output_tokens': 51, 'total_tokens': 67, 'input_token_details': {'audio': 0, 'cache_read': 0}, 'output_token_details': {'audio': 0, 'reasoning': 0}})}\n",
      "{'chunk': AIMessageChunk(content='', additional_kwargs={}, response_metadata={}, id='lc_run--a7b6756b-3630-46e0-a573-0d2abcfecaef', chunk_position='last')}\n"
     ]
    }
   ],
   "execution_count": 39
  },
  {
   "cell_type": "code",
   "id": "3aeae53d-6dcf-40d0-a0c6-c40de492cc83",
   "metadata": {
    "ExecuteTime": {
     "end_time": "2025-10-23T04:09:50.777241Z",
     "start_time": "2025-10-23T04:09:50.269806Z"
    }
   },
   "source": [
    "config = {\"configurable\": {\"thread_id\": \"f1_token_stream_print\"}}\n",
    "input_message = HumanMessage(content=\"Copy that.\", name=\"Driver_NOR\")\n",
    "async for event in graph.astream_events({\"messages\": [input_message]}, config, version=\"v2\"):\n",
    "    if event[\"event\"] == \"on_chat_model_stream\" and event['metadata'].get('langgraph_node','') == node_to_stream:\n",
    "        data = event[\"data\"]\n",
    "        print(data[\"chunk\"].content, end=\"|\")"
   ],
   "outputs": [
    {
     "name": "stdout",
     "output_type": "stream",
     "text": [
      "|Under|stood|.| How| can| I| assist| you| further|?||||"
     ]
    }
   ],
   "execution_count": 40
  },
  {
   "cell_type": "code",
   "id": "8925b632-512b-48e1-9220-61c06bfbf0b8",
   "metadata": {
    "ExecuteTime": {
     "end_time": "2025-10-23T04:09:50.789618Z",
     "start_time": "2025-10-23T04:09:50.787608Z"
    }
   },
   "source": [
    "if 'google.colab' in str(get_ipython()):\n",
    "    raise Exception(\"Unfortunately LangGraph Studio is currently not supported on Google Colab\")"
   ],
   "outputs": [],
   "execution_count": 41
  },
  {
   "cell_type": "code",
   "id": "079c2ad6",
   "metadata": {
    "ExecuteTime": {
     "end_time": "2025-10-23T04:09:50.806950Z",
     "start_time": "2025-10-23T04:09:50.795815Z"
    }
   },
   "source": [
    "from langgraph_sdk import get_client\n",
    "\n",
    "# This is the URL of the local development server\n",
    "URL = \"http://127.0.0.1:2024\"\n",
    "client = get_client(url=URL)\n",
    "\n",
    "# Search all hosted graphs\n",
    "assistants = await client.assistants.search()"
   ],
   "outputs": [],
   "execution_count": 42
  },
  {
   "cell_type": "markdown",
   "id": "4d15af9e-0e86-41e3-a5ba-ee2a4aa08a32",
   "metadata": {},
   "source": [
    "Let's [stream `values`](https://langchain-ai.github.io/langgraph/cloud/how-tos/stream_values/), like before."
   ]
  },
  {
   "cell_type": "code",
   "id": "63e3096f-5429-4d3c-8de2-2bddf7266ebf",
   "metadata": {
    "ExecuteTime": {
     "end_time": "2025-10-23T04:09:57.580493Z",
     "start_time": "2025-10-23T04:09:50.811777Z"
    }
   },
   "source": [
    "# Assuming 'f1_race_data' is the assistant_id corresponding to your graph\n",
    "thread = await client.threads.create()\n",
    "input_message = HumanMessage(content=\"What tyre compound is Perez on?\")\n",
    "async for event in client.runs.stream(thread[\"thread_id\"],\n",
    "                                      assistant_id=\"f1_race_data\",\n",
    "                                      input={\"messages\": [input_message]},\n",
    "                                      stream_mode=\"values\"):\n",
    "    print(event)"
   ],
   "outputs": [
    {
     "name": "stdout",
     "output_type": "stream",
     "text": [
      "StreamPart(event='metadata', data={'run_id': '019a0f42-3de0-77ab-825b-0a25819d12b1', 'attempt': 1})\n",
      "StreamPart(event='values', data={'messages': [{'content': 'What tyre compound is Perez on?', 'additional_kwargs': {}, 'response_metadata': {}, 'type': 'human', 'name': None, 'id': 'dfd08518-88fb-4ec8-a524-a4ccf4c1d3db'}]})\n",
      "StreamPart(event='values', data={'messages': [{'content': 'What tyre compound is Perez on?', 'additional_kwargs': {}, 'response_metadata': {}, 'type': 'human', 'name': None, 'id': 'dfd08518-88fb-4ec8-a524-a4ccf4c1d3db'}, {'content': \"I'm sorry, but I don't have real-time data or the ability to access current events or live updates. To find out what tyre compound Sergio Perez is using, you would need to check a live broadcast of the race, a sports news website, or the official Formula 1 app or website for the most up-to-date information.\", 'additional_kwargs': {'refusal': None}, 'response_metadata': {'token_usage': {'completion_tokens': 66, 'prompt_tokens': 14, 'total_tokens': 80, 'completion_tokens_details': {'accepted_prediction_tokens': 0, 'audio_tokens': 0, 'reasoning_tokens': 0, 'rejected_prediction_tokens': 0}, 'prompt_tokens_details': {'audio_tokens': 0, 'cached_tokens': 0}}, 'model_provider': 'openai', 'model_name': 'gpt-4o-2024-08-06', 'system_fingerprint': 'fp_a788c5aef0', 'id': 'chatcmpl-CTgw3zcIPxLGRmPXzwCyLTvyGI6R9', 'service_tier': 'default', 'finish_reason': 'stop', 'logprobs': None}, 'type': 'ai', 'name': None, 'id': 'lc_run--f4657169-d94c-4d57-a553-bc21edace037-0', 'tool_calls': [], 'invalid_tool_calls': [], 'usage_metadata': {'input_tokens': 14, 'output_tokens': 66, 'total_tokens': 80, 'input_token_details': {'audio': 0, 'cache_read': 0}, 'output_token_details': {'audio': 0, 'reasoning': 0}}}]})\n"
     ]
    }
   ],
   "execution_count": 43
  },
  {
   "cell_type": "code",
   "id": "57b735aa-139c-45a3-a850-63519c0004f0",
   "metadata": {
    "ExecuteTime": {
     "end_time": "2025-10-23T04:09:59.581812Z",
     "start_time": "2025-10-23T04:09:57.587344Z"
    }
   },
   "source": [
    "from langchain_core.messages import convert_to_messages\n",
    "thread = await client.threads.create()\n",
    "input_message = HumanMessage(content=\"Is rain expected in 10 laps?\")\n",
    "async for event in client.runs.stream(thread[\"thread_id\"], assistant_id=\"f1_race_data\", input={\"messages\": [input_message]}, stream_mode=\"values\"):\n",
    "    messages = event.data.get('messages',None)\n",
    "    if messages:\n",
    "        print(convert_to_messages(messages)[-1])\n",
    "    print('='*25)"
   ],
   "outputs": [
    {
     "name": "stdout",
     "output_type": "stream",
     "text": [
      "=========================\n",
      "content='Is rain expected in 10 laps?' additional_kwargs={} response_metadata={} id='7075c32a-69bd-4f67-a1a4-661f243c1f0c'\n",
      "=========================\n",
      "content=\"I'm sorry, but I can't provide real-time weather updates or forecasts. To get the most accurate and up-to-date weather information, I recommend checking a reliable weather service or app.\" additional_kwargs={'invalid_tool_calls': [], 'usage_metadata': {'input_tokens': 15, 'output_tokens': 36, 'total_tokens': 51, 'input_token_details': {'audio': 0, 'cache_read': 0}, 'output_token_details': {'audio': 0, 'reasoning': 0}}, 'refusal': None} response_metadata={'token_usage': {'completion_tokens': 36, 'prompt_tokens': 15, 'total_tokens': 51, 'completion_tokens_details': {'accepted_prediction_tokens': 0, 'audio_tokens': 0, 'reasoning_tokens': 0, 'rejected_prediction_tokens': 0}, 'prompt_tokens_details': {'audio_tokens': 0, 'cached_tokens': 0}}, 'model_provider': 'openai', 'model_name': 'gpt-4o-2024-08-06', 'system_fingerprint': 'fp_cbf1785567', 'id': 'chatcmpl-CTgwAuDuU6u2LiXNYB0nSeg4tWDiQ', 'service_tier': 'default', 'finish_reason': 'stop', 'logprobs': None} id='lc_run--d55f48b2-65e5-4d8f-838b-a0502d555ddd-0'\n",
      "=========================\n"
     ]
    }
   ],
   "execution_count": 44
  },
  {
   "cell_type": "code",
   "id": "4abd91f6-63c0-41ee-9988-7c8248b88a45",
   "metadata": {
    "ExecuteTime": {
     "end_time": "2025-10-23T04:10:03.653115Z",
     "start_time": "2025-10-23T04:09:59.586745Z"
    }
   },
   "source": [
    "thread = await client.threads.create()\n",
    "input_message = HumanMessage(content=\"Update on track limits for Turn 4.\")\n",
    "async for event in client.runs.stream(thread[\"thread_id\"],\n",
    "                                      assistant_id=\"f1_race_data\",\n",
    "                                      input={\"messages\": [input_message]},\n",
    "                                      stream_mode=\"messages\"):\n",
    "    print(event.event)"
   ],
   "outputs": [
    {
     "name": "stdout",
     "output_type": "stream",
     "text": [
      "metadata\n",
      "messages/metadata\n",
      "messages/partial\n",
      "messages/partial\n",
      "messages/partial\n",
      "messages/partial\n",
      "messages/partial\n",
      "messages/partial\n",
      "messages/partial\n",
      "messages/partial\n",
      "messages/partial\n",
      "messages/partial\n",
      "messages/partial\n",
      "messages/partial\n",
      "messages/partial\n",
      "messages/partial\n",
      "messages/partial\n",
      "messages/partial\n",
      "messages/partial\n",
      "messages/partial\n",
      "messages/partial\n",
      "messages/partial\n",
      "messages/partial\n",
      "messages/partial\n",
      "messages/partial\n",
      "messages/partial\n",
      "messages/partial\n",
      "messages/partial\n",
      "messages/partial\n",
      "messages/partial\n",
      "messages/partial\n",
      "messages/partial\n",
      "messages/partial\n",
      "messages/partial\n",
      "messages/partial\n",
      "messages/partial\n",
      "messages/partial\n",
      "messages/partial\n",
      "messages/partial\n",
      "messages/partial\n",
      "messages/partial\n",
      "messages/partial\n",
      "messages/partial\n",
      "messages/partial\n",
      "messages/partial\n",
      "messages/partial\n",
      "messages/partial\n",
      "messages/partial\n",
      "messages/partial\n",
      "messages/partial\n",
      "messages/partial\n",
      "messages/partial\n",
      "messages/partial\n",
      "messages/partial\n",
      "messages/partial\n",
      "messages/partial\n",
      "messages/partial\n",
      "messages/partial\n",
      "messages/partial\n",
      "messages/partial\n",
      "messages/partial\n",
      "messages/partial\n",
      "messages/partial\n",
      "messages/partial\n",
      "messages/partial\n",
      "messages/partial\n",
      "messages/partial\n",
      "messages/partial\n",
      "messages/partial\n",
      "messages/partial\n",
      "messages/partial\n",
      "messages/partial\n",
      "messages/partial\n",
      "messages/partial\n",
      "messages/partial\n",
      "messages/partial\n",
      "messages/partial\n",
      "messages/partial\n",
      "messages/partial\n",
      "messages/partial\n",
      "messages/partial\n",
      "messages/partial\n",
      "messages/partial\n",
      "messages/partial\n",
      "messages/partial\n",
      "messages/partial\n",
      "messages/partial\n",
      "messages/partial\n",
      "messages/partial\n",
      "messages/partial\n",
      "messages/partial\n",
      "messages/partial\n",
      "messages/partial\n",
      "messages/partial\n",
      "messages/partial\n",
      "messages/partial\n",
      "messages/partial\n",
      "messages/partial\n",
      "messages/partial\n",
      "messages/partial\n",
      "messages/partial\n",
      "messages/partial\n",
      "messages/partial\n",
      "messages/partial\n",
      "messages/partial\n",
      "messages/partial\n",
      "messages/partial\n",
      "messages/partial\n",
      "messages/partial\n",
      "messages/partial\n",
      "messages/partial\n",
      "messages/partial\n",
      "messages/partial\n",
      "messages/partial\n",
      "messages/partial\n",
      "messages/partial\n",
      "messages/partial\n",
      "messages/partial\n",
      "messages/partial\n",
      "messages/partial\n",
      "messages/partial\n",
      "messages/partial\n",
      "messages/partial\n",
      "messages/partial\n",
      "messages/partial\n",
      "messages/partial\n",
      "messages/partial\n",
      "messages/partial\n",
      "messages/partial\n",
      "messages/partial\n",
      "messages/partial\n",
      "messages/partial\n",
      "messages/partial\n",
      "messages/partial\n",
      "messages/partial\n",
      "messages/partial\n",
      "messages/partial\n",
      "messages/partial\n",
      "messages/partial\n",
      "messages/partial\n",
      "messages/partial\n",
      "messages/partial\n",
      "messages/partial\n",
      "messages/partial\n",
      "messages/partial\n",
      "messages/partial\n",
      "messages/partial\n",
      "messages/partial\n",
      "messages/partial\n",
      "messages/partial\n"
     ]
    }
   ],
   "execution_count": 45
  },
  {
   "cell_type": "code",
   "id": "50a85e16-6e3f-4f14-bcf9-8889a762f522",
   "metadata": {
    "ExecuteTime": {
     "end_time": "2025-10-23T04:10:05.879990Z",
     "start_time": "2025-10-23T04:10:03.659961Z"
    }
   },
   "source": [
    "thread = await client.threads.create()\n",
    "input_message = HumanMessage(content=\"Plan B? Confirm Plan B.\")\n",
    "\n",
    "def format_tool_calls(tool_calls):\n",
    "    if tool_calls:\n",
    "        formatted_calls = []\n",
    "        for call in tool_calls:\n",
    "            formatted_calls.append(\n",
    "                f\"Tool Call ID: {call['id']}, Function: {call['name']}, Arguments: {call['args']}\"\n",
    "            )\n",
    "        return \"\\n\".join(formatted_calls)\n",
    "    return \"No tool calls\"\n",
    "\n",
    "async for event in client.runs.stream(\n",
    "    thread[\"thread_id\"],\n",
    "    assistant_id=\"f1_race_data\",\n",
    "    input={\"messages\": [input_message]},\n",
    "    stream_mode=\"messages\",):\n",
    "\n",
    "    if event.event == \"metadata\":\n",
    "        print(f\"Metadata: Run ID - {event.data['run_id']}\")\n",
    "        print(\"-\" * 50)\n",
    "\n",
    "    elif event.event == \"messages/partial\":\n",
    "        for data_item in event.data:\n",
    "            if \"role\" in data_item and data_item[\"role\"] == \"user\":\n",
    "                print(f\"Input: {data_item['content']}\")\n",
    "            else:\n",
    "                tool_calls = data_item.get(\"tool_calls\", [])\n",
    "                invalid_tool_calls = data_item.get(\"invalid_tool_calls\", [])\n",
    "                content = data_item.get(\"content\", \"\")\n",
    "                response_metadata = data_item.get(\"response_metadata\", {})\n",
    "\n",
    "                if content:\n",
    "                    print(f\"Response: {content}\")\n",
    "\n",
    "                if tool_calls:\n",
    "                    print(\"Tool Calls:\")\n",
    "                    print(format_tool_calls(tool_calls))\n",
    "\n",
    "                if invalid_tool_calls:\n",
    "                    print(\"Invalid Tool Calls:\")\n",
    "                    print(format_tool_calls(invalid_tool_calls))\n",
    "\n",
    "                if response_metadata:\n",
    "                    finish_reason = response_metadata.get(\"finish_reason\", \"N/A\")\n",
    "                    print(f\"Response Metadata: Finish Reason - {finish_reason}\")\n",
    "\n",
    "        print(\"-\" * 50)\n",
    "\n",
    "    elif event.event == \"messages/complete\":\n",
    "        pass"
   ],
   "outputs": [
    {
     "name": "stdout",
     "output_type": "stream",
     "text": [
      "Metadata: Run ID - 019a0f42-7013-749e-81ee-5fc4e6a59302\n",
      "--------------------------------------------------\n",
      "Response Metadata: Finish Reason - N/A\n",
      "--------------------------------------------------\n",
      "Response: Could\n",
      "Response Metadata: Finish Reason - N/A\n",
      "--------------------------------------------------\n",
      "Response: Could you\n",
      "Response Metadata: Finish Reason - N/A\n",
      "--------------------------------------------------\n",
      "Response: Could you please\n",
      "Response Metadata: Finish Reason - N/A\n",
      "--------------------------------------------------\n",
      "Response: Could you please provide\n",
      "Response Metadata: Finish Reason - N/A\n",
      "--------------------------------------------------\n",
      "Response: Could you please provide more\n",
      "Response Metadata: Finish Reason - N/A\n",
      "--------------------------------------------------\n",
      "Response: Could you please provide more context\n",
      "Response Metadata: Finish Reason - N/A\n",
      "--------------------------------------------------\n",
      "Response: Could you please provide more context or\n",
      "Response Metadata: Finish Reason - N/A\n",
      "--------------------------------------------------\n",
      "Response: Could you please provide more context or specify\n",
      "Response Metadata: Finish Reason - N/A\n",
      "--------------------------------------------------\n",
      "Response: Could you please provide more context or specify what\n",
      "Response Metadata: Finish Reason - N/A\n",
      "--------------------------------------------------\n",
      "Response: Could you please provide more context or specify what \"\n",
      "Response Metadata: Finish Reason - N/A\n",
      "--------------------------------------------------\n",
      "Response: Could you please provide more context or specify what \"Plan\n",
      "Response Metadata: Finish Reason - N/A\n",
      "--------------------------------------------------\n",
      "Response: Could you please provide more context or specify what \"Plan B\n",
      "Response Metadata: Finish Reason - N/A\n",
      "--------------------------------------------------\n",
      "Response: Could you please provide more context or specify what \"Plan B\"\n",
      "Response Metadata: Finish Reason - N/A\n",
      "--------------------------------------------------\n",
      "Response: Could you please provide more context or specify what \"Plan B\" refers\n",
      "Response Metadata: Finish Reason - N/A\n",
      "--------------------------------------------------\n",
      "Response: Could you please provide more context or specify what \"Plan B\" refers to\n",
      "Response Metadata: Finish Reason - N/A\n",
      "--------------------------------------------------\n",
      "Response: Could you please provide more context or specify what \"Plan B\" refers to?\n",
      "Response Metadata: Finish Reason - N/A\n",
      "--------------------------------------------------\n",
      "Response: Could you please provide more context or specify what \"Plan B\" refers to? It\n",
      "Response Metadata: Finish Reason - N/A\n",
      "--------------------------------------------------\n",
      "Response: Could you please provide more context or specify what \"Plan B\" refers to? It could\n",
      "Response Metadata: Finish Reason - N/A\n",
      "--------------------------------------------------\n",
      "Response: Could you please provide more context or specify what \"Plan B\" refers to? It could mean\n",
      "Response Metadata: Finish Reason - N/A\n",
      "--------------------------------------------------\n",
      "Response: Could you please provide more context or specify what \"Plan B\" refers to? It could mean different\n",
      "Response Metadata: Finish Reason - N/A\n",
      "--------------------------------------------------\n",
      "Response: Could you please provide more context or specify what \"Plan B\" refers to? It could mean different things\n",
      "Response Metadata: Finish Reason - N/A\n",
      "--------------------------------------------------\n",
      "Response: Could you please provide more context or specify what \"Plan B\" refers to? It could mean different things depending\n",
      "Response Metadata: Finish Reason - N/A\n",
      "--------------------------------------------------\n",
      "Response: Could you please provide more context or specify what \"Plan B\" refers to? It could mean different things depending on\n",
      "Response Metadata: Finish Reason - N/A\n",
      "--------------------------------------------------\n",
      "Response: Could you please provide more context or specify what \"Plan B\" refers to? It could mean different things depending on the\n",
      "Response Metadata: Finish Reason - N/A\n",
      "--------------------------------------------------\n",
      "Response: Could you please provide more context or specify what \"Plan B\" refers to? It could mean different things depending on the context\n",
      "Response Metadata: Finish Reason - N/A\n",
      "--------------------------------------------------\n",
      "Response: Could you please provide more context or specify what \"Plan B\" refers to? It could mean different things depending on the context,\n",
      "Response Metadata: Finish Reason - N/A\n",
      "--------------------------------------------------\n",
      "Response: Could you please provide more context or specify what \"Plan B\" refers to? It could mean different things depending on the context, such\n",
      "Response Metadata: Finish Reason - N/A\n",
      "--------------------------------------------------\n",
      "Response: Could you please provide more context or specify what \"Plan B\" refers to? It could mean different things depending on the context, such as\n",
      "Response Metadata: Finish Reason - N/A\n",
      "--------------------------------------------------\n",
      "Response: Could you please provide more context or specify what \"Plan B\" refers to? It could mean different things depending on the context, such as a\n",
      "Response Metadata: Finish Reason - N/A\n",
      "--------------------------------------------------\n",
      "Response: Could you please provide more context or specify what \"Plan B\" refers to? It could mean different things depending on the context, such as a backup\n",
      "Response Metadata: Finish Reason - N/A\n",
      "--------------------------------------------------\n",
      "Response: Could you please provide more context or specify what \"Plan B\" refers to? It could mean different things depending on the context, such as a backup plan\n",
      "Response Metadata: Finish Reason - N/A\n",
      "--------------------------------------------------\n",
      "Response: Could you please provide more context or specify what \"Plan B\" refers to? It could mean different things depending on the context, such as a backup plan,\n",
      "Response Metadata: Finish Reason - N/A\n",
      "--------------------------------------------------\n",
      "Response: Could you please provide more context or specify what \"Plan B\" refers to? It could mean different things depending on the context, such as a backup plan, a\n",
      "Response Metadata: Finish Reason - N/A\n",
      "--------------------------------------------------\n",
      "Response: Could you please provide more context or specify what \"Plan B\" refers to? It could mean different things depending on the context, such as a backup plan, a specific\n",
      "Response Metadata: Finish Reason - N/A\n",
      "--------------------------------------------------\n",
      "Response: Could you please provide more context or specify what \"Plan B\" refers to? It could mean different things depending on the context, such as a backup plan, a specific product\n",
      "Response Metadata: Finish Reason - N/A\n",
      "--------------------------------------------------\n",
      "Response: Could you please provide more context or specify what \"Plan B\" refers to? It could mean different things depending on the context, such as a backup plan, a specific product,\n",
      "Response Metadata: Finish Reason - N/A\n",
      "--------------------------------------------------\n",
      "Response: Could you please provide more context or specify what \"Plan B\" refers to? It could mean different things depending on the context, such as a backup plan, a specific product, or\n",
      "Response Metadata: Finish Reason - N/A\n",
      "--------------------------------------------------\n",
      "Response: Could you please provide more context or specify what \"Plan B\" refers to? It could mean different things depending on the context, such as a backup plan, a specific product, or a\n",
      "Response Metadata: Finish Reason - N/A\n",
      "--------------------------------------------------\n",
      "Response: Could you please provide more context or specify what \"Plan B\" refers to? It could mean different things depending on the context, such as a backup plan, a specific product, or a particular\n",
      "Response Metadata: Finish Reason - N/A\n",
      "--------------------------------------------------\n",
      "Response: Could you please provide more context or specify what \"Plan B\" refers to? It could mean different things depending on the context, such as a backup plan, a specific product, or a particular strategy\n",
      "Response Metadata: Finish Reason - N/A\n",
      "--------------------------------------------------\n",
      "Response: Could you please provide more context or specify what \"Plan B\" refers to? It could mean different things depending on the context, such as a backup plan, a specific product, or a particular strategy.\n",
      "Response Metadata: Finish Reason - N/A\n",
      "--------------------------------------------------\n",
      "Response: Could you please provide more context or specify what \"Plan B\" refers to? It could mean different things depending on the context, such as a backup plan, a specific product, or a particular strategy. Let\n",
      "Response Metadata: Finish Reason - N/A\n",
      "--------------------------------------------------\n",
      "Response: Could you please provide more context or specify what \"Plan B\" refers to? It could mean different things depending on the context, such as a backup plan, a specific product, or a particular strategy. Let me\n",
      "Response Metadata: Finish Reason - N/A\n",
      "--------------------------------------------------\n",
      "Response: Could you please provide more context or specify what \"Plan B\" refers to? It could mean different things depending on the context, such as a backup plan, a specific product, or a particular strategy. Let me know\n",
      "Response Metadata: Finish Reason - N/A\n",
      "--------------------------------------------------\n",
      "Response: Could you please provide more context or specify what \"Plan B\" refers to? It could mean different things depending on the context, such as a backup plan, a specific product, or a particular strategy. Let me know so\n",
      "Response Metadata: Finish Reason - N/A\n",
      "--------------------------------------------------\n",
      "Response: Could you please provide more context or specify what \"Plan B\" refers to? It could mean different things depending on the context, such as a backup plan, a specific product, or a particular strategy. Let me know so I\n",
      "Response Metadata: Finish Reason - N/A\n",
      "--------------------------------------------------\n",
      "Response: Could you please provide more context or specify what \"Plan B\" refers to? It could mean different things depending on the context, such as a backup plan, a specific product, or a particular strategy. Let me know so I can\n",
      "Response Metadata: Finish Reason - N/A\n",
      "--------------------------------------------------\n",
      "Response: Could you please provide more context or specify what \"Plan B\" refers to? It could mean different things depending on the context, such as a backup plan, a specific product, or a particular strategy. Let me know so I can assist\n",
      "Response Metadata: Finish Reason - N/A\n",
      "--------------------------------------------------\n",
      "Response: Could you please provide more context or specify what \"Plan B\" refers to? It could mean different things depending on the context, such as a backup plan, a specific product, or a particular strategy. Let me know so I can assist you\n",
      "Response Metadata: Finish Reason - N/A\n",
      "--------------------------------------------------\n",
      "Response: Could you please provide more context or specify what \"Plan B\" refers to? It could mean different things depending on the context, such as a backup plan, a specific product, or a particular strategy. Let me know so I can assist you better\n",
      "Response Metadata: Finish Reason - N/A\n",
      "--------------------------------------------------\n",
      "Response: Could you please provide more context or specify what \"Plan B\" refers to? It could mean different things depending on the context, such as a backup plan, a specific product, or a particular strategy. Let me know so I can assist you better!\n",
      "Response Metadata: Finish Reason - N/A\n",
      "--------------------------------------------------\n",
      "Response: Could you please provide more context or specify what \"Plan B\" refers to? It could mean different things depending on the context, such as a backup plan, a specific product, or a particular strategy. Let me know so I can assist you better!\n",
      "Response Metadata: Finish Reason - stop\n",
      "--------------------------------------------------\n",
      "Response: Could you please provide more context or specify what \"Plan B\" refers to? It could mean different things depending on the context, such as a backup plan, a specific product, or a particular strategy. Let me know so I can assist you better!\n",
      "Response Metadata: Finish Reason - stop\n",
      "--------------------------------------------------\n",
      "Response: Could you please provide more context or specify what \"Plan B\" refers to? It could mean different things depending on the context, such as a backup plan, a specific product, or a particular strategy. Let me know so I can assist you better!\n",
      "Response Metadata: Finish Reason - stop\n",
      "--------------------------------------------------\n"
     ]
    }
   ],
   "execution_count": 46
  }
 ],
 "metadata": {
  "kernelspec": {
   "display_name": "Python 3 (ipykernel)",
   "language": "python",
   "name": "python3"
  },
  "language_info": {
   "codemirror_mode": {
    "name": "ipython",
    "version": 3
   },
   "file_extension": ".py",
   "mimetype": "text/x-python",
   "name": "python",
   "nbconvert_exporter": "python",
   "pygments_lexer": "ipython3",
   "version": "3.11.8"
  }
 },
 "nbformat": 4,
 "nbformat_minor": 5
}
