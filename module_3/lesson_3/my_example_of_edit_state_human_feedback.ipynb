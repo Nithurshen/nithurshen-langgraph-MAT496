{
 "cells": [
  {
   "cell_type": "code",
   "id": "d5948594",
   "metadata": {
    "ExecuteTime": {
     "end_time": "2025-10-23T04:31:45.868272Z",
     "start_time": "2025-10-23T04:31:45.863016Z"
    }
   },
   "source": [
    "import os, getpass\n",
    "from dotenv import load_dotenv\n",
    "load_dotenv()"
   ],
   "outputs": [
    {
     "data": {
      "text/plain": [
       "True"
      ]
     },
     "execution_count": 1,
     "metadata": {},
     "output_type": "execute_result"
    }
   ],
   "execution_count": 1
  },
  {
   "cell_type": "code",
   "id": "bcf24f05-ac2b-455e-846c-0c50ac86e1f4",
   "metadata": {
    "ExecuteTime": {
     "end_time": "2025-10-23T04:31:46.289376Z",
     "start_time": "2025-10-23T04:31:45.870885Z"
    }
   },
   "source": [
    "from langchain_openai import ChatOpenAI\n",
    "from langchain_core.messages import SystemMessage, HumanMessage, AIMessage, ToolMessage\n",
    "from langgraph.graph import START, StateGraph, MessagesState\n",
    "from langgraph.prebuilt import tools_condition, ToolNode\n",
    "from IPython.display import Image, display\n",
    "from langgraph.checkpoint.memory import MemorySaver\n",
    "\n",
    "def check_tyre_wear(lap_number: int) -> str:\n",
    "    \"\"\"Checks the estimated tyre wear based on the current lap number.\"\"\"\n",
    "    if lap_number < 15:\n",
    "        return f\"Lap {lap_number}: Tyre wear is low. Estimated 85% life remaining.\"\n",
    "    elif lap_number < 30:\n",
    "        return f\"Lap {lap_number}: Tyre wear is medium. Estimated 50% life remaining.\"\n",
    "    else:\n",
    "        return f\"Lap {lap_number}: Tyre wear is high. Estimated 20% life remaining. Consider pitting.\"\n",
    "\n",
    "def get_weather_forecast(sector: int) -> str:\n",
    "    \"\"\"Gets the weather forecast for a specific sector of the track.\"\"\"\n",
    "    if sector == 1:\n",
    "        return f\"Sector {sector}: Forecast is clear, track temperature stable.\"\n",
    "    elif sector == 2:\n",
    "        return f\"Sector {sector}: Slight chance of light drizzle in the next 10 laps.\"\n",
    "    else:\n",
    "        return f\"Sector {sector}: Track remains dry for now.\"\n",
    "\n",
    "def suggest_pit_strategy(current_lap: int, laps_remaining: int) -> str:\n",
    "    \"\"\"Suggests a pit stop strategy based on current lap and laps remaining.\"\"\"\n",
    "    optimal_pit_window_start = 20\n",
    "    optimal_pit_window_end = 35\n",
    "    if optimal_pit_window_start <= current_lap <= optimal_pit_window_end:\n",
    "        return f\"Lap {current_lap}/{laps_remaining} laps remaining: Currently within the optimal pit window. Evaluate traffic.\"\n",
    "    elif current_lap < optimal_pit_window_start:\n",
    "        return f\"Lap {current_lap}/{laps_remaining} laps remaining: Too early for optimal one-stop. Hold position.\"\n",
    "    else:\n",
    "        return f\"Lap {current_lap}/{laps_remaining} laps remaining: Past optimal window. Consider Plan B if tyres degrade rapidly.\"\n",
    "\n",
    "tools = [check_tyre_wear, get_weather_forecast, suggest_pit_strategy]\n",
    "llm = ChatOpenAI(model=\"gpt-4o\")\n",
    "llm_with_tools = llm.bind_tools(tools)"
   ],
   "outputs": [],
   "execution_count": 2
  },
  {
   "cell_type": "code",
   "id": "5dfe84af-5c62-4c3f-8ed7-96b5261f0b7b",
   "metadata": {
    "ExecuteTime": {
     "end_time": "2025-10-23T04:31:46.543876Z",
     "start_time": "2025-10-23T04:31:46.293080Z"
    }
   },
   "source": [
    "sys_msg = SystemMessage(content=\"You are a helpful F1 race engineer providing concise updates and strategy advice to the driver based on available tools.\")\n",
    "\n",
    "def race_engineer_assistant(state: MessagesState):\n",
    "   \"\"\"Invokes the LLM with the current message state and system prompt.\"\"\"\n",
    "   return {\"messages\": [llm_with_tools.invoke([sys_msg] + state[\"messages\"])]}\n",
    "\n",
    "builder = StateGraph(MessagesState)\n",
    "\n",
    "builder.add_node(\"assistant\", race_engineer_assistant)\n",
    "builder.add_node(\"tools\", ToolNode(tools))\n",
    "\n",
    "builder.add_edge(START, \"assistant\")\n",
    "builder.add_conditional_edges(\n",
    "    \"assistant\",\n",
    "    tools_condition,\n",
    ")\n",
    "builder.add_edge(\"tools\", \"assistant\")\n",
    "\n",
    "memory = MemorySaver()\n",
    "graph = builder.compile(interrupt_before=[\"assistant\"], checkpointer=memory)\n",
    "\n",
    "display(Image(graph.get_graph(xray=True).draw_mermaid_png()))"
   ],
   "outputs": [
    {
     "data": {
      "image/png": "[encoded data removed]",
      "text/plain": [
       "<IPython.core.display.Image object>"
      ]
     },
     "metadata": {},
     "output_type": "display_data",
     "jetTransient": {
      "display_id": null
     }
    }
   ],
   "execution_count": 3
  },
  {
   "cell_type": "code",
   "id": "a2ce488d-00e4-492e-a62c-dd98702c313f",
   "metadata": {
    "ExecuteTime": {
     "end_time": "2025-10-23T04:31:46.594556Z",
     "start_time": "2025-10-23T04:31:46.550567Z"
    }
   },
   "source": [
    "initial_input = {\"messages\": [HumanMessage(content=\"What's the tyre wear like on lap 25?\")]}\n",
    "\n",
    "thread = {\"configurable\": {\"thread_id\": \"f1_edit_1\"}}\n",
    "\n",
    "for event in graph.stream(initial_input, thread, stream_mode=\"values\"):\n",
    "    if \"messages\" in event:\n",
    "        event['messages'][-1].pretty_print()"
   ],
   "outputs": [
    {
     "name": "stdout",
     "output_type": "stream",
     "text": [
      "================================\u001B[1m Human Message \u001B[0m=================================\n",
      "\n",
      "What's the tyre wear like on lap 25?\n"
     ]
    }
   ],
   "execution_count": 4
  },
  {
   "cell_type": "code",
   "id": "4be478ef-bd60-4d32-8a05-5f56c93a8396",
   "metadata": {
    "ExecuteTime": {
     "end_time": "2025-10-23T04:31:46.602543Z",
     "start_time": "2025-10-23T04:31:46.599354Z"
    }
   },
   "source": [
    "state = graph.get_state(thread)\n",
    "state"
   ],
   "outputs": [
    {
     "data": {
      "text/plain": [
       "StateSnapshot(values={'messages': [HumanMessage(content=\"What's the tyre wear like on lap 25?\", additional_kwargs={}, response_metadata={}, id='e5235252-e69a-481d-8950-1bc9742a45b2')]}, next=('assistant',), config={'configurable': {'thread_id': 'f1_edit_1', 'checkpoint_ns': '', 'checkpoint_id': '1f0afc92-f55c-6720-8000-bf6d05a6df06'}}, metadata={'source': 'loop', 'step': 0, 'parents': {}}, created_at='2025-10-23T04:31:46.592330+00:00', parent_config={'configurable': {'thread_id': 'f1_edit_1', 'checkpoint_ns': '', 'checkpoint_id': '1f0afc92-f55b-6064-bfff-5ae7282beef2'}}, tasks=(PregelTask(id='a2a8ebe5-048a-48fc-661e-5a63d83960ac', name='assistant', path=('__pregel_pull', 'assistant'), error=None, interrupts=(), state=None, result=None),), interrupts=())"
      ]
     },
     "execution_count": 5,
     "metadata": {},
     "output_type": "execute_result"
    }
   ],
   "execution_count": 5
  },
  {
   "cell_type": "code",
   "id": "9179cff1-e529-473a-9ce2-e23b932c2063",
   "metadata": {
    "ExecuteTime": {
     "end_time": "2025-10-23T04:31:46.608440Z",
     "start_time": "2025-10-23T04:31:46.605979Z"
    }
   },
   "source": [
    "graph.update_state(\n",
    "    thread,\n",
    "    {\"messages\": [HumanMessage(content=\"Actually, check wear for lap 12.\")]},\n",
    ")"
   ],
   "outputs": [
    {
     "data": {
      "text/plain": [
       "{'configurable': {'thread_id': 'f1_edit_1',\n",
       "  'checkpoint_ns': '',\n",
       "  'checkpoint_id': '1f0afc92-f57f-6aae-8001-37ab3db1aa9f'}}"
      ]
     },
     "execution_count": 6,
     "metadata": {},
     "output_type": "execute_result"
    }
   ],
   "execution_count": 6
  },
  {
   "cell_type": "code",
   "id": "141b6aab-ec6d-44f3-beb1-6c22ac5f2158",
   "metadata": {
    "ExecuteTime": {
     "end_time": "2025-10-23T04:31:46.615288Z",
     "start_time": "2025-10-23T04:31:46.613401Z"
    }
   },
   "source": [
    "new_state = graph.get_state(thread).values\n",
    "for m in new_state['messages']:\n",
    "    m.pretty_print()"
   ],
   "outputs": [
    {
     "name": "stdout",
     "output_type": "stream",
     "text": [
      "================================\u001B[1m Human Message \u001B[0m=================================\n",
      "\n",
      "What's the tyre wear like on lap 25?\n",
      "================================\u001B[1m Human Message \u001B[0m=================================\n",
      "\n",
      "Actually, check wear for lap 12.\n"
     ]
    }
   ],
   "execution_count": 7
  },
  {
   "cell_type": "code",
   "id": "f166bed2-87c9-41ec-b235-0305721c2d6b",
   "metadata": {
    "ExecuteTime": {
     "end_time": "2025-10-23T04:31:47.455337Z",
     "start_time": "2025-10-23T04:31:46.621457Z"
    }
   },
   "source": [
    "for event in graph.stream(None, thread, stream_mode=\"values\"):\n",
    "     if \"messages\" in event:\n",
    "        event['messages'][-1].pretty_print()"
   ],
   "outputs": [
    {
     "name": "stdout",
     "output_type": "stream",
     "text": [
      "================================\u001B[1m Human Message \u001B[0m=================================\n",
      "\n",
      "Actually, check wear for lap 12.\n",
      "==================================\u001B[1m Ai Message \u001B[0m==================================\n",
      "Tool Calls:\n",
      "  check_tyre_wear (call_IVRcJWbKPkNO1w3fbgEQf3OH)\n",
      " Call ID: call_IVRcJWbKPkNO1w3fbgEQf3OH\n",
      "  Args:\n",
      "    lap_number: 12\n",
      "=================================\u001B[1m Tool Message \u001B[0m=================================\n",
      "Name: check_tyre_wear\n",
      "\n",
      "Lap 12: Tyre wear is low. Estimated 85% life remaining.\n"
     ]
    }
   ],
   "execution_count": 8
  },
  {
   "cell_type": "code",
   "id": "f5952731-0170-4589-a399-ee787df35400",
   "metadata": {
    "ExecuteTime": {
     "end_time": "2025-10-23T04:31:48.385971Z",
     "start_time": "2025-10-23T04:31:47.461165Z"
    }
   },
   "source": [
    "for event in graph.stream(None, thread, stream_mode=\"values\"):\n",
    "     if \"messages\" in event:\n",
    "        event['messages'][-1].pretty_print()"
   ],
   "outputs": [
    {
     "name": "stdout",
     "output_type": "stream",
     "text": [
      "=================================\u001B[1m Tool Message \u001B[0m=================================\n",
      "Name: check_tyre_wear\n",
      "\n",
      "Lap 12: Tyre wear is low. Estimated 85% life remaining.\n",
      "==================================\u001B[1m Ai Message \u001B[0m==================================\n",
      "\n",
      "Tyre wear on lap 12 is low, with an estimated 85% life remaining.\n"
     ]
    }
   ],
   "execution_count": 9
  },
  {
   "cell_type": "code",
   "id": "020efeba-fa80-4839-81f9-9ce228f9844e",
   "metadata": {
    "ExecuteTime": {
     "end_time": "2025-10-23T04:31:48.393444Z",
     "start_time": "2025-10-23T04:31:48.391284Z"
    }
   },
   "source": [
    "if 'google.colab' in str(get_ipython()):\n",
    "    raise Exception(\"Unfortunately LangGraph Studio is currently not supported on Google Colab\")"
   ],
   "outputs": [],
   "execution_count": 10
  },
  {
   "cell_type": "code",
   "id": "642aabab-f822-4917-9d66-3314ac5008fd",
   "metadata": {
    "ExecuteTime": {
     "end_time": "2025-10-23T04:31:48.412579Z",
     "start_time": "2025-10-23T04:31:48.397326Z"
    }
   },
   "source": [
    "# This is the URL of the local development server\n",
    "from langgraph_sdk import get_client\n",
    "client = get_client(url=\"http://127.0.0.1:2024\")"
   ],
   "outputs": [],
   "execution_count": 11
  },
  {
   "cell_type": "code",
   "id": "1c352f9e-6a0f-4a94-a083-b85b0233efa9",
   "metadata": {
    "ExecuteTime": {
     "end_time": "2025-10-23T04:31:48.965988Z",
     "start_time": "2025-10-23T04:31:48.418650Z"
    }
   },
   "source": [
    "initial_input = {\"messages\": [HumanMessage(content=\"Lap 10, check tyre wear.\")]}\n",
    "thread = await client.threads.create()\n",
    "async for chunk in client.runs.stream(\n",
    "    thread[\"thread_id\"],\n",
    "    \"f1_race_data\",\n",
    "    input=initial_input,\n",
    "    stream_mode=\"values\",\n",
    "    interrupt_before=[\"assistant\"],\n",
    "):\n",
    "    print(f\"Receiving new event of type: {chunk.event}...\")\n",
    "    messages = chunk.data.get('messages', [])\n",
    "    if messages:\n",
    "        print(messages[-1])\n",
    "    print(\"-\" * 50)"
   ],
   "outputs": [
    {
     "name": "stdout",
     "output_type": "stream",
     "text": [
      "Receiving new event of type: metadata...\n",
      "--------------------------------------------------\n",
      "Receiving new event of type: values...\n",
      "{'content': 'Lap 10, check tyre wear.', 'additional_kwargs': {}, 'response_metadata': {}, 'type': 'human', 'name': None, 'id': '3a6ed01b-0866-42d7-9d06-8ba2349aba47'}\n",
      "--------------------------------------------------\n"
     ]
    }
   ],
   "execution_count": 12
  },
  {
   "cell_type": "code",
   "id": "4da2c464-3e71-496a-badc-671aeee168b6",
   "metadata": {
    "ExecuteTime": {
     "end_time": "2025-10-23T04:31:48.980056Z",
     "start_time": "2025-10-23T04:31:48.972050Z"
    }
   },
   "source": [
    "current_state = await client.threads.get_state(thread['thread_id'])\n",
    "current_state"
   ],
   "outputs": [
    {
     "data": {
      "text/plain": [
       "{'values': {'messages': [{'content': 'Lap 10, check tyre wear.',\n",
       "    'additional_kwargs': {},\n",
       "    'response_metadata': {},\n",
       "    'type': 'human',\n",
       "    'name': None,\n",
       "    'id': '3a6ed01b-0866-42d7-9d06-8ba2349aba47'}]},\n",
       " 'next': ['assistant'],\n",
       " 'tasks': [{'id': '11dc50df-f68e-e39a-9d7e-8d9584c621f2',\n",
       "   'name': 'assistant',\n",
       "   'path': ['__pregel_pull', 'assistant'],\n",
       "   'error': None,\n",
       "   'interrupts': [],\n",
       "   'checkpoint': None,\n",
       "   'state': None,\n",
       "   'result': None}],\n",
       " 'metadata': {'langgraph_auth_user': None,\n",
       "  'langgraph_auth_user_id': '',\n",
       "  'langgraph_auth_permissions': [],\n",
       "  'langgraph_request_id': '5fd43a49-62d6-4279-b3ce-8986624686af',\n",
       "  'graph_id': 'f1_race_data',\n",
       "  'assistant_id': '925333f2-6df8-5b33-8365-b2f75b18da00',\n",
       "  'user_id': '',\n",
       "  'created_by': 'system',\n",
       "  'run_attempt': 1,\n",
       "  'langgraph_version': '1.0.1',\n",
       "  'langgraph_api_version': '0.4.42',\n",
       "  'langgraph_plan': 'developer',\n",
       "  'langgraph_host': 'self-hosted',\n",
       "  'langgraph_api_url': 'http://127.0.0.1:2024',\n",
       "  'run_id': '019a0f56-58ca-7352-acb1-11ef988206a0',\n",
       "  'thread_id': '62aa2bd2-b102-40c7-a3b4-0b9ec6f92de9',\n",
       "  'source': 'loop',\n",
       "  'step': 0,\n",
       "  'parents': {}},\n",
       " 'created_at': '2025-10-23T04:31:48.961140+00:00',\n",
       " 'checkpoint': {'checkpoint_id': '1f0afc93-0bf3-6aec-8000-e9a135247d1b',\n",
       "  'thread_id': '62aa2bd2-b102-40c7-a3b4-0b9ec6f92de9',\n",
       "  'checkpoint_ns': ''},\n",
       " 'parent_checkpoint': {'checkpoint_id': '1f0afc93-0bf1-68e6-bfff-54777c907cab',\n",
       "  'thread_id': '62aa2bd2-b102-40c7-a3b4-0b9ec6f92de9',\n",
       "  'checkpoint_ns': ''},\n",
       " 'interrupts': [],\n",
       " 'checkpoint_id': '1f0afc93-0bf3-6aec-8000-e9a135247d1b',\n",
       " 'parent_checkpoint_id': '1f0afc93-0bf1-68e6-bfff-54777c907cab'}"
      ]
     },
     "execution_count": 13,
     "metadata": {},
     "output_type": "execute_result"
    }
   ],
   "execution_count": 13
  },
  {
   "cell_type": "code",
   "id": "801ae2d9-0551-46b8-aee2-82293cee4011",
   "metadata": {
    "ExecuteTime": {
     "end_time": "2025-10-23T04:31:48.991326Z",
     "start_time": "2025-10-23T04:31:48.988781Z"
    }
   },
   "source": [
    "last_message = current_state['values']['messages'][-1]\n",
    "last_message"
   ],
   "outputs": [
    {
     "data": {
      "text/plain": [
       "{'content': 'Lap 10, check tyre wear.',\n",
       " 'additional_kwargs': {},\n",
       " 'response_metadata': {},\n",
       " 'type': 'human',\n",
       " 'name': None,\n",
       " 'id': '3a6ed01b-0866-42d7-9d06-8ba2349aba47'}"
      ]
     },
     "execution_count": 14,
     "metadata": {},
     "output_type": "execute_result"
    }
   ],
   "execution_count": 14
  },
  {
   "cell_type": "code",
   "id": "86b12be7-7e4a-40d0-8521-dced7c393c71",
   "metadata": {
    "ExecuteTime": {
     "end_time": "2025-10-23T04:31:49.000873Z",
     "start_time": "2025-10-23T04:31:48.998718Z"
    }
   },
   "source": [
    "last_message['content'] = \"Forget lap 10, check lap 28 wear instead.\"\n",
    "last_message"
   ],
   "outputs": [
    {
     "data": {
      "text/plain": [
       "{'content': 'Forget lap 10, check lap 28 wear instead.',\n",
       " 'additional_kwargs': {},\n",
       " 'response_metadata': {},\n",
       " 'type': 'human',\n",
       " 'name': None,\n",
       " 'id': '3a6ed01b-0866-42d7-9d06-8ba2349aba47'}"
      ]
     },
     "execution_count": 15,
     "metadata": {},
     "output_type": "execute_result"
    }
   ],
   "execution_count": 15
  },
  {
   "cell_type": "code",
   "id": "f84f2c24-f281-4591-90e5-de3a5547c9da",
   "metadata": {
    "ExecuteTime": {
     "end_time": "2025-10-23T04:31:49.015612Z",
     "start_time": "2025-10-23T04:31:49.013618Z"
    }
   },
   "source": [
    "last_message"
   ],
   "outputs": [
    {
     "data": {
      "text/plain": [
       "{'content': 'Forget lap 10, check lap 28 wear instead.',\n",
       " 'additional_kwargs': {},\n",
       " 'response_metadata': {},\n",
       " 'type': 'human',\n",
       " 'name': None,\n",
       " 'id': '3a6ed01b-0866-42d7-9d06-8ba2349aba47'}"
      ]
     },
     "execution_count": 16,
     "metadata": {},
     "output_type": "execute_result"
    }
   ],
   "execution_count": 16
  },
  {
   "cell_type": "code",
   "id": "84d33b6e-32ff-4eca-8114-345e508f3481",
   "metadata": {
    "ExecuteTime": {
     "end_time": "2025-10-23T04:31:49.028335Z",
     "start_time": "2025-10-23T04:31:49.022767Z"
    }
   },
   "source": [
    "await client.threads.update_state(thread['thread_id'], {\"messages\": last_message})"
   ],
   "outputs": [
    {
     "data": {
      "text/plain": [
       "{'checkpoint': {'thread_id': '62aa2bd2-b102-40c7-a3b4-0b9ec6f92de9',\n",
       "  'checkpoint_ns': '',\n",
       "  'checkpoint_id': '1f0afc93-0c90-6158-8001-0d712630cf28'},\n",
       " 'configurable': {'thread_id': '62aa2bd2-b102-40c7-a3b4-0b9ec6f92de9',\n",
       "  'checkpoint_ns': '',\n",
       "  'checkpoint_id': '1f0afc93-0c90-6158-8001-0d712630cf28'},\n",
       " 'checkpoint_id': '1f0afc93-0c90-6158-8001-0d712630cf28'}"
      ]
     },
     "execution_count": 17,
     "metadata": {},
     "output_type": "execute_result"
    }
   ],
   "execution_count": 17
  },
  {
   "cell_type": "code",
   "id": "ef18d12d-e0a6-487a-9f32-ad30e2634a20",
   "metadata": {
    "ExecuteTime": {
     "end_time": "2025-10-23T04:31:51.421251Z",
     "start_time": "2025-10-23T04:31:49.034691Z"
    }
   },
   "source": [
    "async for chunk in client.runs.stream(\n",
    "    thread[\"thread_id\"],\n",
    "    assistant_id=\"f1_race_data\",\n",
    "    input=None,\n",
    "    stream_mode=\"values\",\n",
    "    interrupt_before=[\"assistant\"],\n",
    "):\n",
    "    print(f\"Receiving new event of type: {chunk.event}...\")\n",
    "    messages = chunk.data.get('messages', [])\n",
    "    if messages:\n",
    "        print(messages[-1])\n",
    "    print(\"-\" * 50)"
   ],
   "outputs": [
    {
     "name": "stdout",
     "output_type": "stream",
     "text": [
      "Receiving new event of type: metadata...\n",
      "--------------------------------------------------\n",
      "Receiving new event of type: values...\n",
      "{'content': 'Forget lap 10, check lap 28 wear instead.', 'additional_kwargs': {}, 'response_metadata': {}, 'type': 'human', 'name': None, 'id': '3a6ed01b-0866-42d7-9d06-8ba2349aba47'}\n",
      "--------------------------------------------------\n",
      "Receiving new event of type: values...\n",
      "{'content': '', 'additional_kwargs': {'refusal': None}, 'response_metadata': {'token_usage': {'completion_tokens': 18, 'prompt_tokens': 152, 'total_tokens': 170, 'completion_tokens_details': {'accepted_prediction_tokens': 0, 'audio_tokens': 0, 'reasoning_tokens': 0, 'rejected_prediction_tokens': 0}, 'prompt_tokens_details': {'audio_tokens': 0, 'cached_tokens': 0}}, 'model_provider': 'openai', 'model_name': 'gpt-4o-2024-08-06', 'system_fingerprint': 'fp_cbf1785567', 'id': 'chatcmpl-CThHK4z2GvLTjySxyMGWuLYiTUnrF', 'service_tier': 'default', 'finish_reason': 'tool_calls', 'logprobs': None}, 'type': 'ai', 'name': None, 'id': 'lc_run--34907ec2-882a-4c37-a514-9ccd37738914-0', 'tool_calls': [{'name': 'check_tyre_wear', 'args': {'lap_number': 28}, 'id': 'call_y3LCYVhJBBE9tLuGfIHq8Edg', 'type': 'tool_call'}], 'invalid_tool_calls': [], 'usage_metadata': {'input_tokens': 152, 'output_tokens': 18, 'total_tokens': 170, 'input_token_details': {'audio': 0, 'cache_read': 0}, 'output_token_details': {'audio': 0, 'reasoning': 0}}}\n",
      "--------------------------------------------------\n",
      "Receiving new event of type: values...\n",
      "{'content': 'Lap 28: Tyre wear is medium. Estimated 50% life remaining.', 'additional_kwargs': {}, 'response_metadata': {}, 'type': 'tool', 'name': 'check_tyre_wear', 'id': '7c271fb1-cf81-4c27-8c2b-9e7ad8a61cb4', 'tool_call_id': 'call_y3LCYVhJBBE9tLuGfIHq8Edg', 'artifact': None, 'status': 'success'}\n",
      "--------------------------------------------------\n"
     ]
    }
   ],
   "execution_count": 18
  },
  {
   "cell_type": "code",
   "id": "1d1bb3c7-dc26-4c32-b3df-865f41ef3c73",
   "metadata": {
    "ExecuteTime": {
     "end_time": "2025-10-23T04:31:54.328174Z",
     "start_time": "2025-10-23T04:31:51.427235Z"
    }
   },
   "source": [
    "async for chunk in client.runs.stream(\n",
    "    thread[\"thread_id\"],\n",
    "    assistant_id=\"f1_race_data\",\n",
    "    input=None,\n",
    "    stream_mode=\"values\",\n",
    "    interrupt_before=[\"assistant\"],\n",
    "):\n",
    "    print(f\"Receiving new event of type: {chunk.event}...\")\n",
    "    messages = chunk.data.get('messages', [])\n",
    "    if messages:\n",
    "        print(messages[-1])\n",
    "    print(\"-\" * 50)"
   ],
   "outputs": [
    {
     "name": "stdout",
     "output_type": "stream",
     "text": [
      "Receiving new event of type: metadata...\n",
      "--------------------------------------------------\n",
      "Receiving new event of type: values...\n",
      "{'content': 'Lap 28: Tyre wear is medium. Estimated 50% life remaining.', 'additional_kwargs': {}, 'response_metadata': {}, 'type': 'tool', 'name': 'check_tyre_wear', 'id': '7c271fb1-cf81-4c27-8c2b-9e7ad8a61cb4', 'tool_call_id': 'call_y3LCYVhJBBE9tLuGfIHq8Edg', 'artifact': None, 'status': 'success'}\n",
      "--------------------------------------------------\n",
      "Receiving new event of type: values...\n",
      "{'content': 'Tyre wear on lap 28 is at a medium level with an estimated 50% life remaining. Let me know if you need any strategy advice or weather updates.', 'additional_kwargs': {'refusal': None}, 'response_metadata': {'token_usage': {'completion_tokens': 35, 'prompt_tokens': 198, 'total_tokens': 233, 'completion_tokens_details': {'accepted_prediction_tokens': 0, 'audio_tokens': 0, 'reasoning_tokens': 0, 'rejected_prediction_tokens': 0}, 'prompt_tokens_details': {'audio_tokens': 0, 'cached_tokens': 0}}, 'model_provider': 'openai', 'model_name': 'gpt-4o-2024-08-06', 'system_fingerprint': 'fp_cbf1785567', 'id': 'chatcmpl-CThHMzqPFOAddUvlEpa3mae0QYhXj', 'service_tier': 'default', 'finish_reason': 'stop', 'logprobs': None}, 'type': 'ai', 'name': None, 'id': 'lc_run--678d796a-d0b8-4ac6-80e6-f5ede54ce0b2-0', 'tool_calls': [], 'invalid_tool_calls': [], 'usage_metadata': {'input_tokens': 198, 'output_tokens': 35, 'total_tokens': 233, 'input_token_details': {'audio': 0, 'cache_read': 0}, 'output_token_details': {'audio': 0, 'reasoning': 0}}}\n",
      "--------------------------------------------------\n"
     ]
    }
   ],
   "execution_count": 19
  }
 ],
 "metadata": {
  "kernelspec": {
   "display_name": "Python 3 (ipykernel)",
   "language": "python",
   "name": "python3"
  },
  "language_info": {
   "codemirror_mode": {
    "name": "ipython",
    "version": 3
   },
   "file_extension": ".py",
   "mimetype": "text/x-python",
   "name": "python",
   "nbconvert_exporter": "python",
   "pygments_lexer": "ipython3",
   "version": "3.11.8"
  }
 },
 "nbformat": 4,
 "nbformat_minor": 5
}
