{
 "cells": [
  {
   "cell_type": "code",
   "id": "7d32093f",
   "metadata": {
    "ExecuteTime": {
     "end_time": "2025-10-23T04:55:33.823119Z",
     "start_time": "2025-10-23T04:55:33.818232Z"
    }
   },
   "source": [
    "import os, getpass\n",
    "from dotenv import load_dotenv\n",
    "load_dotenv()"
   ],
   "outputs": [
    {
     "data": {
      "text/plain": [
       "True"
      ]
     },
     "execution_count": 1,
     "metadata": {},
     "output_type": "execute_result"
    }
   ],
   "execution_count": 1
  },
  {
   "cell_type": "code",
   "id": "d64ab3a1-b39c-4176-88c7-791a0b80c725",
   "metadata": {
    "ExecuteTime": {
     "end_time": "2025-10-23T04:55:34.213998Z",
     "start_time": "2025-10-23T04:55:33.825473Z"
    }
   },
   "source": [
    "from langchain_openai import ChatOpenAI\n",
    "from langchain_core.messages import SystemMessage, HumanMessage, AIMessage, ToolMessage\n",
    "\n",
    "def check_tyre_wear(lap_number: int) -> str:\n",
    "    \"\"\"Checks the estimated tyre wear based on the current lap number.\"\"\"\n",
    "    if lap_number < 15:\n",
    "        return f\"Lap {lap_number}: Tyre wear is low. Estimated 85% life remaining.\"\n",
    "    elif lap_number < 30:\n",
    "        return f\"Lap {lap_number}: Tyre wear is medium. Estimated 50% life remaining.\"\n",
    "    else:\n",
    "        return f\"Lap {lap_number}: Tyre wear is high. Estimated 20% life remaining. Consider pitting.\"\n",
    "\n",
    "def get_weather_forecast(sector: int) -> str:\n",
    "    \"\"\"Gets the weather forecast for a specific sector of the track.\"\"\"\n",
    "    if sector == 1:\n",
    "        return f\"Sector {sector}: Forecast is clear, track temperature stable.\"\n",
    "    elif sector == 2:\n",
    "        return f\"Sector {sector}: Slight chance of light drizzle in the next 10 laps.\"\n",
    "    else:\n",
    "        return f\"Sector {sector}: Track remains dry for now.\"\n",
    "\n",
    "def suggest_pit_strategy(current_lap: int, laps_remaining: int) -> str:\n",
    "    \"\"\"Suggests a pit stop strategy based on current lap and laps remaining.\"\"\"\n",
    "    optimal_pit_window_start = 20\n",
    "    optimal_pit_window_end = 35\n",
    "    if optimal_pit_window_start <= current_lap <= optimal_pit_window_end:\n",
    "        return f\"Lap {current_lap}/{laps_remaining} laps remaining: Currently within the optimal pit window. Evaluate traffic.\"\n",
    "    elif current_lap < optimal_pit_window_start:\n",
    "        return f\"Lap {current_lap}/{laps_remaining} laps remaining: Too early for optimal one-stop. Hold position.\"\n",
    "    else:\n",
    "        return f\"Lap {current_lap}/{laps_remaining} laps remaining: Past optimal window. Consider Plan B if tyres degrade rapidly.\"\n",
    "\n",
    "tools = [check_tyre_wear, get_weather_forecast, suggest_pit_strategy]\n",
    "llm = ChatOpenAI(model=\"gpt-4.1-nano\")\n",
    "llm_with_tools = llm.bind_tools(tools)"
   ],
   "outputs": [],
   "execution_count": 2
  },
  {
   "cell_type": "code",
   "id": "1d8622a9-57cd-44dc-8696-46c5ab32d0b9",
   "metadata": {
    "ExecuteTime": {
     "end_time": "2025-10-23T04:55:34.823921Z",
     "start_time": "2025-10-23T04:55:34.217799Z"
    }
   },
   "source": [
    "from IPython.display import Image, display\n",
    "from langgraph.checkpoint.memory import MemorySaver\n",
    "from langgraph.graph import MessagesState, START, StateGraph\n",
    "from langgraph.prebuilt import tools_condition, ToolNode\n",
    "\n",
    "sys_msg = SystemMessage(content=\"You are a helpful F1 race engineer providing concise updates and strategy advice to the driver based on available tools.\")\n",
    "\n",
    "def race_engineer_assistant(state: MessagesState):\n",
    "   \"\"\"Invokes the LLM with the current message state and system prompt.\"\"\"\n",
    "   return {\"messages\": [llm_with_tools.invoke([sys_msg] + state[\"messages\"])]}\n",
    "\n",
    "builder = StateGraph(MessagesState)\n",
    "\n",
    "builder.add_node(\"assistant\", race_engineer_assistant)\n",
    "builder.add_node(\"tools\", ToolNode(tools))\n",
    "\n",
    "builder.add_edge(START, \"assistant\")\n",
    "builder.add_conditional_edges(\n",
    "    \"assistant\",\n",
    "    tools_condition,\n",
    ")\n",
    "builder.add_edge(\"tools\", \"assistant\")\n",
    "\n",
    "memory = MemorySaver()\n",
    "graph = builder.compile(checkpointer=MemorySaver())\n",
    "\n",
    "display(Image(graph.get_graph(xray=True).draw_mermaid_png()))"
   ],
   "outputs": [
    {
     "data": {
      "image/png": "[encoded data removed]",
      "text/plain": [
       "<IPython.core.display.Image object>"
      ]
     },
     "metadata": {},
     "output_type": "display_data",
     "jetTransient": {
      "display_id": null
     }
    }
   ],
   "execution_count": 3
  },
  {
   "cell_type": "code",
   "id": "05b2ab62-82bc-4356-8d5b-2d4f49069fdd",
   "metadata": {
    "ExecuteTime": {
     "end_time": "2025-10-23T04:55:36.878338Z",
     "start_time": "2025-10-23T04:55:34.827896Z"
    }
   },
   "source": [
    "initial_input = {\"messages\": [HumanMessage(content=\"Check tyre wear for lap 25.\")]}\n",
    "\n",
    "thread = {\"configurable\": {\"thread_id\": \"f1_timetravel_1\"}}\n",
    "\n",
    "for event in graph.stream(initial_input, thread, stream_mode=\"values\"):\n",
    "    if \"messages\" in event:\n",
    "        event['messages'][-1].pretty_print()"
   ],
   "outputs": [
    {
     "name": "stdout",
     "output_type": "stream",
     "text": [
      "================================\u001B[1m Human Message \u001B[0m=================================\n",
      "\n",
      "Check tyre wear for lap 25.\n",
      "==================================\u001B[1m Ai Message \u001B[0m==================================\n",
      "Tool Calls:\n",
      "  check_tyre_wear (call_BXLB0qFuytZF2uqUDa36EhTy)\n",
      " Call ID: call_BXLB0qFuytZF2uqUDa36EhTy\n",
      "  Args:\n",
      "    lap_number: 25\n",
      "=================================\u001B[1m Tool Message \u001B[0m=================================\n",
      "Name: check_tyre_wear\n",
      "\n",
      "Lap 25: Tyre wear is medium. Estimated 50% life remaining.\n",
      "==================================\u001B[1m Ai Message \u001B[0m==================================\n",
      "\n",
      "Tyre wear is medium with approximately 50% of the tyre life remaining at lap 25. Would you like a strategy suggestion based on this information?\n"
     ]
    }
   ],
   "execution_count": 4
  },
  {
   "cell_type": "code",
   "id": "161eb053-18f6-4c99-8674-8cbd11cae57e",
   "metadata": {
    "ExecuteTime": {
     "end_time": "2025-10-23T04:55:36.887075Z",
     "start_time": "2025-10-23T04:55:36.883320Z"
    }
   },
   "source": "graph.get_state({'configurable': {'thread_id': 'f1_timetravel_1'}})",
   "outputs": [
    {
     "data": {
      "text/plain": [
       "StateSnapshot(values={'messages': [HumanMessage(content='Check tyre wear for lap 25.', additional_kwargs={}, response_metadata={}, id='5824e11a-aa59-4ada-b411-ffb0d160c5cd'), AIMessage(content='', additional_kwargs={'refusal': None}, response_metadata={'token_usage': {'completion_tokens': 18, 'prompt_tokens': 148, 'total_tokens': 166, 'completion_tokens_details': {'accepted_prediction_tokens': 0, 'audio_tokens': 0, 'reasoning_tokens': 0, 'rejected_prediction_tokens': 0}, 'prompt_tokens_details': {'audio_tokens': 0, 'cached_tokens': 0}}, 'model_provider': 'openai', 'model_name': 'gpt-4.1-nano-2025-04-14', 'system_fingerprint': 'fp_950f36939b', 'id': 'chatcmpl-CTheJE1wgrBgnEtrVLPVOlNpOS82I', 'service_tier': 'default', 'finish_reason': 'tool_calls', 'logprobs': None}, id='lc_run--35f6e85b-ffa6-4655-b77f-6c1daa4a76a9-0', tool_calls=[{'name': 'check_tyre_wear', 'args': {'lap_number': 25}, 'id': 'call_BXLB0qFuytZF2uqUDa36EhTy', 'type': 'tool_call'}], usage_metadata={'input_tokens': 148, 'output_tokens': 18, 'total_tokens': 166, 'input_token_details': {'audio': 0, 'cache_read': 0}, 'output_token_details': {'audio': 0, 'reasoning': 0}}), ToolMessage(content='Lap 25: Tyre wear is medium. Estimated 50% life remaining.', name='check_tyre_wear', id='24bb17a9-7858-44ed-b265-bc1c60122fb7', tool_call_id='call_BXLB0qFuytZF2uqUDa36EhTy'), AIMessage(content='Tyre wear is medium with approximately 50% of the tyre life remaining at lap 25. Would you like a strategy suggestion based on this information?', additional_kwargs={'refusal': None}, response_metadata={'token_usage': {'completion_tokens': 32, 'prompt_tokens': 194, 'total_tokens': 226, 'completion_tokens_details': {'accepted_prediction_tokens': 0, 'audio_tokens': 0, 'reasoning_tokens': 0, 'rejected_prediction_tokens': 0}, 'prompt_tokens_details': {'audio_tokens': 0, 'cached_tokens': 0}}, 'model_provider': 'openai', 'model_name': 'gpt-4.1-nano-2025-04-14', 'system_fingerprint': 'fp_950f36939b', 'id': 'chatcmpl-CTheKWriLM0ydHUM7ThnFTrT6pykZ', 'service_tier': 'default', 'finish_reason': 'stop', 'logprobs': None}, id='lc_run--40029ffc-26e1-4b4a-8f8b-8eca663d89c0-0', usage_metadata={'input_tokens': 194, 'output_tokens': 32, 'total_tokens': 226, 'input_token_details': {'audio': 0, 'cache_read': 0}, 'output_token_details': {'audio': 0, 'reasoning': 0}})]}, next=(), config={'configurable': {'thread_id': 'f1_timetravel_1', 'checkpoint_ns': '', 'checkpoint_id': '1f0afcc8-3d9a-6ea8-8003-a0ede9e8b9fb'}}, metadata={'source': 'loop', 'step': 3, 'parents': {}}, created_at='2025-10-23T04:55:36.875582+00:00', parent_config={'configurable': {'thread_id': 'f1_timetravel_1', 'checkpoint_ns': '', 'checkpoint_id': '1f0afcc8-3413-615a-8002-646ee8396cf7'}}, tasks=(), interrupts=())"
      ]
     },
     "execution_count": 5,
     "metadata": {},
     "output_type": "execute_result"
    }
   ],
   "execution_count": 5
  },
  {
   "cell_type": "code",
   "id": "3010169c-3bfa-498c-a30c-7ba53744e4d5",
   "metadata": {
    "ExecuteTime": {
     "end_time": "2025-10-23T04:55:36.892213Z",
     "start_time": "2025-10-23T04:55:36.889949Z"
    }
   },
   "source": [
    "all_states = [s for s in graph.get_state_history(thread)]"
   ],
   "outputs": [],
   "execution_count": 6
  },
  {
   "cell_type": "code",
   "id": "c4612ccf-59fc-4848-8845-0433fee2ca8e",
   "metadata": {
    "ExecuteTime": {
     "end_time": "2025-10-23T04:55:36.897964Z",
     "start_time": "2025-10-23T04:55:36.895916Z"
    }
   },
   "source": [
    "len(all_states)"
   ],
   "outputs": [
    {
     "data": {
      "text/plain": [
       "5"
      ]
     },
     "execution_count": 7,
     "metadata": {},
     "output_type": "execute_result"
    }
   ],
   "execution_count": 7
  },
  {
   "cell_type": "code",
   "id": "4e60b292-8efc-4cc3-b836-51f060fa608b",
   "metadata": {
    "ExecuteTime": {
     "end_time": "2025-10-23T04:55:36.905676Z",
     "start_time": "2025-10-23T04:55:36.903428Z"
    }
   },
   "source": [
    "all_states[-2]"
   ],
   "outputs": [
    {
     "data": {
      "text/plain": [
       "StateSnapshot(values={'messages': [HumanMessage(content='Check tyre wear for lap 25.', additional_kwargs={}, response_metadata={}, id='5824e11a-aa59-4ada-b411-ffb0d160c5cd')]}, next=('assistant',), config={'configurable': {'thread_id': 'f1_timetravel_1', 'checkpoint_ns': '', 'checkpoint_id': '1f0afcc8-2a68-6d44-8000-433a46f2251e'}}, metadata={'source': 'loop', 'step': 0, 'parents': {}}, created_at='2025-10-23T04:55:34.862773+00:00', parent_config={'configurable': {'thread_id': 'f1_timetravel_1', 'checkpoint_ns': '', 'checkpoint_id': '1f0afcc8-2a67-698a-bfff-f6a3abf03cb1'}}, tasks=(PregelTask(id='ce14305d-1238-da52-5e1a-f08f4cfda2e3', name='assistant', path=('__pregel_pull', 'assistant'), error=None, interrupts=(), state=None, result={'messages': [AIMessage(content='', additional_kwargs={'refusal': None}, response_metadata={'token_usage': {'completion_tokens': 18, 'prompt_tokens': 148, 'total_tokens': 166, 'completion_tokens_details': {'accepted_prediction_tokens': 0, 'audio_tokens': 0, 'reasoning_tokens': 0, 'rejected_prediction_tokens': 0}, 'prompt_tokens_details': {'audio_tokens': 0, 'cached_tokens': 0}}, 'model_provider': 'openai', 'model_name': 'gpt-4.1-nano-2025-04-14', 'system_fingerprint': 'fp_950f36939b', 'id': 'chatcmpl-CTheJE1wgrBgnEtrVLPVOlNpOS82I', 'service_tier': 'default', 'finish_reason': 'tool_calls', 'logprobs': None}, id='lc_run--35f6e85b-ffa6-4655-b77f-6c1daa4a76a9-0', tool_calls=[{'name': 'check_tyre_wear', 'args': {'lap_number': 25}, 'id': 'call_BXLB0qFuytZF2uqUDa36EhTy', 'type': 'tool_call'}], usage_metadata={'input_tokens': 148, 'output_tokens': 18, 'total_tokens': 166, 'input_token_details': {'audio': 0, 'cache_read': 0}, 'output_token_details': {'audio': 0, 'reasoning': 0}})]}),), interrupts=())"
      ]
     },
     "execution_count": 8,
     "metadata": {},
     "output_type": "execute_result"
    }
   ],
   "execution_count": 8
  },
  {
   "cell_type": "code",
   "id": "3688e511-a440-4330-a450-e5ed889c3b30",
   "metadata": {
    "ExecuteTime": {
     "end_time": "2025-10-23T04:55:36.909320Z",
     "start_time": "2025-10-23T04:55:36.907914Z"
    }
   },
   "source": [
    "to_replay = all_states[-2]"
   ],
   "outputs": [],
   "execution_count": 9
  },
  {
   "cell_type": "code",
   "id": "72adf296-d519-4bdc-af03-3b29799e9534",
   "metadata": {
    "ExecuteTime": {
     "end_time": "2025-10-23T04:55:36.914668Z",
     "start_time": "2025-10-23T04:55:36.912687Z"
    }
   },
   "source": [
    "to_replay"
   ],
   "outputs": [
    {
     "data": {
      "text/plain": [
       "StateSnapshot(values={'messages': [HumanMessage(content='Check tyre wear for lap 25.', additional_kwargs={}, response_metadata={}, id='5824e11a-aa59-4ada-b411-ffb0d160c5cd')]}, next=('assistant',), config={'configurable': {'thread_id': 'f1_timetravel_1', 'checkpoint_ns': '', 'checkpoint_id': '1f0afcc8-2a68-6d44-8000-433a46f2251e'}}, metadata={'source': 'loop', 'step': 0, 'parents': {}}, created_at='2025-10-23T04:55:34.862773+00:00', parent_config={'configurable': {'thread_id': 'f1_timetravel_1', 'checkpoint_ns': '', 'checkpoint_id': '1f0afcc8-2a67-698a-bfff-f6a3abf03cb1'}}, tasks=(PregelTask(id='ce14305d-1238-da52-5e1a-f08f4cfda2e3', name='assistant', path=('__pregel_pull', 'assistant'), error=None, interrupts=(), state=None, result={'messages': [AIMessage(content='', additional_kwargs={'refusal': None}, response_metadata={'token_usage': {'completion_tokens': 18, 'prompt_tokens': 148, 'total_tokens': 166, 'completion_tokens_details': {'accepted_prediction_tokens': 0, 'audio_tokens': 0, 'reasoning_tokens': 0, 'rejected_prediction_tokens': 0}, 'prompt_tokens_details': {'audio_tokens': 0, 'cached_tokens': 0}}, 'model_provider': 'openai', 'model_name': 'gpt-4.1-nano-2025-04-14', 'system_fingerprint': 'fp_950f36939b', 'id': 'chatcmpl-CTheJE1wgrBgnEtrVLPVOlNpOS82I', 'service_tier': 'default', 'finish_reason': 'tool_calls', 'logprobs': None}, id='lc_run--35f6e85b-ffa6-4655-b77f-6c1daa4a76a9-0', tool_calls=[{'name': 'check_tyre_wear', 'args': {'lap_number': 25}, 'id': 'call_BXLB0qFuytZF2uqUDa36EhTy', 'type': 'tool_call'}], usage_metadata={'input_tokens': 148, 'output_tokens': 18, 'total_tokens': 166, 'input_token_details': {'audio': 0, 'cache_read': 0}, 'output_token_details': {'audio': 0, 'reasoning': 0}})]}),), interrupts=())"
      ]
     },
     "execution_count": 10,
     "metadata": {},
     "output_type": "execute_result"
    }
   ],
   "execution_count": 10
  },
  {
   "cell_type": "code",
   "id": "6fe69428-f364-4330-bf5d-aa966c7f3b07",
   "metadata": {
    "ExecuteTime": {
     "end_time": "2025-10-23T04:55:36.921169Z",
     "start_time": "2025-10-23T04:55:36.919334Z"
    }
   },
   "source": [
    "to_replay.values"
   ],
   "outputs": [
    {
     "data": {
      "text/plain": [
       "{'messages': [HumanMessage(content='Check tyre wear for lap 25.', additional_kwargs={}, response_metadata={}, id='5824e11a-aa59-4ada-b411-ffb0d160c5cd')]}"
      ]
     },
     "execution_count": 11,
     "metadata": {},
     "output_type": "execute_result"
    }
   ],
   "execution_count": 11
  },
  {
   "cell_type": "code",
   "id": "d2f333f9-9b2b-46f6-ac3a-525f86b20f1b",
   "metadata": {
    "ExecuteTime": {
     "end_time": "2025-10-23T04:55:36.933275Z",
     "start_time": "2025-10-23T04:55:36.931383Z"
    }
   },
   "source": [
    "to_replay.next"
   ],
   "outputs": [
    {
     "data": {
      "text/plain": [
       "('assistant',)"
      ]
     },
     "execution_count": 12,
     "metadata": {},
     "output_type": "execute_result"
    }
   ],
   "execution_count": 12
  },
  {
   "cell_type": "code",
   "id": "b1298786-afa5-4277-927e-708a8629231b",
   "metadata": {
    "ExecuteTime": {
     "end_time": "2025-10-23T04:55:36.937949Z",
     "start_time": "2025-10-23T04:55:36.936213Z"
    }
   },
   "source": [
    "to_replay.config"
   ],
   "outputs": [
    {
     "data": {
      "text/plain": [
       "{'configurable': {'thread_id': 'f1_timetravel_1',\n",
       "  'checkpoint_ns': '',\n",
       "  'checkpoint_id': '1f0afcc8-2a68-6d44-8000-433a46f2251e'}}"
      ]
     },
     "execution_count": 13,
     "metadata": {},
     "output_type": "execute_result"
    }
   ],
   "execution_count": 13
  },
  {
   "cell_type": "code",
   "id": "531b4cd1-54f6-44aa-9ffe-cf5403dad65d",
   "metadata": {
    "ExecuteTime": {
     "end_time": "2025-10-23T04:55:40.016172Z",
     "start_time": "2025-10-23T04:55:36.940229Z"
    }
   },
   "source": [
    "for event in graph.stream(None, to_replay.config, stream_mode=\"values\"):\n",
    "     if \"messages\" in event:\n",
    "        event['messages'][-1].pretty_print()"
   ],
   "outputs": [
    {
     "name": "stdout",
     "output_type": "stream",
     "text": [
      "================================\u001B[1m Human Message \u001B[0m=================================\n",
      "\n",
      "Check tyre wear for lap 25.\n",
      "==================================\u001B[1m Ai Message \u001B[0m==================================\n",
      "Tool Calls:\n",
      "  check_tyre_wear (call_gu7uvHAaqBW1O6TRfba2RsRE)\n",
      " Call ID: call_gu7uvHAaqBW1O6TRfba2RsRE\n",
      "  Args:\n",
      "    lap_number: 25\n",
      "=================================\u001B[1m Tool Message \u001B[0m=================================\n",
      "Name: check_tyre_wear\n",
      "\n",
      "Lap 25: Tyre wear is medium. Estimated 50% life remaining.\n",
      "==================================\u001B[1m Ai Message \u001B[0m==================================\n",
      "\n",
      "The tyres are at medium wear with about 50% life remaining. Would you like a strategy suggestion or more info on the weather?\n"
     ]
    }
   ],
   "execution_count": 14
  },
  {
   "cell_type": "code",
   "id": "cdeb5bf2-1566-4d8c-8ea5-65894e3a7038",
   "metadata": {
    "ExecuteTime": {
     "end_time": "2025-10-23T04:55:40.026789Z",
     "start_time": "2025-10-23T04:55:40.023525Z"
    }
   },
   "source": [
    "to_fork = all_states[-2]\n",
    "to_fork.values[\"messages\"]"
   ],
   "outputs": [
    {
     "data": {
      "text/plain": [
       "[HumanMessage(content='Check tyre wear for lap 25.', additional_kwargs={}, response_metadata={}, id='5824e11a-aa59-4ada-b411-ffb0d160c5cd')]"
      ]
     },
     "execution_count": 15,
     "metadata": {},
     "output_type": "execute_result"
    }
   ],
   "execution_count": 15
  },
  {
   "cell_type": "code",
   "id": "d1621b27-ee51-4dc3-81c4-1d05317280db",
   "metadata": {
    "ExecuteTime": {
     "end_time": "2025-10-23T04:55:40.038843Z",
     "start_time": "2025-10-23T04:55:40.036352Z"
    }
   },
   "source": [
    "to_fork.config"
   ],
   "outputs": [
    {
     "data": {
      "text/plain": [
       "{'configurable': {'thread_id': 'f1_timetravel_1',\n",
       "  'checkpoint_ns': '',\n",
       "  'checkpoint_id': '1f0afcc8-2a68-6d44-8000-433a46f2251e'}}"
      ]
     },
     "execution_count": 16,
     "metadata": {},
     "output_type": "execute_result"
    }
   ],
   "execution_count": 16
  },
  {
   "cell_type": "code",
   "id": "0b4a918d-858a-41ac-a5d4-e99260e2d6ec",
   "metadata": {
    "ExecuteTime": {
     "end_time": "2025-10-23T04:55:40.055610Z",
     "start_time": "2025-10-23T04:55:40.051905Z"
    }
   },
   "source": [
    "fork_config = graph.update_state(\n",
    "    to_fork.config,\n",
    "    {\"messages\": [HumanMessage(content='Check tyre wear for lap 10 instead.',\n",
    "                               id=to_fork.values[\"messages\"][0].id)]},\n",
    ")"
   ],
   "outputs": [],
   "execution_count": 17
  },
  {
   "cell_type": "code",
   "id": "8ff4e9bb-8221-42d1-b7d0-b0cbd5dc374a",
   "metadata": {
    "ExecuteTime": {
     "end_time": "2025-10-23T04:55:40.062137Z",
     "start_time": "2025-10-23T04:55:40.060066Z"
    }
   },
   "source": [
    "fork_config"
   ],
   "outputs": [
    {
     "data": {
      "text/plain": [
       "{'configurable': {'thread_id': 'f1_timetravel_1',\n",
       "  'checkpoint_ns': '',\n",
       "  'checkpoint_id': '1f0afcc8-5beb-69a2-8001-8d89512dafeb'}}"
      ]
     },
     "execution_count": 18,
     "metadata": {},
     "output_type": "execute_result"
    }
   ],
   "execution_count": 18
  },
  {
   "cell_type": "code",
   "id": "586ce86c-1257-45e9-ba30-6287932b9484",
   "metadata": {
    "ExecuteTime": {
     "end_time": "2025-10-23T04:55:40.075396Z",
     "start_time": "2025-10-23T04:55:40.072252Z"
    }
   },
   "source": [
    "all_states = [state for state in graph.get_state_history(thread) ]\n",
    "all_states[0].values[\"messages\"]"
   ],
   "outputs": [
    {
     "data": {
      "text/plain": [
       "[HumanMessage(content='Check tyre wear for lap 10 instead.', additional_kwargs={}, response_metadata={}, id='5824e11a-aa59-4ada-b411-ffb0d160c5cd'),\n",
       " AIMessage(content='', additional_kwargs={'refusal': None}, response_metadata={'token_usage': {'completion_tokens': 18, 'prompt_tokens': 148, 'total_tokens': 166, 'completion_tokens_details': {'accepted_prediction_tokens': 0, 'audio_tokens': 0, 'reasoning_tokens': 0, 'rejected_prediction_tokens': 0}, 'prompt_tokens_details': {'audio_tokens': 0, 'cached_tokens': 0}}, 'model_provider': 'openai', 'model_name': 'gpt-4.1-nano-2025-04-14', 'system_fingerprint': 'fp_950f36939b', 'id': 'chatcmpl-CTheJE1wgrBgnEtrVLPVOlNpOS82I', 'service_tier': 'default', 'finish_reason': 'tool_calls', 'logprobs': None}, id='lc_run--35f6e85b-ffa6-4655-b77f-6c1daa4a76a9-0', tool_calls=[{'name': 'check_tyre_wear', 'args': {'lap_number': 25}, 'id': 'call_BXLB0qFuytZF2uqUDa36EhTy', 'type': 'tool_call'}], usage_metadata={'input_tokens': 148, 'output_tokens': 18, 'total_tokens': 166, 'input_token_details': {'audio': 0, 'cache_read': 0}, 'output_token_details': {'audio': 0, 'reasoning': 0}})]"
      ]
     },
     "execution_count": 19,
     "metadata": {},
     "output_type": "execute_result"
    }
   ],
   "execution_count": 19
  },
  {
   "cell_type": "code",
   "id": "12e19798-25d8-49e8-8542-13d2b3bdf58e",
   "metadata": {
    "ExecuteTime": {
     "end_time": "2025-10-23T04:55:40.083425Z",
     "start_time": "2025-10-23T04:55:40.081179Z"
    }
   },
   "source": "graph.get_state({'configurable': {'thread_id': 'f1_timetravel_1'}})",
   "outputs": [
    {
     "data": {
      "text/plain": [
       "StateSnapshot(values={'messages': [HumanMessage(content='Check tyre wear for lap 10 instead.', additional_kwargs={}, response_metadata={}, id='5824e11a-aa59-4ada-b411-ffb0d160c5cd'), AIMessage(content='', additional_kwargs={'refusal': None}, response_metadata={'token_usage': {'completion_tokens': 18, 'prompt_tokens': 148, 'total_tokens': 166, 'completion_tokens_details': {'accepted_prediction_tokens': 0, 'audio_tokens': 0, 'reasoning_tokens': 0, 'rejected_prediction_tokens': 0}, 'prompt_tokens_details': {'audio_tokens': 0, 'cached_tokens': 0}}, 'model_provider': 'openai', 'model_name': 'gpt-4.1-nano-2025-04-14', 'system_fingerprint': 'fp_950f36939b', 'id': 'chatcmpl-CTheJE1wgrBgnEtrVLPVOlNpOS82I', 'service_tier': 'default', 'finish_reason': 'tool_calls', 'logprobs': None}, id='lc_run--35f6e85b-ffa6-4655-b77f-6c1daa4a76a9-0', tool_calls=[{'name': 'check_tyre_wear', 'args': {'lap_number': 25}, 'id': 'call_BXLB0qFuytZF2uqUDa36EhTy', 'type': 'tool_call'}], usage_metadata={'input_tokens': 148, 'output_tokens': 18, 'total_tokens': 166, 'input_token_details': {'audio': 0, 'cache_read': 0}, 'output_token_details': {'audio': 0, 'reasoning': 0}})]}, next=('tools',), config={'configurable': {'thread_id': 'f1_timetravel_1', 'checkpoint_ns': '', 'checkpoint_id': '1f0afcc8-5beb-69a2-8001-8d89512dafeb'}}, metadata={'source': 'update', 'step': 1, 'parents': {}}, created_at='2025-10-23T04:55:40.054356+00:00', parent_config={'configurable': {'thread_id': 'f1_timetravel_1', 'checkpoint_ns': '', 'checkpoint_id': '1f0afcc8-2a68-6d44-8000-433a46f2251e'}}, tasks=(PregelTask(id='8c68d72d-eab2-6e7a-8c37-91da9efe343c', name='tools', path=('__pregel_pull', 'tools'), error=None, interrupts=(), state=None, result=None),), interrupts=())"
      ]
     },
     "execution_count": 20,
     "metadata": {},
     "output_type": "execute_result"
    }
   ],
   "execution_count": 20
  },
  {
   "cell_type": "code",
   "id": "1c49f2a8-b325-45e4-b36c-17fab1b37cc0",
   "metadata": {
    "ExecuteTime": {
     "end_time": "2025-10-23T04:55:43.354779Z",
     "start_time": "2025-10-23T04:55:40.089435Z"
    }
   },
   "source": [
    "for event in graph.stream(None, fork_config, stream_mode=\"values\"):\n",
    "     if \"messages\" in event:\n",
    "        event['messages'][-1].pretty_print()"
   ],
   "outputs": [
    {
     "name": "stdout",
     "output_type": "stream",
     "text": [
      "==================================\u001B[1m Ai Message \u001B[0m==================================\n",
      "Tool Calls:\n",
      "  check_tyre_wear (call_BXLB0qFuytZF2uqUDa36EhTy)\n",
      " Call ID: call_BXLB0qFuytZF2uqUDa36EhTy\n",
      "  Args:\n",
      "    lap_number: 25\n",
      "=================================\u001B[1m Tool Message \u001B[0m=================================\n",
      "Name: check_tyre_wear\n",
      "\n",
      "Lap 25: Tyre wear is medium. Estimated 50% life remaining.\n",
      "==================================\u001B[1m Ai Message \u001B[0m==================================\n",
      "\n",
      "I will check the tyre wear for lap 10 now.\n",
      "Tool Calls:\n",
      "  check_tyre_wear (call_PxyfVvpFlLNRAmBj0DcH3StW)\n",
      " Call ID: call_PxyfVvpFlLNRAmBj0DcH3StW\n",
      "  Args:\n",
      "    lap_number: 10\n",
      "=================================\u001B[1m Tool Message \u001B[0m=================================\n",
      "Name: check_tyre_wear\n",
      "\n",
      "Lap 10: Tyre wear is low. Estimated 85% life remaining.\n",
      "==================================\u001B[1m Ai Message \u001B[0m==================================\n",
      "\n",
      "Tyre wear at lap 10 was low with approximately 85% tyre life remaining. If you need any strategic advice based on this information, please let me know.\n"
     ]
    }
   ],
   "execution_count": 21
  },
  {
   "cell_type": "code",
   "id": "132ef840-64c7-479c-ad34-3f177f4b2524",
   "metadata": {
    "ExecuteTime": {
     "end_time": "2025-10-23T04:55:43.364877Z",
     "start_time": "2025-10-23T04:55:43.362505Z"
    }
   },
   "source": "graph.get_state({'configurable': {'thread_id': 'f1_timetravel_1'}})",
   "outputs": [
    {
     "data": {
      "text/plain": [
       "StateSnapshot(values={'messages': [HumanMessage(content='Check tyre wear for lap 10 instead.', additional_kwargs={}, response_metadata={}, id='5824e11a-aa59-4ada-b411-ffb0d160c5cd'), AIMessage(content='', additional_kwargs={'refusal': None}, response_metadata={'token_usage': {'completion_tokens': 18, 'prompt_tokens': 148, 'total_tokens': 166, 'completion_tokens_details': {'accepted_prediction_tokens': 0, 'audio_tokens': 0, 'reasoning_tokens': 0, 'rejected_prediction_tokens': 0}, 'prompt_tokens_details': {'audio_tokens': 0, 'cached_tokens': 0}}, 'model_provider': 'openai', 'model_name': 'gpt-4.1-nano-2025-04-14', 'system_fingerprint': 'fp_950f36939b', 'id': 'chatcmpl-CTheJE1wgrBgnEtrVLPVOlNpOS82I', 'service_tier': 'default', 'finish_reason': 'tool_calls', 'logprobs': None}, id='lc_run--35f6e85b-ffa6-4655-b77f-6c1daa4a76a9-0', tool_calls=[{'name': 'check_tyre_wear', 'args': {'lap_number': 25}, 'id': 'call_BXLB0qFuytZF2uqUDa36EhTy', 'type': 'tool_call'}], usage_metadata={'input_tokens': 148, 'output_tokens': 18, 'total_tokens': 166, 'input_token_details': {'audio': 0, 'cache_read': 0}, 'output_token_details': {'audio': 0, 'reasoning': 0}}), ToolMessage(content='Lap 25: Tyre wear is medium. Estimated 50% life remaining.', name='check_tyre_wear', id='37e199cb-b384-4186-977d-be930ae651cc', tool_call_id='call_BXLB0qFuytZF2uqUDa36EhTy'), AIMessage(content='I will check the tyre wear for lap 10 now.', additional_kwargs={'refusal': None}, response_metadata={'token_usage': {'completion_tokens': 31, 'prompt_tokens': 195, 'total_tokens': 226, 'completion_tokens_details': {'accepted_prediction_tokens': 0, 'audio_tokens': 0, 'reasoning_tokens': 0, 'rejected_prediction_tokens': 0}, 'prompt_tokens_details': {'audio_tokens': 0, 'cached_tokens': 0}}, 'model_provider': 'openai', 'model_name': 'gpt-4.1-nano-2025-04-14', 'system_fingerprint': 'fp_950f36939b', 'id': 'chatcmpl-CTheOFmV9aa05W9PgT4lTZbphk7QG', 'service_tier': 'default', 'finish_reason': 'tool_calls', 'logprobs': None}, id='lc_run--898bc350-1f11-4313-81ac-b3a82aa9f1d6-0', tool_calls=[{'name': 'check_tyre_wear', 'args': {'lap_number': 10}, 'id': 'call_PxyfVvpFlLNRAmBj0DcH3StW', 'type': 'tool_call'}], usage_metadata={'input_tokens': 195, 'output_tokens': 31, 'total_tokens': 226, 'input_token_details': {'audio': 0, 'cache_read': 0}, 'output_token_details': {'audio': 0, 'reasoning': 0}}), ToolMessage(content='Lap 10: Tyre wear is low. Estimated 85% life remaining.', name='check_tyre_wear', id='09101398-d84c-4350-a794-77f7d2db6fc1', tool_call_id='call_PxyfVvpFlLNRAmBj0DcH3StW'), AIMessage(content='Tyre wear at lap 10 was low with approximately 85% tyre life remaining. If you need any strategic advice based on this information, please let me know.', additional_kwargs={'refusal': None}, response_metadata={'token_usage': {'completion_tokens': 35, 'prompt_tokens': 257, 'total_tokens': 292, 'completion_tokens_details': {'accepted_prediction_tokens': 0, 'audio_tokens': 0, 'reasoning_tokens': 0, 'rejected_prediction_tokens': 0}, 'prompt_tokens_details': {'audio_tokens': 0, 'cached_tokens': 0}}, 'model_provider': 'openai', 'model_name': 'gpt-4.1-nano-2025-04-14', 'system_fingerprint': 'fp_950f36939b', 'id': 'chatcmpl-CTheQ4T9TqlR4fGNZuD1v1IMO7Sc2', 'service_tier': 'default', 'finish_reason': 'stop', 'logprobs': None}, id='lc_run--98dfe85e-410c-4f86-9734-e91b7e016e60-0', usage_metadata={'input_tokens': 257, 'output_tokens': 35, 'total_tokens': 292, 'input_token_details': {'audio': 0, 'cache_read': 0}, 'output_token_details': {'audio': 0, 'reasoning': 0}})]}, next=(), config={'configurable': {'thread_id': 'f1_timetravel_1', 'checkpoint_ns': '', 'checkpoint_id': '1f0afcc8-7b5d-6862-8005-14ed634f9267'}}, metadata={'source': 'loop', 'step': 5, 'parents': {}}, created_at='2025-10-23T04:55:43.351605+00:00', parent_config={'configurable': {'thread_id': 'f1_timetravel_1', 'checkpoint_ns': '', 'checkpoint_id': '1f0afcc8-6d7a-6ba0-8004-a5e801b7b8e2'}}, tasks=(), interrupts=())"
      ]
     },
     "execution_count": 22,
     "metadata": {},
     "output_type": "execute_result"
    }
   ],
   "execution_count": 22
  },
  {
   "cell_type": "code",
   "id": "891defdb-746c-48e4-8efa-bb5f138dc4bd",
   "metadata": {
    "ExecuteTime": {
     "end_time": "2025-10-23T04:55:43.373903Z",
     "start_time": "2025-10-23T04:55:43.372409Z"
    }
   },
   "source": [
    "if 'google.colab' in str(get_ipython()):\n",
    "    raise Exception(\"Unfortunately LangGraph Studio is currently not supported on Google Colab\")"
   ],
   "outputs": [],
   "execution_count": 23
  },
  {
   "cell_type": "code",
   "id": "a317925d-1788-4cfc-9c12-336b17b4d859",
   "metadata": {
    "ExecuteTime": {
     "end_time": "2025-10-23T04:55:43.388768Z",
     "start_time": "2025-10-23T04:55:43.379020Z"
    }
   },
   "source": [
    "from langgraph_sdk import get_client\n",
    "client = get_client(url=\"http://127.0.0.1:2024\")"
   ],
   "outputs": [],
   "execution_count": 24
  },
  {
   "cell_type": "code",
   "id": "9d4d01da-7b64-4c92-96b7-29ec93332d0b",
   "metadata": {
    "ExecuteTime": {
     "end_time": "2025-10-23T04:55:45.978731Z",
     "start_time": "2025-10-23T04:55:43.395111Z"
    }
   },
   "source": [
    "initial_input = {\"messages\": [HumanMessage(content=\"What's the weather forecast for sector 2?\")]}\n",
    "thread = await client.threads.create()\n",
    "async for chunk in client.runs.stream(\n",
    "    thread[\"thread_id\"],\n",
    "    assistant_id = \"f1_race_data\",\n",
    "    input=initial_input,\n",
    "    stream_mode=\"updates\",\n",
    "):\n",
    "    if chunk.data:\n",
    "        assisant_node = chunk.data.get('assistant', {}).get('messages', [])\n",
    "        tool_node = chunk.data.get('tools', {}).get('messages', [])\n",
    "        if assisant_node:\n",
    "            print(\"-\" * 20+\"Assistant Node\"+\"-\" * 20)\n",
    "            print(assisant_node[-1])\n",
    "        elif tool_node:\n",
    "            print(\"-\" * 20+\"Tools Node\"+\"-\" * 20)\n",
    "            print(tool_node[-1])"
   ],
   "outputs": [
    {
     "name": "stdout",
     "output_type": "stream",
     "text": [
      "--------------------Assistant Node--------------------\n",
      "{'content': '', 'additional_kwargs': {'refusal': None}, 'response_metadata': {'token_usage': {'completion_tokens': 16, 'prompt_tokens': 149, 'total_tokens': 165, 'completion_tokens_details': {'accepted_prediction_tokens': 0, 'audio_tokens': 0, 'reasoning_tokens': 0, 'rejected_prediction_tokens': 0}, 'prompt_tokens_details': {'audio_tokens': 0, 'cached_tokens': 0}}, 'model_provider': 'openai', 'model_name': 'gpt-4o-2024-08-06', 'system_fingerprint': 'fp_cbf1785567', 'id': 'chatcmpl-CTheSpFwAC6UVLO4y5Od7MGsEFB4N', 'service_tier': 'default', 'finish_reason': 'tool_calls', 'logprobs': None}, 'type': 'ai', 'name': None, 'id': 'lc_run--2323dc81-d799-45a9-a8f6-4c3bb2245c70-0', 'tool_calls': [{'name': 'get_weather_forecast', 'args': {'sector': 2}, 'id': 'call_lH6GZDKff2boB293pTBD9zBe', 'type': 'tool_call'}], 'invalid_tool_calls': [], 'usage_metadata': {'input_tokens': 149, 'output_tokens': 16, 'total_tokens': 165, 'input_token_details': {'audio': 0, 'cache_read': 0}, 'output_token_details': {'audio': 0, 'reasoning': 0}}}\n",
      "--------------------Tools Node--------------------\n",
      "{'content': 'Sector 2: Slight chance of light drizzle in the next 10 laps.', 'additional_kwargs': {}, 'response_metadata': {}, 'type': 'tool', 'name': 'get_weather_forecast', 'id': '03f688c2-17f9-46f1-b4c0-34977c78af94', 'tool_call_id': 'call_lH6GZDKff2boB293pTBD9zBe', 'artifact': None, 'status': 'success'}\n",
      "--------------------Assistant Node--------------------\n",
      "{'content': \"There's a slight chance of light drizzle in Sector 2 over the next 10 laps. Adjust your driving accordingly and be prepared for changing grip levels.\", 'additional_kwargs': {'refusal': None}, 'response_metadata': {'token_usage': {'completion_tokens': 31, 'prompt_tokens': 191, 'total_tokens': 222, 'completion_tokens_details': {'accepted_prediction_tokens': 0, 'audio_tokens': 0, 'reasoning_tokens': 0, 'rejected_prediction_tokens': 0}, 'prompt_tokens_details': {'audio_tokens': 0, 'cached_tokens': 0}}, 'model_provider': 'openai', 'model_name': 'gpt-4o-2024-08-06', 'system_fingerprint': 'fp_cbf1785567', 'id': 'chatcmpl-CTheTsyEsU0uPAXkbDSyArFpiy8Hw', 'service_tier': 'default', 'finish_reason': 'stop', 'logprobs': None}, 'type': 'ai', 'name': None, 'id': 'lc_run--19b96d55-71d0-40ca-8937-d0afb82f0a41-0', 'tool_calls': [], 'invalid_tool_calls': [], 'usage_metadata': {'input_tokens': 191, 'output_tokens': 31, 'total_tokens': 222, 'input_token_details': {'audio': 0, 'cache_read': 0}, 'output_token_details': {'audio': 0, 'reasoning': 0}}}\n"
     ]
    }
   ],
   "execution_count": 25
  },
  {
   "cell_type": "code",
   "id": "d8ecc4fd",
   "metadata": {
    "ExecuteTime": {
     "end_time": "2025-10-23T04:55:45.995298Z",
     "start_time": "2025-10-23T04:55:45.986535Z"
    }
   },
   "source": [
    "states = await client.threads.get_history(thread['thread_id'])\n",
    "to_replay = states[-2]\n",
    "to_replay"
   ],
   "outputs": [
    {
     "data": {
      "text/plain": [
       "{'values': {'messages': [{'content': \"What's the weather forecast for sector 2?\",\n",
       "    'additional_kwargs': {},\n",
       "    'response_metadata': {},\n",
       "    'type': 'human',\n",
       "    'name': None,\n",
       "    'id': 'af41acc3-e55a-4322-ad77-5b8b98b54704'}]},\n",
       " 'next': ['assistant'],\n",
       " 'tasks': [{'id': '07a3ae9c-2c3e-7fc1-a4f6-e8733020ca7f',\n",
       "   'name': 'assistant',\n",
       "   'path': ['__pregel_pull', 'assistant'],\n",
       "   'error': None,\n",
       "   'interrupts': [],\n",
       "   'checkpoint': None,\n",
       "   'state': None,\n",
       "   'result': {'messages': [{'content': '',\n",
       "      'additional_kwargs': {'refusal': None},\n",
       "      'response_metadata': {'token_usage': {'completion_tokens': 16,\n",
       "        'prompt_tokens': 149,\n",
       "        'total_tokens': 165,\n",
       "        'completion_tokens_details': {'accepted_prediction_tokens': 0,\n",
       "         'audio_tokens': 0,\n",
       "         'reasoning_tokens': 0,\n",
       "         'rejected_prediction_tokens': 0},\n",
       "        'prompt_tokens_details': {'audio_tokens': 0, 'cached_tokens': 0}},\n",
       "       'model_provider': 'openai',\n",
       "       'model_name': 'gpt-4o-2024-08-06',\n",
       "       'system_fingerprint': 'fp_cbf1785567',\n",
       "       'id': 'chatcmpl-CTheSpFwAC6UVLO4y5Od7MGsEFB4N',\n",
       "       'service_tier': 'default',\n",
       "       'finish_reason': 'tool_calls',\n",
       "       'logprobs': None},\n",
       "      'type': 'ai',\n",
       "      'name': None,\n",
       "      'id': 'lc_run--2323dc81-d799-45a9-a8f6-4c3bb2245c70-0',\n",
       "      'tool_calls': [{'name': 'get_weather_forecast',\n",
       "        'args': {'sector': 2},\n",
       "        'id': 'call_lH6GZDKff2boB293pTBD9zBe',\n",
       "        'type': 'tool_call'}],\n",
       "      'invalid_tool_calls': [],\n",
       "      'usage_metadata': {'input_tokens': 149,\n",
       "       'output_tokens': 16,\n",
       "       'total_tokens': 165,\n",
       "       'input_token_details': {'audio': 0, 'cache_read': 0},\n",
       "       'output_token_details': {'audio': 0, 'reasoning': 0}}}]}}],\n",
       " 'metadata': {'langgraph_auth_user': None,\n",
       "  'langgraph_auth_user_id': '',\n",
       "  'langgraph_auth_permissions': [],\n",
       "  'langgraph_request_id': 'ffae2d9d-ebb9-4e8e-be91-a84a68c5d31a',\n",
       "  'graph_id': 'f1_race_data',\n",
       "  'assistant_id': '925333f2-6df8-5b33-8365-b2f75b18da00',\n",
       "  'user_id': '',\n",
       "  'created_by': 'system',\n",
       "  'run_attempt': 1,\n",
       "  'langgraph_version': '1.0.1',\n",
       "  'langgraph_api_version': '0.4.42',\n",
       "  'langgraph_plan': 'developer',\n",
       "  'langgraph_host': 'self-hosted',\n",
       "  'langgraph_api_url': 'http://127.0.0.1:2024',\n",
       "  'run_id': '019a0f6c-3e2a-73f3-a7e1-eb25e7ba0d6a',\n",
       "  'thread_id': '9d043266-b4e5-4862-bfe6-0917e5a310bd',\n",
       "  'source': 'loop',\n",
       "  'step': 0,\n",
       "  'parents': {}},\n",
       " 'created_at': '2025-10-23T04:55:44.180855+00:00',\n",
       " 'checkpoint': {'checkpoint_id': '1f0afcc8-8346-6100-8000-0b80140a5461',\n",
       "  'thread_id': '9d043266-b4e5-4862-bfe6-0917e5a310bd',\n",
       "  'checkpoint_ns': ''},\n",
       " 'parent_checkpoint': {'checkpoint_id': '1f0afcc8-8344-61c0-bfff-1ccb1fd8a11a',\n",
       "  'thread_id': '9d043266-b4e5-4862-bfe6-0917e5a310bd',\n",
       "  'checkpoint_ns': ''},\n",
       " 'interrupts': [],\n",
       " 'checkpoint_id': '1f0afcc8-8346-6100-8000-0b80140a5461',\n",
       " 'parent_checkpoint_id': '1f0afcc8-8344-61c0-bfff-1ccb1fd8a11a'}"
      ]
     },
     "execution_count": 26,
     "metadata": {},
     "output_type": "execute_result"
    }
   ],
   "execution_count": 26
  },
  {
   "cell_type": "code",
   "id": "325e8272",
   "metadata": {
    "ExecuteTime": {
     "end_time": "2025-10-23T04:55:48.963102Z",
     "start_time": "2025-10-23T04:55:45.999769Z"
    }
   },
   "source": [
    "async for chunk in client.runs.stream(\n",
    "    thread[\"thread_id\"],\n",
    "    assistant_id=\"f1_race_data\",\n",
    "    input=None,\n",
    "    stream_mode=\"values\",\n",
    "    checkpoint_id=to_replay['checkpoint_id']\n",
    "):      \n",
    "    print(f\"Receiving new event of type: {chunk.event}...\")\n",
    "    print(chunk.data)\n",
    "    print(\"\\n\\n\")"
   ],
   "outputs": [
    {
     "name": "stdout",
     "output_type": "stream",
     "text": [
      "Receiving new event of type: metadata...\n",
      "{'run_id': '019a0f6c-4852-72f8-9e38-1242aa2effbf', 'attempt': 1}\n",
      "\n",
      "\n",
      "\n",
      "Receiving new event of type: values...\n",
      "{'messages': [{'content': \"What's the weather forecast for sector 2?\", 'additional_kwargs': {}, 'response_metadata': {}, 'type': 'human', 'name': None, 'id': 'af41acc3-e55a-4322-ad77-5b8b98b54704'}]}\n",
      "\n",
      "\n",
      "\n",
      "Receiving new event of type: values...\n",
      "{'messages': [{'content': \"What's the weather forecast for sector 2?\", 'additional_kwargs': {}, 'response_metadata': {}, 'type': 'human', 'name': None, 'id': 'af41acc3-e55a-4322-ad77-5b8b98b54704'}, {'content': '', 'additional_kwargs': {'refusal': None}, 'response_metadata': {'token_usage': {'completion_tokens': 16, 'prompt_tokens': 149, 'total_tokens': 165, 'completion_tokens_details': {'accepted_prediction_tokens': 0, 'audio_tokens': 0, 'reasoning_tokens': 0, 'rejected_prediction_tokens': 0}, 'prompt_tokens_details': {'audio_tokens': 0, 'cached_tokens': 0}}, 'model_provider': 'openai', 'model_name': 'gpt-4o-2024-08-06', 'system_fingerprint': 'fp_cbf1785567', 'id': 'chatcmpl-CTheUbskSGc0b4Mfj2yOvrdKCunIW', 'service_tier': 'default', 'finish_reason': 'tool_calls', 'logprobs': None}, 'type': 'ai', 'name': None, 'id': 'lc_run--7e26119b-932d-441c-9c56-fe9e92d2ea3c-0', 'tool_calls': [{'name': 'get_weather_forecast', 'args': {'sector': 2}, 'id': 'call_1IlBhsRX61LDiqyZy3sjmuSh', 'type': 'tool_call'}], 'invalid_tool_calls': [], 'usage_metadata': {'input_tokens': 149, 'output_tokens': 16, 'total_tokens': 165, 'input_token_details': {'audio': 0, 'cache_read': 0}, 'output_token_details': {'audio': 0, 'reasoning': 0}}}]}\n",
      "\n",
      "\n",
      "\n",
      "Receiving new event of type: values...\n",
      "{'messages': [{'content': \"What's the weather forecast for sector 2?\", 'additional_kwargs': {}, 'response_metadata': {}, 'type': 'human', 'name': None, 'id': 'af41acc3-e55a-4322-ad77-5b8b98b54704'}, {'content': '', 'additional_kwargs': {'refusal': None}, 'response_metadata': {'token_usage': {'completion_tokens': 16, 'prompt_tokens': 149, 'total_tokens': 165, 'completion_tokens_details': {'accepted_prediction_tokens': 0, 'audio_tokens': 0, 'reasoning_tokens': 0, 'rejected_prediction_tokens': 0}, 'prompt_tokens_details': {'audio_tokens': 0, 'cached_tokens': 0}}, 'model_provider': 'openai', 'model_name': 'gpt-4o-2024-08-06', 'system_fingerprint': 'fp_cbf1785567', 'id': 'chatcmpl-CTheUbskSGc0b4Mfj2yOvrdKCunIW', 'service_tier': 'default', 'finish_reason': 'tool_calls', 'logprobs': None}, 'type': 'ai', 'name': None, 'id': 'lc_run--7e26119b-932d-441c-9c56-fe9e92d2ea3c-0', 'tool_calls': [{'name': 'get_weather_forecast', 'args': {'sector': 2}, 'id': 'call_1IlBhsRX61LDiqyZy3sjmuSh', 'type': 'tool_call'}], 'invalid_tool_calls': [], 'usage_metadata': {'input_tokens': 149, 'output_tokens': 16, 'total_tokens': 165, 'input_token_details': {'audio': 0, 'cache_read': 0}, 'output_token_details': {'audio': 0, 'reasoning': 0}}}, {'content': 'Sector 2: Slight chance of light drizzle in the next 10 laps.', 'additional_kwargs': {}, 'response_metadata': {}, 'type': 'tool', 'name': 'get_weather_forecast', 'id': '99536ba9-aeee-4cff-b940-9d915cbaf5a5', 'tool_call_id': 'call_1IlBhsRX61LDiqyZy3sjmuSh', 'artifact': None, 'status': 'success'}]}\n",
      "\n",
      "\n",
      "\n",
      "Receiving new event of type: values...\n",
      "{'messages': [{'content': \"What's the weather forecast for sector 2?\", 'additional_kwargs': {}, 'response_metadata': {}, 'type': 'human', 'name': None, 'id': 'af41acc3-e55a-4322-ad77-5b8b98b54704'}, {'content': '', 'additional_kwargs': {'refusal': None}, 'response_metadata': {'token_usage': {'completion_tokens': 16, 'prompt_tokens': 149, 'total_tokens': 165, 'completion_tokens_details': {'accepted_prediction_tokens': 0, 'audio_tokens': 0, 'reasoning_tokens': 0, 'rejected_prediction_tokens': 0}, 'prompt_tokens_details': {'audio_tokens': 0, 'cached_tokens': 0}}, 'model_provider': 'openai', 'model_name': 'gpt-4o-2024-08-06', 'system_fingerprint': 'fp_cbf1785567', 'id': 'chatcmpl-CTheUbskSGc0b4Mfj2yOvrdKCunIW', 'service_tier': 'default', 'finish_reason': 'tool_calls', 'logprobs': None}, 'type': 'ai', 'name': None, 'id': 'lc_run--7e26119b-932d-441c-9c56-fe9e92d2ea3c-0', 'tool_calls': [{'name': 'get_weather_forecast', 'args': {'sector': 2}, 'id': 'call_1IlBhsRX61LDiqyZy3sjmuSh', 'type': 'tool_call'}], 'invalid_tool_calls': [], 'usage_metadata': {'input_tokens': 149, 'output_tokens': 16, 'total_tokens': 165, 'input_token_details': {'audio': 0, 'cache_read': 0}, 'output_token_details': {'audio': 0, 'reasoning': 0}}}, {'content': 'Sector 2: Slight chance of light drizzle in the next 10 laps.', 'additional_kwargs': {}, 'response_metadata': {}, 'type': 'tool', 'name': 'get_weather_forecast', 'id': '99536ba9-aeee-4cff-b940-9d915cbaf5a5', 'tool_call_id': 'call_1IlBhsRX61LDiqyZy3sjmuSh', 'artifact': None, 'status': 'success'}, {'content': \"Weather Update for Sector 2: There's a slight chance of light drizzle in the next 10 laps. Be prepared for potential changes in track conditions.\", 'additional_kwargs': {'refusal': None}, 'response_metadata': {'token_usage': {'completion_tokens': 31, 'prompt_tokens': 191, 'total_tokens': 222, 'completion_tokens_details': {'accepted_prediction_tokens': 0, 'audio_tokens': 0, 'reasoning_tokens': 0, 'rejected_prediction_tokens': 0}, 'prompt_tokens_details': {'audio_tokens': 0, 'cached_tokens': 0}}, 'model_provider': 'openai', 'model_name': 'gpt-4o-2024-08-06', 'system_fingerprint': 'fp_cbf1785567', 'id': 'chatcmpl-CTheVrOM6mWGlQHncVImoXMyu0ZZE', 'service_tier': 'default', 'finish_reason': 'stop', 'logprobs': None}, 'type': 'ai', 'name': None, 'id': 'lc_run--6d27d9dd-3ec9-4c49-9472-5b1931d83086-0', 'tool_calls': [], 'invalid_tool_calls': [], 'usage_metadata': {'input_tokens': 191, 'output_tokens': 31, 'total_tokens': 222, 'input_token_details': {'audio': 0, 'cache_read': 0}, 'output_token_details': {'audio': 0, 'reasoning': 0}}}]}\n",
      "\n",
      "\n",
      "\n"
     ]
    }
   ],
   "execution_count": 27
  },
  {
   "cell_type": "code",
   "id": "9e608e93",
   "metadata": {
    "ExecuteTime": {
     "end_time": "2025-10-23T04:55:51.525195Z",
     "start_time": "2025-10-23T04:55:48.971426Z"
    }
   },
   "source": [
    "async for chunk in client.runs.stream(\n",
    "    thread[\"thread_id\"],\n",
    "    assistant_id=\"f1_race_data\",\n",
    "    input=None,\n",
    "    stream_mode=\"updates\",\n",
    "    checkpoint_id=to_replay['checkpoint_id']\n",
    "):\n",
    "    if chunk.data:\n",
    "        assisant_node = chunk.data.get('assistant', {}).get('messages', [])\n",
    "        tool_node = chunk.data.get('tools', {}).get('messages', [])\n",
    "        if assisant_node:\n",
    "            print(\"-\" * 20+\"Assistant Node\"+\"-\" * 20)\n",
    "            print(assisant_node[-1])\n",
    "        elif tool_node:\n",
    "            print(\"-\" * 20+\"Tools Node\"+\"-\" * 20)\n",
    "            print(tool_node[-1])"
   ],
   "outputs": [
    {
     "name": "stdout",
     "output_type": "stream",
     "text": [
      "--------------------Assistant Node--------------------\n",
      "{'content': '', 'additional_kwargs': {'refusal': None}, 'response_metadata': {'token_usage': {'completion_tokens': 16, 'prompt_tokens': 149, 'total_tokens': 165, 'completion_tokens_details': {'accepted_prediction_tokens': 0, 'audio_tokens': 0, 'reasoning_tokens': 0, 'rejected_prediction_tokens': 0}, 'prompt_tokens_details': {'audio_tokens': 0, 'cached_tokens': 0}}, 'model_provider': 'openai', 'model_name': 'gpt-4o-2024-08-06', 'system_fingerprint': 'fp_cbf1785567', 'id': 'chatcmpl-CTheXSR1Fn8XClHtziYTcZiPBd87Y', 'service_tier': 'default', 'finish_reason': 'tool_calls', 'logprobs': None}, 'type': 'ai', 'name': None, 'id': 'lc_run--e81542cf-8090-4ed9-adab-1dc5935f2b55-0', 'tool_calls': [{'name': 'get_weather_forecast', 'args': {'sector': 2}, 'id': 'call_cl5zybZrbwkIf2kPaUMCnDHO', 'type': 'tool_call'}], 'invalid_tool_calls': [], 'usage_metadata': {'input_tokens': 149, 'output_tokens': 16, 'total_tokens': 165, 'input_token_details': {'audio': 0, 'cache_read': 0}, 'output_token_details': {'audio': 0, 'reasoning': 0}}}\n",
      "--------------------Tools Node--------------------\n",
      "{'content': 'Sector 2: Slight chance of light drizzle in the next 10 laps.', 'additional_kwargs': {}, 'response_metadata': {}, 'type': 'tool', 'name': 'get_weather_forecast', 'id': '5fd4b1e0-fd13-4b9d-a65d-f71c3336ad5a', 'tool_call_id': 'call_cl5zybZrbwkIf2kPaUMCnDHO', 'artifact': None, 'status': 'success'}\n",
      "--------------------Assistant Node--------------------\n",
      "{'content': \"In Sector 2, there's a slight chance of light drizzle in the next 10 laps. Keep this in mind for grip and tyre considerations.\", 'additional_kwargs': {'refusal': None}, 'response_metadata': {'token_usage': {'completion_tokens': 30, 'prompt_tokens': 191, 'total_tokens': 221, 'completion_tokens_details': {'accepted_prediction_tokens': 0, 'audio_tokens': 0, 'reasoning_tokens': 0, 'rejected_prediction_tokens': 0}, 'prompt_tokens_details': {'audio_tokens': 0, 'cached_tokens': 0}}, 'model_provider': 'openai', 'model_name': 'gpt-4o-2024-08-06', 'system_fingerprint': 'fp_cbf1785567', 'id': 'chatcmpl-CTheYEESEua6ZfjTjQgwrw8YhhEys', 'service_tier': 'default', 'finish_reason': 'stop', 'logprobs': None}, 'type': 'ai', 'name': None, 'id': 'lc_run--3341dd70-0051-417d-ab9c-dc3ff74d45b5-0', 'tool_calls': [], 'invalid_tool_calls': [], 'usage_metadata': {'input_tokens': 191, 'output_tokens': 30, 'total_tokens': 221, 'input_token_details': {'audio': 0, 'cache_read': 0}, 'output_token_details': {'audio': 0, 'reasoning': 0}}}\n"
     ]
    }
   ],
   "execution_count": 28
  },
  {
   "cell_type": "code",
   "id": "01af5ed4",
   "metadata": {
    "ExecuteTime": {
     "end_time": "2025-10-23T04:55:54.624068Z",
     "start_time": "2025-10-23T04:55:51.529935Z"
    }
   },
   "source": [
    "initial_input = {\"messages\": [HumanMessage(content=\"Strategy check: lap 20, 35 laps left.\")]}\n",
    "thread = await client.threads.create()\n",
    "async for chunk in client.runs.stream(\n",
    "    thread[\"thread_id\"],\n",
    "    assistant_id=\"f1_race_data\",\n",
    "    input=initial_input,\n",
    "    stream_mode=\"updates\",\n",
    "):\n",
    "     if chunk.data:\n",
    "        assisant_node = chunk.data.get('assistant', {}).get('messages', [])\n",
    "        tool_node = chunk.data.get('tools', {}).get('messages', [])\n",
    "        if assisant_node:\n",
    "            print(\"-\" * 20+\"Assistant Node\"+\"-\" * 20)\n",
    "            print(assisant_node[-1])\n",
    "        elif tool_node:\n",
    "            print(\"-\" * 20+\"Tools Node\"+\"-\" * 20)\n",
    "            print(tool_node[-1])"
   ],
   "outputs": [
    {
     "name": "stdout",
     "output_type": "stream",
     "text": [
      "--------------------Assistant Node--------------------\n",
      "{'content': '', 'additional_kwargs': {'refusal': None}, 'response_metadata': {'token_usage': {'completion_tokens': 58, 'prompt_tokens': 152, 'total_tokens': 210, 'completion_tokens_details': {'accepted_prediction_tokens': 0, 'audio_tokens': 0, 'reasoning_tokens': 0, 'rejected_prediction_tokens': 0}, 'prompt_tokens_details': {'audio_tokens': 0, 'cached_tokens': 0}}, 'model_provider': 'openai', 'model_name': 'gpt-4o-2024-08-06', 'system_fingerprint': 'fp_cbf1785567', 'id': 'chatcmpl-CTheaxHT6AZUf1fWIW0dZfd6g8GB5', 'service_tier': 'default', 'finish_reason': 'tool_calls', 'logprobs': None}, 'type': 'ai', 'name': None, 'id': 'lc_run--1843d7d8-be47-4993-8cb6-5807c0d059dc-0', 'tool_calls': [{'name': 'suggest_pit_strategy', 'args': {'current_lap': 20, 'laps_remaining': 35}, 'id': 'call_sKQjecAdYf14ulJp6OcMSkxU', 'type': 'tool_call'}, {'name': 'check_tyre_wear', 'args': {'lap_number': 20}, 'id': 'call_OxCmDWe40BHlU61nThK7r7r5', 'type': 'tool_call'}], 'invalid_tool_calls': [], 'usage_metadata': {'input_tokens': 152, 'output_tokens': 58, 'total_tokens': 210, 'input_token_details': {'audio': 0, 'cache_read': 0}, 'output_token_details': {'audio': 0, 'reasoning': 0}}}\n",
      "--------------------Tools Node--------------------\n",
      "{'content': 'Lap 20: Tyre wear is medium. Estimated 50% life remaining.', 'additional_kwargs': {}, 'response_metadata': {}, 'type': 'tool', 'name': 'check_tyre_wear', 'id': '1cfa24eb-043d-406c-a872-62c22bd5aacb', 'tool_call_id': 'call_OxCmDWe40BHlU61nThK7r7r5', 'artifact': None, 'status': 'success'}\n",
      "--------------------Assistant Node--------------------\n",
      "{'content': \"We're currently in the optimal pit window, with tyre wear at a medium level and about 50% life remaining. Consider traffic when deciding on a pit stop.\", 'additional_kwargs': {'refusal': None}, 'response_metadata': {'token_usage': {'completion_tokens': 33, 'prompt_tokens': 258, 'total_tokens': 291, 'completion_tokens_details': {'accepted_prediction_tokens': 0, 'audio_tokens': 0, 'reasoning_tokens': 0, 'rejected_prediction_tokens': 0}, 'prompt_tokens_details': {'audio_tokens': 0, 'cached_tokens': 0}}, 'model_provider': 'openai', 'model_name': 'gpt-4o-2024-08-06', 'system_fingerprint': 'fp_cbf1785567', 'id': 'chatcmpl-CThebAXa5SCP4IpzLLus9VCIeOOBS', 'service_tier': 'default', 'finish_reason': 'stop', 'logprobs': None}, 'type': 'ai', 'name': None, 'id': 'lc_run--9d6274b4-e8ba-4c61-9c6a-dbc178115528-0', 'tool_calls': [], 'invalid_tool_calls': [], 'usage_metadata': {'input_tokens': 258, 'output_tokens': 33, 'total_tokens': 291, 'input_token_details': {'audio': 0, 'cache_read': 0}, 'output_token_details': {'audio': 0, 'reasoning': 0}}}\n"
     ]
    }
   ],
   "execution_count": 29
  },
  {
   "cell_type": "code",
   "id": "3dbc8795-c3f5-4559-a00e-dc410c0a927f",
   "metadata": {
    "ExecuteTime": {
     "end_time": "2025-10-23T04:55:54.637120Z",
     "start_time": "2025-10-23T04:55:54.630563Z"
    }
   },
   "source": [
    "states = await client.threads.get_history(thread['thread_id'])\n",
    "to_fork = states[-2]\n",
    "to_fork['values']"
   ],
   "outputs": [
    {
     "data": {
      "text/plain": [
       "{'messages': [{'content': 'Strategy check: lap 20, 35 laps left.',\n",
       "   'additional_kwargs': {},\n",
       "   'response_metadata': {},\n",
       "   'type': 'human',\n",
       "   'name': None,\n",
       "   'id': '33661613-564b-4d0a-9086-7d0912f02fe4'}]}"
      ]
     },
     "execution_count": 30,
     "metadata": {},
     "output_type": "execute_result"
    }
   ],
   "execution_count": 30
  },
  {
   "cell_type": "code",
   "id": "11e6cde1-0388-43ea-b994-1c4e9ca1199b",
   "metadata": {
    "ExecuteTime": {
     "end_time": "2025-10-23T04:55:54.645260Z",
     "start_time": "2025-10-23T04:55:54.643252Z"
    }
   },
   "source": [
    "to_fork['values']['messages'][0]['id']"
   ],
   "outputs": [
    {
     "data": {
      "text/plain": [
       "'33661613-564b-4d0a-9086-7d0912f02fe4'"
      ]
     },
     "execution_count": 31,
     "metadata": {},
     "output_type": "execute_result"
    }
   ],
   "execution_count": 31
  },
  {
   "cell_type": "code",
   "id": "0c1e2300-c8b2-4994-a96d-1be19c04b6a8",
   "metadata": {
    "ExecuteTime": {
     "end_time": "2025-10-23T04:55:54.656752Z",
     "start_time": "2025-10-23T04:55:54.654617Z"
    }
   },
   "source": [
    "to_fork['next']"
   ],
   "outputs": [
    {
     "data": {
      "text/plain": [
       "['assistant']"
      ]
     },
     "execution_count": 32,
     "metadata": {},
     "output_type": "execute_result"
    }
   ],
   "execution_count": 32
  },
  {
   "cell_type": "code",
   "id": "9d31d5aa-524f-42f4-ba7e-713a029610d6",
   "metadata": {
    "ExecuteTime": {
     "end_time": "2025-10-23T04:55:54.665245Z",
     "start_time": "2025-10-23T04:55:54.663263Z"
    }
   },
   "source": [
    "to_fork['checkpoint_id']"
   ],
   "outputs": [
    {
     "data": {
      "text/plain": [
       "'1f0afcc8-d01f-6c1a-8000-114036ed4152'"
      ]
     },
     "execution_count": 33,
     "metadata": {},
     "output_type": "execute_result"
    }
   ],
   "execution_count": 33
  },
  {
   "cell_type": "code",
   "id": "0198f1b8-2f57-4c6e-ac6a-c6fb80cce0bd",
   "metadata": {
    "ExecuteTime": {
     "end_time": "2025-10-23T04:55:54.676032Z",
     "start_time": "2025-10-23T04:55:54.669930Z"
    }
   },
   "source": [
    "forked_input = {\"messages\": HumanMessage(content=\"Strategy check: lap 30, 25 laps left.\",\n",
    "                                         id=to_fork['values']['messages'][0]['id'])}\n",
    "\n",
    "forked_config = await client.threads.update_state(\n",
    "    thread[\"thread_id\"],\n",
    "    forked_input,\n",
    "    checkpoint_id=to_fork['checkpoint_id']\n",
    ")"
   ],
   "outputs": [],
   "execution_count": 34
  },
  {
   "cell_type": "code",
   "id": "1dcd5b8e-6bb1-4967-84cf-4af710b8bf46",
   "metadata": {
    "ExecuteTime": {
     "end_time": "2025-10-23T04:55:54.681956Z",
     "start_time": "2025-10-23T04:55:54.680101Z"
    }
   },
   "source": [
    "forked_config"
   ],
   "outputs": [
    {
     "data": {
      "text/plain": [
       "{'checkpoint': {'thread_id': '4fde6b42-ff65-486a-b925-22ebb195c725',\n",
       "  'checkpoint_ns': '',\n",
       "  'checkpoint_id': '1f0afcc8-e756-6e1a-8001-18f37e3ff581'},\n",
       " 'configurable': {'thread_id': '4fde6b42-ff65-486a-b925-22ebb195c725',\n",
       "  'checkpoint_ns': '',\n",
       "  'checkpoint_id': '1f0afcc8-e756-6e1a-8001-18f37e3ff581'},\n",
       " 'checkpoint_id': '1f0afcc8-e756-6e1a-8001-18f37e3ff581'}"
      ]
     },
     "execution_count": 35,
     "metadata": {},
     "output_type": "execute_result"
    }
   ],
   "execution_count": 35
  },
  {
   "cell_type": "code",
   "id": "015ac68a-5cc1-4c42-90a2-5b2b4865a153",
   "metadata": {
    "ExecuteTime": {
     "end_time": "2025-10-23T04:55:54.694849Z",
     "start_time": "2025-10-23T04:55:54.688907Z"
    }
   },
   "source": [
    "states = await client.threads.get_history(thread['thread_id'])\n",
    "states[0]"
   ],
   "outputs": [
    {
     "data": {
      "text/plain": [
       "{'values': {'messages': [{'content': 'Strategy check: lap 30, 25 laps left.',\n",
       "    'additional_kwargs': {},\n",
       "    'response_metadata': {},\n",
       "    'type': 'human',\n",
       "    'name': None,\n",
       "    'id': '33661613-564b-4d0a-9086-7d0912f02fe4'},\n",
       "   {'content': '',\n",
       "    'additional_kwargs': {'refusal': None},\n",
       "    'response_metadata': {'token_usage': {'completion_tokens': 58,\n",
       "      'prompt_tokens': 152,\n",
       "      'total_tokens': 210,\n",
       "      'completion_tokens_details': {'accepted_prediction_tokens': 0,\n",
       "       'audio_tokens': 0,\n",
       "       'reasoning_tokens': 0,\n",
       "       'rejected_prediction_tokens': 0},\n",
       "      'prompt_tokens_details': {'audio_tokens': 0, 'cached_tokens': 0}},\n",
       "     'model_provider': 'openai',\n",
       "     'model_name': 'gpt-4o-2024-08-06',\n",
       "     'system_fingerprint': 'fp_cbf1785567',\n",
       "     'id': 'chatcmpl-CTheaxHT6AZUf1fWIW0dZfd6g8GB5',\n",
       "     'service_tier': 'default',\n",
       "     'finish_reason': 'tool_calls',\n",
       "     'logprobs': None},\n",
       "    'type': 'ai',\n",
       "    'name': None,\n",
       "    'id': 'lc_run--1843d7d8-be47-4993-8cb6-5807c0d059dc-0',\n",
       "    'tool_calls': [{'name': 'suggest_pit_strategy',\n",
       "      'args': {'current_lap': 20, 'laps_remaining': 35},\n",
       "      'id': 'call_sKQjecAdYf14ulJp6OcMSkxU',\n",
       "      'type': 'tool_call'},\n",
       "     {'name': 'check_tyre_wear',\n",
       "      'args': {'lap_number': 20},\n",
       "      'id': 'call_OxCmDWe40BHlU61nThK7r7r5',\n",
       "      'type': 'tool_call'}],\n",
       "    'invalid_tool_calls': [],\n",
       "    'usage_metadata': {'input_tokens': 152,\n",
       "     'output_tokens': 58,\n",
       "     'total_tokens': 210,\n",
       "     'input_token_details': {'audio': 0, 'cache_read': 0},\n",
       "     'output_token_details': {'audio': 0, 'reasoning': 0}}}]},\n",
       " 'next': ['tools'],\n",
       " 'tasks': [{'id': '721c4b86-b283-4cdd-91a2-c6b7bce18fcd',\n",
       "   'name': 'tools',\n",
       "   'path': ['__pregel_pull', 'tools'],\n",
       "   'error': None,\n",
       "   'interrupts': [],\n",
       "   'checkpoint': None,\n",
       "   'state': None,\n",
       "   'result': None}],\n",
       " 'metadata': {'graph_id': 'f1_race_data',\n",
       "  'thread_id': '4fde6b42-ff65-486a-b925-22ebb195c725',\n",
       "  'checkpoint_id': '1f0afcc8-d01f-6c1a-8000-114036ed4152',\n",
       "  'checkpoint_ns': '',\n",
       "  'source': 'update',\n",
       "  'step': 1,\n",
       "  'parents': {}},\n",
       " 'created_at': '2025-10-23T04:55:54.673508+00:00',\n",
       " 'checkpoint': {'checkpoint_id': '1f0afcc8-e756-6e1a-8001-18f37e3ff581',\n",
       "  'thread_id': '4fde6b42-ff65-486a-b925-22ebb195c725',\n",
       "  'checkpoint_ns': ''},\n",
       " 'parent_checkpoint': {'checkpoint_id': '1f0afcc8-d01f-6c1a-8000-114036ed4152',\n",
       "  'thread_id': '4fde6b42-ff65-486a-b925-22ebb195c725',\n",
       "  'checkpoint_ns': ''},\n",
       " 'interrupts': [],\n",
       " 'checkpoint_id': '1f0afcc8-e756-6e1a-8001-18f37e3ff581',\n",
       " 'parent_checkpoint_id': '1f0afcc8-d01f-6c1a-8000-114036ed4152'}"
      ]
     },
     "execution_count": 36,
     "metadata": {},
     "output_type": "execute_result"
    }
   ],
   "execution_count": 36
  },
  {
   "cell_type": "code",
   "id": "da005240-d3f0-4c89-9aca-dfcb5d410ceb",
   "metadata": {
    "ExecuteTime": {
     "end_time": "2025-10-23T04:55:56.706924Z",
     "start_time": "2025-10-23T04:55:54.697772Z"
    }
   },
   "source": [
    "async for chunk in client.runs.stream(\n",
    "    thread[\"thread_id\"],\n",
    "    assistant_id=\"f1_race_data\",\n",
    "    input=None,\n",
    "    stream_mode=\"updates\",\n",
    "    checkpoint_id=forked_config['checkpoint_id']\n",
    "):\n",
    "     if chunk.data:\n",
    "        assisant_node = chunk.data.get('assistant', {}).get('messages', [])\n",
    "        tool_node = chunk.data.get('tools', {}).get('messages', [])\n",
    "        if assisant_node:\n",
    "            print(\"-\" * 20+\"Assistant Node\"+\"-\" * 20)\n",
    "            print(assisant_node[-1])\n",
    "        elif tool_node:\n",
    "            print(\"-\" * 20+\"Tools Node\"+\"-\" * 20)\n",
    "            print(tool_node[-1])"
   ],
   "outputs": [
    {
     "name": "stdout",
     "output_type": "stream",
     "text": [
      "--------------------Tools Node--------------------\n",
      "{'content': 'Lap 20: Tyre wear is medium. Estimated 50% life remaining.', 'additional_kwargs': {}, 'response_metadata': {}, 'type': 'tool', 'name': 'check_tyre_wear', 'id': '0fba1466-90ec-4c73-a90f-7d6d5f032389', 'tool_call_id': 'call_OxCmDWe40BHlU61nThK7r7r5', 'artifact': None, 'status': 'success'}\n",
      "--------------------Assistant Node--------------------\n",
      "{'content': \"We're currently within the optimal pit window. Traffic conditions should be evaluated for a strategic pit stop. Tyre wear is at a medium level, with about 50% life remaining.\", 'additional_kwargs': {'refusal': None}, 'response_metadata': {'token_usage': {'completion_tokens': 37, 'prompt_tokens': 258, 'total_tokens': 295, 'completion_tokens_details': {'accepted_prediction_tokens': 0, 'audio_tokens': 0, 'reasoning_tokens': 0, 'rejected_prediction_tokens': 0}, 'prompt_tokens_details': {'audio_tokens': 0, 'cached_tokens': 0}}, 'model_provider': 'openai', 'model_name': 'gpt-4o-2024-08-06', 'system_fingerprint': 'fp_cbf1785567', 'id': 'chatcmpl-CThedmaIivJVbPCVziIKlsY2Eoxdt', 'service_tier': 'default', 'finish_reason': 'stop', 'logprobs': None}, 'type': 'ai', 'name': None, 'id': 'lc_run--d091f8d2-1cf1-4113-9b7d-17f60463cd40-0', 'tool_calls': [], 'invalid_tool_calls': [], 'usage_metadata': {'input_tokens': 258, 'output_tokens': 37, 'total_tokens': 295, 'input_token_details': {'audio': 0, 'cache_read': 0}, 'output_token_details': {'audio': 0, 'reasoning': 0}}}\n"
     ]
    }
   ],
   "execution_count": 37
  }
 ],
 "metadata": {
  "kernelspec": {
   "display_name": "Python 3 (ipykernel)",
   "language": "python",
   "name": "python3"
  },
  "language_info": {
   "codemirror_mode": {
    "name": "ipython",
    "version": 3
   },
   "file_extension": ".py",
   "mimetype": "text/x-python",
   "name": "python",
   "nbconvert_exporter": "python",
   "pygments_lexer": "ipython3",
   "version": "3.11.1"
  }
 },
 "nbformat": 4,
 "nbformat_minor": 5
}
