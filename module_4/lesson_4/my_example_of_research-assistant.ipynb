{
 "cells": [
  {
   "cell_type": "code",
   "id": "ba917800-10e4-4e2a-8e9e-30893b731e97",
   "metadata": {
    "ExecuteTime": {
     "end_time": "2025-10-31T03:36:55.576709Z",
     "start_time": "2025-10-31T03:36:55.572859Z"
    }
   },
   "source": [
    "import os, getpass\n",
    "from dotenv import load_dotenv\n",
    "\n",
    "load_dotenv(\"../../.env\")"
   ],
   "outputs": [
    {
     "data": {
      "text/plain": [
       "True"
      ]
     },
     "execution_count": 3,
     "metadata": {},
     "output_type": "execute_result"
    }
   ],
   "execution_count": 3
  },
  {
   "cell_type": "code",
   "id": "afe9ff57-0826-4669-b88b-4d0501a509f5",
   "metadata": {
    "ExecuteTime": {
     "end_time": "2025-10-31T03:36:55.590610Z",
     "start_time": "2025-10-31T03:36:55.588270Z"
    }
   },
   "source": [
    "from langchain_openai import ChatOpenAI\n",
    "llm = ChatOpenAI(model=\"gpt-4.1-nano\", temperature=0)"
   ],
   "outputs": [],
   "execution_count": 4
  },
  {
   "cell_type": "code",
   "id": "1eee8e60-e548-49b1-88ec-a4f3aef2174e",
   "metadata": {
    "ExecuteTime": {
     "end_time": "2025-10-31T03:36:55.601568Z",
     "start_time": "2025-10-31T03:36:55.597629Z"
    }
   },
   "source": [
    "from typing import List\n",
    "from typing_extensions import TypedDict\n",
    "from pydantic import BaseModel, Field\n",
    "\n",
    "class RaceEngineer(BaseModel):\n",
    "    team: str = Field(\n",
    "        description=\"Primary F1 team affiliation of the engineer.\",\n",
    "    )\n",
    "    name: str = Field(\n",
    "        description=\"Name of the race engineer.\"\n",
    "    )\n",
    "    role: str = Field(\n",
    "        description=\"Role of the engineer in the context of the race.\",\n",
    "    )\n",
    "    focus: str = Field(\n",
    "        description=\"Description of the engineer's focus, concerns, and strategic motives.\",\n",
    "    )\n",
    "    @property\n",
    "    def persona(self) -> str:\n",
    "        return f\"Name: {self.name}\\nRole: {self.role}\\nTeam: {self.team}\\nFocus: {self.focus}\\n\"\n",
    "\n",
    "class StrategyTeam(BaseModel):\n",
    "    engineers: List[RaceEngineer] = Field(\n",
    "        description=\"Comprehensive list of race engineers with their roles and team affiliations.\",\n",
    "    )\n",
    "\n",
    "class GenerateEngineersState(TypedDict):\n",
    "    race_name: str\n",
    "    max_engineers: int\n",
    "    race_director_feedback: str\n",
    "    engineers: List[RaceEngineer]"
   ],
   "outputs": [],
   "execution_count": 5
  },
  {
   "cell_type": "code",
   "id": "fd088ff5-4c75-412c-85f0-04afd0900bfc",
   "metadata": {
    "ExecuteTime": {
     "end_time": "2025-10-31T03:36:56.097371Z",
     "start_time": "2025-10-31T03:36:55.605270Z"
    }
   },
   "source": [
    "from IPython.display import Image, display\n",
    "from langgraph.graph import START, END, StateGraph\n",
    "from langgraph.checkpoint.memory import MemorySaver\n",
    "from langchain_core.messages import AIMessage, HumanMessage, SystemMessage\n",
    "\n",
    "engineer_instructions=\"\"\"You are tasked with creating a set of AI race engineer personas for an upcoming F1 race. Follow these instructions carefully:\n",
    "\n",
    "1. First, review the research topic (the race):\n",
    "{race_name}\n",
    "\n",
    "2. Examine any editorial feedback that has been optionally provided to guide creation of the engineers:\n",
    "\n",
    "{race_director_feedback}\n",
    "\n",
    "3. Determine the most interesting strategic themes based upon the race and feedback above (e.g., tyre degradation, weather, fuel strategy).\n",
    "\n",
    "4. Pick the top {max_engineers} themes.\n",
    "\n",
    "5. Assign one race engineer to each theme, giving them a name, team, role, and specific focus.\"\"\"\n",
    "\n",
    "def create_engineers(state: GenerateEngineersState):\n",
    "    \"\"\" Create race engineers \"\"\"\n",
    "\n",
    "    race_name=state['race_name']\n",
    "    max_engineers=state['max_engineers']\n",
    "    race_director_feedback=state.get('race_director_feedback', '')\n",
    "\n",
    "    structured_llm = llm.with_structured_output(StrategyTeam)\n",
    "\n",
    "    system_message = engineer_instructions.format(race_name=race_name,\n",
    "                                                            race_director_feedback=race_director_feedback,\n",
    "                                                            max_engineers=max_engineers)\n",
    "\n",
    "    engineers = structured_llm.invoke([SystemMessage(content=system_message)]+[HumanMessage(content=\"Generate the set of race engineers.\")])\n",
    "\n",
    "    return {\"engineers\": engineers.engineers}\n",
    "\n",
    "def human_feedback(state: GenerateEngineersState):\n",
    "    \"\"\" No-op node that should be interrupted on \"\"\"\n",
    "    pass\n",
    "\n",
    "def should_continue(state: GenerateEngineersState):\n",
    "    \"\"\" Return the next node to execute \"\"\"\n",
    "\n",
    "    race_director_feedback=state.get('race_director_feedback', None)\n",
    "    if race_director_feedback:\n",
    "        return \"create_engineers\"\n",
    "\n",
    "    return END\n",
    "\n",
    "builder = StateGraph(GenerateEngineersState)\n",
    "builder.add_node(\"create_engineers\", create_engineers)\n",
    "builder.add_node(\"race_director_review\", human_feedback)\n",
    "builder.add_edge(START, \"create_engineers\")\n",
    "builder.add_edge(\"create_engineers\", \"race_director_review\")\n",
    "builder.add_conditional_edges(\"race_director_review\", should_continue, [\"create_engineers\", END])\n",
    "\n",
    "memory = MemorySaver()\n",
    "graph = builder.compile(interrupt_before=['race_director_review'], checkpointer=memory)\n",
    "\n",
    "display(Image(graph.get_graph(xray=1).draw_mermaid_png()))"
   ],
   "outputs": [
    {
     "data": {
      "image/png": "[encoded data removed]",
      "text/plain": [
       "<IPython.core.display.Image object>"
      ]
     },
     "metadata": {},
     "output_type": "display_data",
     "jetTransient": {
      "display_id": null
     }
    }
   ],
   "execution_count": 6
  },
  {
   "cell_type": "code",
   "id": "6c22cb05-c436-4358-8f7a-72d722f9b5cc",
   "metadata": {
    "ExecuteTime": {
     "end_time": "2025-10-31T03:36:58.072123Z",
     "start_time": "2025-10-31T03:36:56.104123Z"
    }
   },
   "source": [
    "max_engineers = 3\n",
    "race_name = \"The 2025 Monaco Grand Prix\"\n",
    "thread = {\"configurable\": {\"thread_id\": \"1\"}}\n",
    "\n",
    "for event in graph.stream({\"race_name\":race_name,\"max_engineers\":max_engineers,}, thread, stream_mode=\"values\"):\n",
    "    engineers = event.get('engineers', '')\n",
    "    if engineers:\n",
    "        for engineer in engineers:\n",
    "            print(f\"Name: {engineer.name}\")\n",
    "            print(f\"Team: {engineer.team}\")\n",
    "            print(f\"Role: {engineer.role}\")\n",
    "            print(f\"Focus: {engineer.focus}\")\n",
    "            print(\"-\" * 50)"
   ],
   "outputs": [
    {
     "name": "stdout",
     "output_type": "stream",
     "text": [
      "Name: Luca Ferrari\n",
      "Team: Mercedes\n",
      "Role: Tire Strategy Engineer\n",
      "Focus: Monitoring tire degradation rates on the tight Monaco circuit to optimize pit stop timing and tire compound choices.\n",
      "--------------------------------------------------\n",
      "Name: Sofia Martinez\n",
      "Team: Red Bull\n",
      "Role: Weather Strategy Specialist\n",
      "Focus: Assessing weather patterns and potential rain impacts to advise on wet vs. dry tire strategies and timing of pit stops.\n",
      "--------------------------------------------------\n",
      "Name: Marco Rossi\n",
      "Team: Ferrari\n",
      "Role: Fuel Strategy Coordinator\n",
      "Focus: Managing fuel load strategies to balance performance and safety, especially considering Monaco's limited overtaking opportunities and the need for precise fuel management.\n",
      "--------------------------------------------------\n"
     ]
    }
   ],
   "execution_count": 7
  },
  {
   "cell_type": "code",
   "id": "2f81ad23-5656-43e6-b50a-0d7a4f69a60a",
   "metadata": {
    "ExecuteTime": {
     "end_time": "2025-10-31T03:36:58.084094Z",
     "start_time": "2025-10-31T03:36:58.081346Z"
    }
   },
   "source": [
    "state = graph.get_state(thread)\n",
    "state.next"
   ],
   "outputs": [
    {
     "data": {
      "text/plain": [
       "('race_director_review',)"
      ]
     },
     "execution_count": 8,
     "metadata": {},
     "output_type": "execute_result"
    }
   ],
   "execution_count": 8
  },
  {
   "cell_type": "code",
   "id": "72b2a402-fd10-4f26-9a32-3e3c0d4aaf76",
   "metadata": {
    "ExecuteTime": {
     "end_time": "2025-10-31T03:36:58.095037Z",
     "start_time": "2025-10-31T03:36:58.091581Z"
    }
   },
   "source": [
    "graph.update_state(thread, {\"race_director_feedback\":\n",
    "                            \"Add a data scientist focused on historical performance at this track.\"}, as_node=\"race_director_review\")"
   ],
   "outputs": [
    {
     "data": {
      "text/plain": [
       "{'configurable': {'thread_id': '1',\n",
       "  'checkpoint_ns': '',\n",
       "  'checkpoint_id': '1f0b60ad-a8aa-6a56-8002-1622f262ca44'}}"
      ]
     },
     "execution_count": 9,
     "metadata": {},
     "output_type": "execute_result"
    }
   ],
   "execution_count": 9
  },
  {
   "cell_type": "code",
   "id": "b8816eb9-9906-441b-b552-be71107db14f",
   "metadata": {
    "ExecuteTime": {
     "end_time": "2025-10-31T03:37:00.560602Z",
     "start_time": "2025-10-31T03:36:58.104501Z"
    }
   },
   "source": [
    "for event in graph.stream(None, thread, stream_mode=\"values\"):\n",
    "    engineers = event.get('engineers', '')\n",
    "    if engineers:\n",
    "        for engineer in engineers:\n",
    "            print(f\"Name: {engineer.name}\")\n",
    "            print(f\"Team: {engineer.team}\")\n",
    "            print(f\"Role: {engineer.role}\")\n",
    "            print(f\"Focus: {engineer.focus}\")\n",
    "            print(\"-\" * 50)"
   ],
   "outputs": [
    {
     "name": "stdout",
     "output_type": "stream",
     "text": [
      "Name: Luca Ferrari\n",
      "Team: Mercedes\n",
      "Role: Tire Strategy Engineer\n",
      "Focus: Monitoring tire degradation rates on the tight Monaco circuit to optimize pit stop timing and tire compound choices.\n",
      "--------------------------------------------------\n",
      "Name: Sofia Martinez\n",
      "Team: Red Bull\n",
      "Role: Weather Strategy Specialist\n",
      "Focus: Assessing weather patterns and potential rain impacts to advise on wet vs. dry tire strategies and timing of pit stops.\n",
      "--------------------------------------------------\n",
      "Name: Marco Rossi\n",
      "Team: Ferrari\n",
      "Role: Fuel Strategy Coordinator\n",
      "Focus: Managing fuel load strategies to balance performance and safety, especially considering Monaco's limited overtaking opportunities and the need for precise fuel management.\n",
      "--------------------------------------------------\n",
      "Name: Liam Carter\n",
      "Team: Mercedes\n",
      "Role: Tire Degradation Specialist\n",
      "Focus: Monitor tire wear rates and degradation patterns to optimize pit stop timing and tire compound choices, especially considering Monaco's tight circuit and limited overtaking opportunities.\n",
      "--------------------------------------------------\n",
      "Name: Sofia Martinez\n",
      "Team: Red Bull\n",
      "Role: Weather and Track Conditions Analyst\n",
      "Focus: Assess weather forecasts and track temperature fluctuations to adapt strategies for potential rain or temperature shifts, which could impact tire performance and car setup.\n",
      "--------------------------------------------------\n",
      "Name: Marco Rossi\n",
      "Team: Ferrari\n",
      "Role: Historical Performance Data Scientist\n",
      "Focus: Analyze historical race data at Monaco to identify patterns and strategies that have led to success or failure, informing current race tactics and qualifying approaches.\n",
      "--------------------------------------------------\n"
     ]
    }
   ],
   "execution_count": 10
  },
  {
   "cell_type": "code",
   "id": "a43ac322-5926-4932-8653-68206fec0d2c",
   "metadata": {
    "ExecuteTime": {
     "end_time": "2025-10-31T03:37:00.572882Z",
     "start_time": "2025-10-31T03:37:00.568366Z"
    }
   },
   "source": [
    "further_feedack = None\n",
    "graph.update_state(thread, {\"race_director_feedback\":\n",
    "                            further_feedack}, as_node=\"race_director_review\")"
   ],
   "outputs": [
    {
     "data": {
      "text/plain": [
       "{'configurable': {'thread_id': '1',\n",
       "  'checkpoint_ns': '',\n",
       "  'checkpoint_id': '1f0b60ad-c04b-6778-8004-c27360c41f7c'}}"
      ]
     },
     "execution_count": 11,
     "metadata": {},
     "output_type": "execute_result"
    }
   ],
   "execution_count": 11
  },
  {
   "cell_type": "code",
   "id": "ab034e65-aeee-4723-8d6d-74541b548425",
   "metadata": {
    "ExecuteTime": {
     "end_time": "2025-10-31T03:37:00.583500Z",
     "start_time": "2025-10-31T03:37:00.580485Z"
    }
   },
   "source": [
    "for event in graph.stream(None, thread, stream_mode=\"updates\"):\n",
    "    print(\"--Node--\")\n",
    "    node_name = next(iter(event.keys()))\n",
    "    print(node_name)"
   ],
   "outputs": [],
   "execution_count": 12
  },
  {
   "cell_type": "code",
   "id": "2f204e8a-285c-4e46-8223-a695caec7764",
   "metadata": {
    "ExecuteTime": {
     "end_time": "2025-10-31T03:37:00.591350Z",
     "start_time": "2025-10-31T03:37:00.589650Z"
    }
   },
   "source": [
    "final_state = graph.get_state(thread)\n",
    "engineers = final_state.values.get('engineers')"
   ],
   "outputs": [],
   "execution_count": 13
  },
  {
   "cell_type": "code",
   "id": "59704086-cb3b-42e9-8395-37be6f0d44e9",
   "metadata": {
    "ExecuteTime": {
     "end_time": "2025-10-31T03:37:00.599482Z",
     "start_time": "2025-10-31T03:37:00.597367Z"
    }
   },
   "source": [
    "final_state.next"
   ],
   "outputs": [
    {
     "data": {
      "text/plain": [
       "()"
      ]
     },
     "execution_count": 14,
     "metadata": {},
     "output_type": "execute_result"
    }
   ],
   "execution_count": 14
  },
  {
   "cell_type": "code",
   "id": "95717ba3-aa00-48d6-bbb7-5fe4db5919bf",
   "metadata": {
    "ExecuteTime": {
     "end_time": "2025-10-31T03:37:00.610157Z",
     "start_time": "2025-10-31T03:37:00.608345Z"
    }
   },
   "source": [
    "for engineer in engineers:\n",
    "    print(f\"Name: {engineer.name}\")\n",
    "    print(f\"Team: {engineer.team}\")\n",
    "    print(f\"Role: {engineer.role}\")\n",
    "    print(f\"Focus: {engineer.focus}\")\n",
    "    print(\"-\" * 50)"
   ],
   "outputs": [
    {
     "name": "stdout",
     "output_type": "stream",
     "text": [
      "Name: Liam Carter\n",
      "Team: Mercedes\n",
      "Role: Tire Degradation Specialist\n",
      "Focus: Monitor tire wear rates and degradation patterns to optimize pit stop timing and tire compound choices, especially considering Monaco's tight circuit and limited overtaking opportunities.\n",
      "--------------------------------------------------\n",
      "Name: Sofia Martinez\n",
      "Team: Red Bull\n",
      "Role: Weather and Track Conditions Analyst\n",
      "Focus: Assess weather forecasts and track temperature fluctuations to adapt strategies for potential rain or temperature shifts, which could impact tire performance and car setup.\n",
      "--------------------------------------------------\n",
      "Name: Marco Rossi\n",
      "Team: Ferrari\n",
      "Role: Historical Performance Data Scientist\n",
      "Focus: Analyze historical race data at Monaco to identify patterns and strategies that have led to success or failure, informing current race tactics and qualifying approaches.\n",
      "--------------------------------------------------\n"
     ]
    }
   ],
   "execution_count": 15
  },
  {
   "cell_type": "code",
   "id": "e5d5f559-f42e-442b-87cd-dbf0a91abf9c",
   "metadata": {
    "ExecuteTime": {
     "end_time": "2025-10-31T03:37:00.622134Z",
     "start_time": "2025-10-31T03:37:00.619688Z"
    }
   },
   "source": [
    "import operator\n",
    "from typing import  Annotated\n",
    "from langgraph.graph import MessagesState\n",
    "\n",
    "class StrategySimState(MessagesState):\n",
    "    max_num_turns: int\n",
    "    context: Annotated[list, operator.add]\n",
    "    engineer: RaceEngineer\n",
    "    simulation_log: str\n",
    "    strategy_memos: list\n",
    "\n",
    "class SearchQuery(BaseModel):\n",
    "    search_query: str = Field(None, description=\"Search query for retrieval.\")"
   ],
   "outputs": [],
   "execution_count": 16
  },
  {
   "cell_type": "code",
   "id": "1c2e71eb-07ad-4bea-aabc-dbaf551408c0",
   "metadata": {
    "ExecuteTime": {
     "end_time": "2025-10-31T03:37:00.629566Z",
     "start_time": "2025-10-31T03:37:00.627828Z"
    }
   },
   "source": [
    "question_instructions = \"\"\"You are a Race Engineer tasked with interviewing a Race Simulator AI to develop a strategy for an upcoming race.\n",
    "\n",
    "Your goal is to extract interesting and specific insights related to your strategic focus.\n",
    "\n",
    "1. Interesting: Insights that are non-obvious (e.g., \"undercut is powerful on lap 22\").\n",
    "\n",
    "2. Specific: Insights that avoid generalities and include specific data from the simulator (e.g., \"5-second loss per lap on worn softs\").\n",
    "\n",
    "Here is your strategic focus and persona: {persona}\n",
    "\n",
    "Begin by introducing yourself and then ask your first question.\n",
    "\n",
    "Continue to ask questions to drill down and refine your understanding of the strategy.\n",
    "\n",
    "When you are satisfied with your understanding, complete the interview with: \"Thank you, that's all the data I need.\"\n",
    "\n",
    "Remember to stay in character throughout your response.\"\"\"\n",
    "\n",
    "def generate_strategy_question(state: StrategySimState):\n",
    "    \"\"\" Node to generate a strategy question \"\"\"\n",
    "    engineer = state[\"engineer\"]\n",
    "    messages = state[\"messages\"]\n",
    "\n",
    "    system_message = question_instructions.format(persona=engineer.persona)\n",
    "    question = llm.invoke([SystemMessage(content=system_message)]+messages)\n",
    "\n",
    "    return {\"messages\": [question]}"
   ],
   "outputs": [],
   "execution_count": 17
  },
  {
   "cell_type": "code",
   "id": "c61ae74a-f838-4e97-8bd5-48ccd15b7789",
   "metadata": {
    "ExecuteTime": {
     "end_time": "2025-10-31T03:37:00.678410Z",
     "start_time": "2025-10-31T03:37:00.632957Z"
    }
   },
   "source": [
    "from langchain_community.tools.tavily_search import TavilySearchResults\n",
    "tavily_search = TavilySearchResults(max_results=3)"
   ],
   "outputs": [
    {
     "name": "stderr",
     "output_type": "stream",
     "text": [
      "/var/folders/1f/vl83__r51wd66hnxlnlgncx00000gn/T/ipykernel_2064/596536740.py:2: LangChainDeprecationWarning: The class `TavilySearchResults` was deprecated in LangChain 0.3.25 and will be removed in 1.0. An updated version of the class exists in the `langchain-tavily package and should be used instead. To use it run `pip install -U `langchain-tavily` and import as `from `langchain_tavily import TavilySearch``.\n",
      "  tavily_search = TavilySearchResults(max_results=3)\n"
     ]
    }
   ],
   "execution_count": 18
  },
  {
   "cell_type": "code",
   "id": "2d8f760b-5a1a-4fa9-a014-d3fb02bec51c",
   "metadata": {
    "ExecuteTime": {
     "end_time": "2025-10-31T03:37:00.715749Z",
     "start_time": "2025-10-31T03:37:00.683602Z"
    }
   },
   "source": "from langchain_community.document_loaders import WikipediaLoader",
   "outputs": [],
   "execution_count": 19
  },
  {
   "cell_type": "code",
   "id": "9c863768-2278-415b-aef1-96fd18c1b1cb",
   "metadata": {
    "ExecuteTime": {
     "end_time": "2025-10-31T03:37:01.442375Z",
     "start_time": "2025-10-31T03:37:00.719736Z"
    }
   },
   "source": [
    "from langchain_core.messages import get_buffer_string\n",
    "\n",
    "search_instructions = SystemMessage(content=f\"\"\"You will be given a conversation between a race engineer and a simulator AI.\n",
    "\n",
    "Your goal is to generate a well-structured query for use in retrieval and / or web-search for live data (like weather) or historical context related to the conversation.\n",
    "\n",
    "First, analyze the full conversation.\n",
    "\n",
    "Pay particular attention to the final question posed by the engineer.\n",
    "\n",
    "Convert this final question into a well-structured web search query\"\"\")\n",
    "\n",
    "def search_web(state: StrategySimState):\n",
    "\n",
    "    \"\"\" Retrieve docs from web search (e.g., live weather) \"\"\"\n",
    "\n",
    "    structured_llm = llm.with_structured_output(SearchQuery)\n",
    "    search_query = structured_llm.invoke([search_instructions]+state['messages'])\n",
    "\n",
    "    search_docs = tavily_search.invoke(search_query.search_query)\n",
    "\n",
    "    formatted_search_docs = \"\\n\\n---\\n\\n\".join(\n",
    "        [\n",
    "            f'<Document href=\"{doc[\"url\"]}\"/>\\n{doc[\"content\"]}\\n</Document>'\n",
    "            for doc in search_docs\n",
    "        ]\n",
    "    )\n",
    "\n",
    "    return {\"context\": [formatted_search_docs]}\n",
    "\n",
    "def search_wikipedia(state: StrategySimState):\n",
    "\n",
    "    \"\"\" Retrieve docs from wikipedia (e.g., historical track data) \"\"\"\n",
    "\n",
    "    structured_llm = llm.with_structured_output(SearchQuery)\n",
    "    search_query = structured_llm.invoke([search_instructions]+state['messages'])\n",
    "\n",
    "    search_docs = WikipediaLoader(query=search_query.search_query,\n",
    "                                  load_max_docs=2).load()\n",
    "\n",
    "    formatted_search_docs = \"\\n\\n---\\n\\n\".join(\n",
    "        [\n",
    "            f'<Document source=\"{doc.metadata[\"source\"]}\" page=\"{doc.metadata.get(\"page\", \"\")}\"/>\\n{doc.page_content}\\n</Document>'\n",
    "            for doc in search_docs\n",
    "        ]\n",
    "    )\n",
    "\n",
    "    return {\"context\": [formatted_search_docs]}\n",
    "\n",
    "answer_instructions = \"\"\"You are a Race Simulator AI being debriefed by a Race Engineer.\n",
    "\n",
    "Here is the engineer's area of focus: {persona}.\n",
    "\n",
    "You goal is to answer a question posed by the interviewer.\n",
    "\n",
    "To answer the question, use this simulation data and context:\n",
    "\n",
    "{context}\n",
    "\n",
    "When answering questions, follow these guidelines:\n",
    "\n",
    "1. Use only the information provided in the context.\n",
    "\n",
    "2. Do not introduce external information or make assumptions beyond what is explicitly stated in the context.\n",
    "\n",
    "3. The context contain sources at the topic of each individual document.\n",
    "\n",
    "4. Include these sources your answer next to any relevant statements. For example, for source # 1 use [1].\n",
    "\n",
    "5. List your sources in order at the bottom of your answer. [1] Source 1, [2] Source 2, etc\n",
    "\n",
    "6. If the source is: <Document source=\"assistant/docs/llama3_1.pdf\" page=\"7\"/>' then just list:\n",
    "\n",
    "[1] assistant/docs/llama3_1.pdf, page 7\n",
    "\n",
    "And skip the addition of the brackets as well as the Document source preamble in your citation.\"\"\"\n",
    "\n",
    "def generate_answer(state: StrategySimState):\n",
    "\n",
    "    \"\"\" Node to generate a simulation answer \"\"\"\n",
    "\n",
    "    engineer = state[\"engineer\"]\n",
    "    messages = state[\"messages\"]\n",
    "    context = state[\"context\"]\n",
    "\n",
    "    system_message = answer_instructions.format(persona=engineer.persona, context=context)\n",
    "    answer = llm.invoke([SystemMessage(content=system_message)]+messages)\n",
    "\n",
    "    answer.name = \"simulator\"\n",
    "\n",
    "    return {\"messages\": [answer]}\n",
    "\n",
    "def save_simulation_log(state: StrategySimState):\n",
    "\n",
    "    \"\"\" Save simulation log \"\"\"\n",
    "\n",
    "    messages = state[\"messages\"]\n",
    "\n",
    "    simulation_log = get_buffer_string(messages)\n",
    "\n",
    "    return {\"simulation_log\": simulation_log}\n",
    "\n",
    "def route_messages(state: StrategySimState,\n",
    "                   name: str = \"simulator\"):\n",
    "\n",
    "    \"\"\" Route simulation conversation \"\"\"\n",
    "\n",
    "    messages = state[\"messages\"]\n",
    "    max_num_turns = state.get('max_num_turns',2)\n",
    "\n",
    "    num_responses = len(\n",
    "        [m for m in messages if isinstance(m, AIMessage) and m.name == name]\n",
    "    )\n",
    "\n",
    "    if num_responses >= max_num_turns:\n",
    "        return 'save_simulation_log'\n",
    "\n",
    "    last_question = messages[-2]\n",
    "\n",
    "    if \"Thank you, that's all the data I need.\" in last_question.content:\n",
    "        return 'save_simulation_log'\n",
    "    return \"ask_strategy_question\"\n",
    "\n",
    "section_writer_instructions = \"\"\"You are an expert strategy analyst.\n",
    "\n",
    "Your task is to create a short, easily digestible strategy memo based on a set of simulation data and context documents.\n",
    "\n",
    "1. Analyze the content of the source documents:\n",
    "- The name of each source document is at the start of the document, with the <Document tag.\n",
    "\n",
    "2. Create a report structure using markdown formatting:\n",
    "- Use ## for the section title\n",
    "- Use ### for sub-section headers\n",
    "\n",
    "3. Write the report following this structure:\n",
    "a. ## [Strategy Memo Title]\n",
    "b. ### [Key Insights]\n",
    "c. ### [Data Sources]\n",
    "\n",
    "4. Make your title engaging based upon the focus area of the engineer:\n",
    "{persona}\n",
    "\n",
    "5. For the summary section:\n",
    "- Set up summary with general background / context related to the focus area of the engineer\n",
    "- Emphasize what is novel, interesting, or surprising about insights gathered from the simulation debrief\n",
    "- Create a numbered list of source documents, as you use them\n",
    "- Do not mention the names of engineers or the simulator\n",
    "- Aim for approximately 400 words maximum\n",
    "- Use numbered sources in your report (e.g., [1], [2]) based on information from source documents\n",
    "\n",
    "6. In the Data Sources section:\n",
    "- Include all sources used in your report\n",
    "- Provide full links to relevant websites or specific document paths\n",
    "- Separate each source by a newline. Use two spaces at the end of each line to create a newline in Markdown.\n",
    "- It will look like:\n",
    "\n",
    "### Data Sources\n",
    "[1] Link or Document name\n",
    "[2] Link or Document name\n",
    "\n",
    "7. Be sure to combine sources. For example this is not correct:\n",
    "\n",
    "[3] https://ai.meta.com/blog/meta-llama-3-1/\n",
    "[4] https://ai.meta.com/blog/meta-llama-3-1/\n",
    "\n",
    "There should be no redundant sources. It should simply be:\n",
    "\n",
    "[3] https://ai.meta.com/blog/meta-llama-3-1/\n",
    "\n",
    "8. Final review:\n",
    "- Ensure the report follows the required structure\n",
    "- Include no preamble before the title of the report\n",
    "- Check that all guidelines have been followed\"\"\"\n",
    "\n",
    "def write_strategy_memo(state: StrategySimState):\n",
    "\n",
    "    \"\"\" Node to write strategy memo \"\"\"\n",
    "\n",
    "    simulation_log = state[\"simulation_log\"]\n",
    "    context = state[\"context\"]\n",
    "    engineer = state[\"engineer\"]\n",
    "\n",
    "    system_message = section_writer_instructions.format(persona=engineer.persona)\n",
    "    memo = llm.invoke([SystemMessage(content=system_message)]+[HumanMessage(content=f\"Use this source to write your section: {context}\")])\n",
    "\n",
    "    return {\"strategy_memos\": [memo.content]}\n",
    "\n",
    "sim_builder = StateGraph(StrategySimState)\n",
    "sim_builder.add_node(\"ask_strategy_question\", generate_strategy_question)\n",
    "sim_builder.add_node(\"search_web\", search_web)\n",
    "sim_builder.add_node(\"search_wikipedia\", search_wikipedia)\n",
    "sim_builder.add_node(\"generate_answer\", generate_answer)\n",
    "sim_builder.add_node(\"save_simulation_log\", save_simulation_log)\n",
    "sim_builder.add_node(\"write_strategy_memo\", write_strategy_memo)\n",
    "\n",
    "sim_builder.add_edge(START, \"ask_strategy_question\")\n",
    "sim_builder.add_edge(\"ask_strategy_question\", \"search_web\")\n",
    "sim_builder.add_edge(\"ask_strategy_question\", \"search_wikipedia\")\n",
    "sim_builder.add_edge(\"search_web\", \"generate_answer\")\n",
    "sim_builder.add_edge(\"search_wikipedia\", \"generate_answer\")\n",
    "sim_builder.add_conditional_edges(\"generate_answer\", route_messages,['ask_strategy_question','save_simulation_log'])\n",
    "sim_builder.add_edge(\"save_simulation_log\", \"write_strategy_memo\")\n",
    "sim_builder.add_edge(\"write_strategy_memo\", END)\n",
    "\n",
    "memory = MemorySaver()\n",
    "sim_graph = sim_builder.compile(checkpointer=memory).with_config(run_name=\"Conduct Simulation Debrief\")\n",
    "\n",
    "display(Image(sim_graph.get_graph().draw_mermaid_png()))"
   ],
   "outputs": [
    {
     "data": {
      "image/png": "[encoded data removed]",
      "text/plain": [
       "<IPython.core.display.Image object>"
      ]
     },
     "metadata": {},
     "output_type": "display_data",
     "jetTransient": {
      "display_id": null
     }
    }
   ],
   "execution_count": 20
  },
  {
   "cell_type": "code",
   "id": "50f382f1-6e93-48d0-a44a-1094d26ccb1e",
   "metadata": {
    "ExecuteTime": {
     "end_time": "2025-10-31T03:37:01.457763Z",
     "start_time": "2025-10-31T03:37:01.454765Z"
    }
   },
   "source": [
    "# Pick one analyst\n",
    "engineers[0]"
   ],
   "outputs": [
    {
     "data": {
      "text/plain": [
       "RaceEngineer(team='Mercedes', name='Liam Carter', role='Tire Degradation Specialist', focus=\"Monitor tire wear rates and degradation patterns to optimize pit stop timing and tire compound choices, especially considering Monaco's tight circuit and limited overtaking opportunities.\")"
      ]
     },
     "execution_count": 21,
     "metadata": {},
     "output_type": "execute_result"
    }
   ],
   "execution_count": 21
  },
  {
   "cell_type": "code",
   "id": "b2242d4e-8430-4de9-8cf7-3ad2f9a22b28",
   "metadata": {
    "ExecuteTime": {
     "end_time": "2025-10-31T03:37:27.327050Z",
     "start_time": "2025-10-31T03:37:01.466740Z"
    }
   },
   "source": [
    "from IPython.display import Markdown\n",
    "messages = [HumanMessage(f\"Let's start the simulation debrief for {race_name}.\")]\n",
    "thread = {\"configurable\": {\"thread_id\": \"1\"}}\n",
    "simulation = sim_graph.invoke({\"engineer\": engineers[0], \"messages\": messages, \"max_num_turns\": 2}, thread)\n",
    "Markdown(simulation['strategy_memos'][0])"
   ],
   "outputs": [
    {
     "data": {
      "text/plain": [
       "<IPython.core.display.Markdown object>"
      ],
      "text/markdown": "# Strategic Insights for Tire Management at Monaco: Optimizing Pit Stops and Compound Choices\n\n## Key Insights\n\nMonaco’s unique circuit layout, characterized by tight corners and limited overtaking opportunities, demands meticulous tire management to maximize race performance. The simulation data reveals several critical points that can inform strategic decisions:\n\n1. **Tire Compound Characteristics and Degradation Patterns**:  \n   - The soft tire compounds (C5 and C6) offer the fastest lap times due to their quick warm-up and high grip but suffer from rapid degradation, typically lasting only 15-20 laps. The ultra-soft C6, despite its initial speed advantage, has a notably narrow operating window with worse degradation and minimal grip increase, often lasting only about half a lap before performance drops significantly [1][2].  \n   - Medium tires (C2) strike a balance, providing good durability (25-35 laps) and competitive lap times, making them a versatile choice for Monaco’s conditions. Hard tires (C0) are the most durable, capable of exceeding 40 laps, but their slower pace makes them less attractive unless a one-stop strategy is viable [1][2].\n\n2. **Impact of Tire Degradation on Race Strategy**:  \n   - Degradation reduces grip over time, leading to slower lap times and shorter stints. Managing this degradation is crucial, especially in Monaco, where overtaking is limited, and maintaining track position is vital [3].  \n   - Fresh tires can outperform severely degraded softer compounds, emphasizing the importance of precise pit stop timing. Teams must weigh the benefits of early pit stops for fresh softs against the risk of losing track position, especially given the limited overtaking opportunities [3].\n\n3. **Track-Specific Considerations**:  \n   - Monaco’s abrasive surface and high lateral loads accelerate tire wear, making durability a key factor. The low degradation observed in recent races suggests that the new C6 soft compound may last longer than previous softs, potentially allowing for fewer stops [4].  \n   - The recent rule change requiring at least three different tire sets per race increases strategic complexity, discouraging starting on mediums due to the need for multiple pit stops, and favoring soft or ultra-soft starts for shorter stints [4].\n\n4. **Overtaking and Pit Stop Strategy**:  \n   - Overtaking opportunities are limited, but strategic use of tire degradation and pit stops can create overtaking chances, especially if a driver can survive on soft tires longer than expected or capitalize on safety cars.  \n   - The simulation indicates that aggressive soft tire runs early in the race, combined with well-timed pit stops, can help gain track position, especially if a safety car appears at the right moment [4].\n\nIn summary, Monaco’s strategic landscape favors a nuanced approach: leveraging the ultra-soft C6 for short, aggressive stints, balancing durability with performance, and timing pit stops to exploit safety cars or tire degradation patterns. Teams that optimize tire choice and pit timing will have a significant advantage in this challenging circuit.\n\n## Data Sources\n[1] https://www.youtube.com/watch?v=Wnsa-KKktQk  \n[2] https://www.reddit.com/r/F1Technical/comments/1lbu2uy/how_are_medium_tires_faster_than_softs_in/  \n[3] https://www.catapult.com/blog/how-tyre-degradation-affects-race-strategy  \n[4] https://www.racefans.net/2025/05/22/how-will-f1s-new-monaco-tyre-rule-work-and-how-might-teams-try-to-exploit-it/"
     },
     "execution_count": 22,
     "metadata": {},
     "output_type": "execute_result"
    }
   ],
   "execution_count": 22
  },
  {
   "cell_type": "code",
   "id": "6a0042f9-5b9f-441a-9e8d-7d8189f44140",
   "metadata": {
    "ExecuteTime": {
     "end_time": "2025-10-31T03:37:27.332113Z",
     "start_time": "2025-10-31T03:37:27.330227Z"
    }
   },
   "source": [
    "import operator\n",
    "from typing import List, Annotated\n",
    "from typing_extensions import TypedDict\n",
    "\n",
    "class RaceStrategyState(TypedDict):\n",
    "    race_name: str\n",
    "    max_engineers: int\n",
    "    race_director_feedback: str\n",
    "    engineers: List[RaceEngineer]\n",
    "    strategy_memos: Annotated[list, operator.add]\n",
    "    pre_race_briefing: str\n",
    "    strategy_summary: str\n",
    "    final_recommendation: str\n",
    "    final_strategy_report: str"
   ],
   "outputs": [],
   "execution_count": 23
  },
  {
   "cell_type": "code",
   "id": "c2224592-d2ff-469d-97bd-928809f896d7",
   "metadata": {
    "ExecuteTime": {
     "end_time": "2025-10-31T03:39:33.030474Z",
     "start_time": "2025-10-31T03:39:32.068294Z"
    }
   },
   "source": [
    "from langgraph.constants import Send\n",
    "from langgraph.graph import StateGraph, START, END\n",
    "from langgraph.checkpoint.memory import MemorySaver\n",
    "from langchain_core.messages import HumanMessage, SystemMessage\n",
    "from IPython.display import Image, display\n",
    "\n",
    "def initiate_all_simulations(state: RaceStrategyState):\n",
    "    \"\"\" This is the \"map\" step where we run each simulation sub-graph using Send API \"\"\"\n",
    "\n",
    "    race_director_feedback=state.get('race_director_feedback')\n",
    "    if race_director_feedback:\n",
    "        return \"create_engineers\"\n",
    "\n",
    "    else:\n",
    "        race_name = state[\"race_name\"]\n",
    "        return [Send(\"run_simulation_debrief\", {\"engineer\": engineer,\n",
    "                                           \"messages\": [HumanMessage(\n",
    "                                               content=f\"Let's start the simulation debrief for {race_name}.\"\n",
    "                                           )\n",
    "                                                       ]}) for engineer in state[\"engineers\"]]\n",
    "\n",
    "report_writer_instructions = \"\"\"You are a Lead Strategist creating a summary report for {race_name}\n",
    "\n",
    "You have a team of race engineers. Each engineer has done two things:\n",
    "\n",
    "1. They conducted an simulation debrief with an expert on a specific sub-topic.\n",
    "2. They written up their findings into a strategy memo.\n",
    "\n",
    "Your task:\n",
    "\n",
    "1. You will be given a collection of memos from your engineers.\n",
    "2. Think carefully about the insights from each memo.\n",
    "3. Consolidate these into a crisp overall summary that ties together the central ideas from all of the memos.\n",
    "4. Summarize the central points in each memo into a cohesive single narrative.\n",
    "\n",
    "To format your report:\n",
    "\n",
    "1. Use markdown formatting.\n",
    "2. Include no pre-amble for the report.\n",
    "3. Use no sub-heading.\n",
    "4. Start your report with a single title header: ## Strategy Summary\n",
    "5. Do not mention any engineer names in your report.\n",
    "6. Preserve any citations in the memos, which will be annotated in brackets, for example [1] or [2].\n",
    "7. Create a final, consolidated list of sources and add to a Data Sources section with the `## Data Sources` header.\n",
    "8. List your sources in order and do not repeat.\n",
    "\n",
    "[1] Source 1\n",
    "[2] Source 2\n",
    "\n",
    "Here are the strategy memos from your engineers to build your report from:\n",
    "\n",
    "{context}\"\"\"\n",
    "\n",
    "def write_strategy_summary(state: RaceStrategyState):\n",
    "    memos = state[\"strategy_memos\"]\n",
    "    race_name = state[\"race_name\"]\n",
    "\n",
    "    formatted_str_memos = \"\\n\\n\".join([f\"{memo}\" for memo in memos])\n",
    "\n",
    "    system_message = report_writer_instructions.format(race_name=race_name, context=formatted_str_memos)\n",
    "    summary = llm.invoke([SystemMessage(content=system_message)]+[HumanMessage(content=f\"Write a report based upon these memos.\")])\n",
    "    return {\"strategy_summary\": summary.content}\n",
    "\n",
    "intro_conclusion_instructions = \"\"\"You are a Lead Strategist writing a briefing for the {race_name}\n",
    "\n",
    "You will be given all of the strategy memos.\n",
    "\n",
    "You job is to write a crisp and compelling pre-race briefing (introduction) or a final recommendation (conclusion) section.\n",
    "\n",
    "The user will instruct you whether to write the briefing or recommendation.\n",
    "\n",
    "Include no pre-amble for either section.\n",
    "\n",
    "Target around 100 words, crisply previewing (for briefing) or recapping (for recommendation) all of the sections of the report.\n",
    "\n",
    "Use markdown formatting.\n",
    "\n",
    "For your introduction, create a compelling title and use the # header for the title.\n",
    "\n",
    "For your introduction, use ## Introduction as the section header.\n",
    "\n",
    "For your conclusion, use ## Conclusion as the section header.\n",
    "\n",
    "Here are the sections to reflect on for writing: {formatted_str_sections}\"\"\"\n",
    "\n",
    "def write_pre_race_briefing(state: RaceStrategyState):\n",
    "    memos = state[\"strategy_memos\"]\n",
    "    race_name = state[\"race_name\"]\n",
    "\n",
    "    formatted_str_memos = \"\\n\\n\".join([f\"{memo}\" for memo in memos])\n",
    "\n",
    "    instructions = intro_conclusion_instructions.format(race_name=race_name, formatted_str_sections=formatted_str_memos)\n",
    "    briefing = llm.invoke([instructions]+[HumanMessage(content=f\"Write the pre-race briefing\")])\n",
    "    return {\"pre_race_briefing\": briefing.content}\n",
    "\n",
    "def write_final_recommendation(state: RaceStrategyState):\n",
    "    memos = state[\"strategy_memos\"]\n",
    "    race_name = state[\"race_name\"]\n",
    "\n",
    "    formatted_str_memos = \"\\n\\n\".join([f\"{memo}\" for memo in memos])\n",
    "\n",
    "    instructions = intro_conclusion_instructions.format(race_name=race_name, formatted_str_sections=formatted_str_memos)\n",
    "    recommendation = llm.invoke([instructions]+[HumanMessage(content=f\"Write the final recommendation\")])\n",
    "    return {\"final_recommendation\": recommendation.content}\n",
    "\n",
    "def finalize_strategy_report(state: RaceStrategyState):\n",
    "    \"\"\" The is the \"reduce\" step where we gather all the sections, combine them, and reflect on them to write the intro/conclusion \"\"\"\n",
    "    summary = state[\"strategy_summary\"]\n",
    "    if summary.startswith(\"## Strategy Summary\"):\n",
    "        summary = summary.strip(\"## Strategy Summary\")\n",
    "    if \"## Data Sources\" in summary:\n",
    "        try:\n",
    "            summary, sources = summary.split(\"\\n## Data Sources\\n\")\n",
    "        except:\n",
    "            sources = None\n",
    "    else:\n",
    "        sources = None\n",
    "\n",
    "    final_report = state[\"pre_race_briefing\"] + \"\\n\\n---\\n\\n\" + summary + \"\\n\\n---\\n\\n\" + state[\"final_recommendation\"]\n",
    "    if sources is not None:\n",
    "        final_report += \"\\n\\n## Data Sources\\n\" + sources\n",
    "    return {\"final_strategy_report\": final_report}\n",
    "\n",
    "builder = StateGraph(RaceStrategyState)\n",
    "builder.add_node(\"create_engineers\", create_engineers)\n",
    "builder.add_node(\"race_director_review\", human_feedback)\n",
    "builder.add_node(\"run_simulation_debrief\", sim_graph) # <-- This is the corrected line\n",
    "builder.add_node(\"write_strategy_summary\",write_strategy_summary)\n",
    "builder.add_node(\"write_pre_race_briefing\",write_pre_race_briefing)\n",
    "builder.add_node(\"write_final_recommendation\",write_final_recommendation)\n",
    "builder.add_node(\"finalize_strategy_report\",finalize_strategy_report)\n",
    "\n",
    "builder.add_edge(START, \"create_engineers\")\n",
    "builder.add_edge(\"create_engineers\", \"race_director_review\")\n",
    "builder.add_conditional_edges(\"race_director_review\", initiate_all_simulations, [\"create_engineers\", \"run_simulation_debrief\"])\n",
    "builder.add_edge(\"run_simulation_debrief\", \"write_strategy_summary\")\n",
    "builder.add_edge(\"run_simulation_debrief\", \"write_pre_race_briefing\")\n",
    "builder.add_edge(\"run_simulation_debrief\", \"write_final_recommendation\")\n",
    "builder.add_edge([\"write_final_recommendation\", \"write_strategy_summary\", \"write_pre_race_briefing\"], \"finalize_strategy_report\")\n",
    "builder.add_edge(\"finalize_strategy_report\", END)\n",
    "\n",
    "memory = MemorySaver()\n",
    "graph = builder.compile(interrupt_before=['race_director_review'], checkpointer=memory)\n",
    "display(Image(graph.get_graph(xray=1).draw_mermaid_png()))"
   ],
   "outputs": [
    {
     "name": "stderr",
     "output_type": "stream",
     "text": [
      "/var/folders/1f/vl83__r51wd66hnxlnlgncx00000gn/T/ipykernel_2064/3088371665.py:1: LangGraphDeprecatedSinceV10: Importing Send from langgraph.constants is deprecated. Please use 'from langgraph.types import Send' instead. Deprecated in LangGraph V1.0 to be removed in V2.0.\n",
      "  from langgraph.constants import Send\n"
     ]
    },
    {
     "data": {
      "image/png": "[encoded data removed]",
      "text/plain": [
       "<IPython.core.display.Image object>"
      ]
     },
     "metadata": {},
     "output_type": "display_data",
     "jetTransient": {
      "display_id": null
     }
    }
   ],
   "execution_count": 25
  },
  {
   "cell_type": "code",
   "id": "362932ee-4106-4a2d-a32d-b812eafcf9df",
   "metadata": {
    "ExecuteTime": {
     "end_time": "2025-10-31T03:39:39.639991Z",
     "start_time": "2025-10-31T03:39:37.640822Z"
    }
   },
   "source": [
    "max_engineers = 3\n",
    "race_name = \"The benefits of adopting LangGraph as an agent framework\"\n",
    "thread = {\"configurable\": {\"thread_id\": \"1\"}}\n",
    "\n",
    "for event in graph.stream({\"race_name\":race_name,\n",
    "                           \"max_engineers\":max_engineers},\n",
    "                          thread,\n",
    "                          stream_mode=\"values\"):\n",
    "\n",
    "    engineers = event.get('engineers', '')\n",
    "    if engineers:\n",
    "        for engineer in engineers:\n",
    "            print(f\"Name: {engineer.name}\")\n",
    "            print(f\"Team: {engineer.team}\")\n",
    "            print(f\"Role: {engineer.role}\")\n",
    "            print(f\"Focus: {engineer.focus}\")\n",
    "            print(\"-\" * 50)"
   ],
   "outputs": [
    {
     "name": "stdout",
     "output_type": "stream",
     "text": [
      "Name: Alex Turner\n",
      "Team: Mercedes\n",
      "Role: Tire Strategy Engineer\n",
      "Focus: Monitoring tire degradation and managing pit stops to optimize tire life and performance.\n",
      "--------------------------------------------------\n",
      "Name: Sofia Martinez\n",
      "Team: Red Bull\n",
      "Role: Weather and Track Conditions Engineer\n",
      "Focus: Analyzing weather forecasts and track conditions to advise on optimal race pace and pit timing.\n",
      "--------------------------------------------------\n",
      "Name: Liam Chen\n",
      "Team: Ferrari\n",
      "Role: Fuel Strategy Engineer\n",
      "Focus: Calculating fuel loads and managing fuel consumption strategies to ensure optimal race endurance and performance.\n",
      "--------------------------------------------------\n"
     ]
    }
   ],
   "execution_count": 26
  },
  {
   "cell_type": "code",
   "id": "ac521a5f-5a4f-44f9-8af9-d05228e20882",
   "metadata": {
    "ExecuteTime": {
     "end_time": "2025-10-31T03:39:39.651195Z",
     "start_time": "2025-10-31T03:39:39.646772Z"
    }
   },
   "source": [
    "graph.update_state(thread, {\"race_director_feedback\":\n",
    "                                \"Add in a tyre degradation expert from Pirelli\"}, as_node=\"race_director_review\")"
   ],
   "outputs": [
    {
     "data": {
      "text/plain": [
       "{'configurable': {'thread_id': '1',\n",
       "  'checkpoint_ns': '',\n",
       "  'checkpoint_id': '1f0b60b3-ad62-6066-8002-bcee0845b1cd'}}"
      ]
     },
     "execution_count": 27,
     "metadata": {},
     "output_type": "execute_result"
    }
   ],
   "execution_count": 27
  },
  {
   "cell_type": "code",
   "id": "a3be311f-62ee-49e7-b037-75c53d8960a8",
   "metadata": {
    "ExecuteTime": {
     "end_time": "2025-10-31T03:39:43.512752Z",
     "start_time": "2025-10-31T03:39:41.572854Z"
    }
   },
   "source": [
    "for event in graph.stream(None, thread, stream_mode=\"values\"):\n",
    "    engineers = event.get('engineers', '')\n",
    "    if engineers:\n",
    "        for engineer in engineers:\n",
    "            print(f\"Name: {engineer.name}\")\n",
    "            print(f\"Team: {engineer.team}\")\n",
    "            print(f\"Role: {engineer.role}\")\n",
    "            print(f\"Focus: {engineer.focus}\")\n",
    "            print(\"-\" * 50)"
   ],
   "outputs": [
    {
     "name": "stdout",
     "output_type": "stream",
     "text": [
      "Name: Alex Turner\n",
      "Team: Mercedes\n",
      "Role: Tire Strategy Engineer\n",
      "Focus: Monitoring tire degradation and managing pit stops to optimize tire life and performance.\n",
      "--------------------------------------------------\n",
      "Name: Sofia Martinez\n",
      "Team: Red Bull\n",
      "Role: Weather and Track Conditions Engineer\n",
      "Focus: Analyzing weather forecasts and track conditions to advise on optimal race pace and pit timing.\n",
      "--------------------------------------------------\n",
      "Name: Liam Chen\n",
      "Team: Ferrari\n",
      "Role: Fuel Strategy Engineer\n",
      "Focus: Calculating fuel loads and managing fuel consumption strategies to ensure optimal race endurance and performance.\n",
      "--------------------------------------------------\n",
      "Name: Alex Turner\n",
      "Team: Mercedes\n",
      "Role: Tire Degradation Specialist\n",
      "Focus: Monitor tire wear and degradation patterns to optimize pit stop timing and tire choices, ensuring maximum grip and durability throughout the race.\n",
      "--------------------------------------------------\n",
      "Name: Sofia Martinez\n",
      "Team: Red Bull\n",
      "Role: Fuel Strategy Coordinator\n",
      "Focus: Develop and adjust fuel load strategies based on race pace, safety car periods, and track conditions to maximize performance and efficiency.\n",
      "--------------------------------------------------\n",
      "Name: Liam Chen\n",
      "Team: Pirelli\n",
      "Role: Tyre Degradation Expert\n",
      "Focus: Provide real-time analysis of tyre degradation rates, advising on optimal tire management and degradation mitigation to extend tyre life and improve race outcomes.\n",
      "--------------------------------------------------\n"
     ]
    }
   ],
   "execution_count": 28
  },
  {
   "cell_type": "code",
   "id": "0af41f54-88d9-4597-98b0-444c08322095",
   "metadata": {
    "ExecuteTime": {
     "end_time": "2025-10-31T03:39:43.532030Z",
     "start_time": "2025-10-31T03:39:43.528513Z"
    }
   },
   "source": [
    "graph.update_state(thread, {\"race_director_feedback\":\n",
    "                            None}, as_node=\"race_director_review\")"
   ],
   "outputs": [
    {
     "data": {
      "text/plain": [
       "{'configurable': {'thread_id': '1',\n",
       "  'checkpoint_ns': '',\n",
       "  'checkpoint_id': '1f0b60b3-d265-6f84-8004-0bb57b54aaff'}}"
      ]
     },
     "execution_count": 29,
     "metadata": {},
     "output_type": "execute_result"
    }
   ],
   "execution_count": 29
  },
  {
   "cell_type": "code",
   "id": "37123ca7-c20b-43c1-9a71-39ba344e7ca6",
   "metadata": {
    "ExecuteTime": {
     "end_time": "2025-10-31T03:40:23.258238Z",
     "start_time": "2025-10-31T03:39:44.910633Z"
    }
   },
   "source": [
    "for event in graph.stream(None, thread, stream_mode=\"updates\"):\n",
    "    print(\"--Node--\")\n",
    "    node_name = next(iter(event.keys()))\n",
    "    print(node_name)"
   ],
   "outputs": [
    {
     "name": "stdout",
     "output_type": "stream",
     "text": [
      "--Node--\n",
      "run_simulation_debrief\n",
      "--Node--\n",
      "run_simulation_debrief\n",
      "--Node--\n",
      "run_simulation_debrief\n",
      "--Node--\n",
      "write_final_recommendation\n",
      "--Node--\n",
      "write_pre_race_briefing\n",
      "--Node--\n",
      "write_strategy_summary\n",
      "--Node--\n",
      "finalize_strategy_report\n"
     ]
    }
   ],
   "execution_count": 30
  },
  {
   "cell_type": "code",
   "id": "f8f66ad8-80fd-4eb2-96b6-6ae9dffd060c",
   "metadata": {
    "ExecuteTime": {
     "end_time": "2025-10-31T03:40:23.266468Z",
     "start_time": "2025-10-31T03:40:23.263025Z"
    }
   },
   "source": [
    "from IPython.display import Markdown\n",
    "final_state = graph.get_state(thread)\n",
    "report = final_state.values.get('final_strategy_report')\n",
    "Markdown(report)"
   ],
   "outputs": [
    {
     "data": {
      "text/plain": [
       "<IPython.core.display.Markdown object>"
      ],
      "text/markdown": "# Unlocking Race Edge with LangGraph: The Future of Strategy\n\n## Introduction\n\nIn the high-stakes world of Formula 1, strategic advantage hinges on advanced decision-making capabilities. This briefing previews how adopting LangGraph as an agent framework can revolutionize race strategies by enabling iterative, adaptive, and real-time decision processes. We explore its support for cyclical workflows, multi-agent collaboration, and seamless integration with telemetry data—empowering teams to optimize tire management, fuel loads, and overall race execution. Leveraging these cutting-edge tools promises a transformative edge, turning complex data into actionable insights and elevating race performance to new heights.\n\n---\n\n\n\nThe adoption of LangGraph as an agent framework offers transformative benefits across multiple facets of race strategy, particularly in tire management, fuel load optimization, and dynamic decision-making processes. By leveraging its support for cyclical workflows, stateful interactions, and multi-agent orchestration, teams can transition from reactive to proactive, data-driven strategies that adapt seamlessly to the unpredictable and complex environment of Formula 1 racing.\n\nIn tire degradation management, LangGraph’s ability to facilitate iterative, looped analysis enables continuous refinement of tire wear predictions. Traditional linear models often fall short in capturing the non-linear, multi-mechanistic nature of tire wear, which involves thermal effects, abrasion, and sliding-induced degradation. The framework’s support for stateful workflows ensures that historical data and real-time telemetry are preserved across multiple cycles, allowing for nuanced, context-aware decision-making. This capability aligns with the need for ongoing assessment during a race, where conditions evolve rapidly, and strategic adjustments are critical [1][2][3].\n\nFurthermore, the integration of machine learning models with multi-season telemetry data enhances predictive accuracy for tire lifespan and optimal pit stop timing. These models incorporate numerous performance indicators—such as temperature gradients, pressure variations, and compound-specific degradation rates—enabling precise, circuit-specific forecasts. Such predictive power surpasses traditional static models, providing real-time insights that inform proactive strategies rather than reactive responses [4][5][6].\n\nSimilarly, in fuel load management, LangGraph’s support for event-driven, cyclical workflows allows for iterative optimization of fuel strategies. Small variations in fuel weight significantly impact lap times and vehicle handling, with simulation data indicating that every 10 kg of additional fuel can add approximately 0.3 seconds to lap times [5]. The framework’s ability to respond dynamically to race events—such as safety car periods or environmental changes—ensures that fuel strategies remain flexible and optimized throughout the race. Real-time data analytics combined with precise control over agent interactions facilitate rapid adjustments, maximizing performance while managing safety and efficiency [1][2][3].\n\nFinally, the framework’s capacity to model complex, non-linear dependencies through graph-based architectures supports comprehensive understanding and management of tyre physics and degradation mechanisms. This holistic approach enables teams to formulate nuanced strategies—such as timing pit stops for soft tires with rapid wear or leveraging safety car periods for optimal tyre changes—by continuously integrating telemetry data, environmental conditions, and physical insights [1][3].\n\nIn conclusion, LangGraph’s advanced agent capabilities—supporting cyclical workflows, state management, multi-agent orchestration, and real-time responsiveness—empower race teams to develop highly adaptive, predictive, and efficient strategies. This technological shift from reactive to proactive race management promises a significant competitive edge, optimizing performance, safety, and resource utilization in the demanding environment of Formula 1.\n\n\n---\n\n## Conclusion\n\nAdopting LangGraph as an agent framework offers a transformative edge in race strategy optimization. Its support for cyclical workflows, robust state management, and seamless integration with telemetry data enables real-time, adaptive decision-making across tire and fuel management domains. By leveraging these capabilities, teams can develop predictive, context-aware systems that continuously refine strategies, respond swiftly to race dynamics, and maximize performance. Embracing LangGraph positions your organization at the forefront of data-driven racing innovation, ensuring a competitive advantage through smarter, more responsive race strategies.\n\n## Data Sources\n\n[1] https://medium.com/@ken_lin/langgraph-a-framework-for-building-stateful-multi-agent-llm-applications-a51d5eb68d03  \n[2] https://docs.langchain.com/oss/python/langgraph/overview  \n[3] https://www.3pillarglobal.com/insights/blog/comparison-crewai-langgraph-n8n/  \n[4] https://www.raceteq.com/articles/2024/08/the-science-behind-tyre-degradation-in-formula-1  \n[5] https://medium.com/formula-one-forever/underrated-stat-why-tire-wear-is-more-predictive-than-qualifying-c0cbf9f31231  \n[6] https://en.wikipedia.org/wiki/Semantic_Web"
     },
     "execution_count": 31,
     "metadata": {},
     "output_type": "execute_result"
    }
   ],
   "execution_count": 31
  }
 ],
 "metadata": {
  "kernelspec": {
   "display_name": "Python 3 (ipykernel)",
   "language": "python",
   "name": "python3"
  },
  "language_info": {
   "codemirror_mode": {
    "name": "ipython",
    "version": 3
   },
   "file_extension": ".py",
   "mimetype": "text/x-python",
   "name": "python",
   "nbconvert_exporter": "python",
   "pygments_lexer": "ipython3",
   "version": "3.11.8"
  }
 },
 "nbformat": 4,
 "nbformat_minor": 5
}
