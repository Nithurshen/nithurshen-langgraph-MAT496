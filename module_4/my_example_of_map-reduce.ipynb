{
 "cells": [
  {
   "cell_type": "code",
   "id": "ff57cbf7",
   "metadata": {
    "ExecuteTime": {
     "end_time": "2025-10-31T03:19:37.515202Z",
     "start_time": "2025-10-31T03:19:37.509683Z"
    }
   },
   "source": [
    "import os, getpass\n",
    "from dotenv import load_dotenv\n",
    "load_dotenv(\"../../.env\")"
   ],
   "outputs": [
    {
     "data": {
      "text/plain": [
       "True"
      ]
     },
     "execution_count": 1,
     "metadata": {},
     "output_type": "execute_result"
    }
   ],
   "execution_count": 1
  },
  {
   "cell_type": "code",
   "id": "994cf903-1ed6-4ae2-b32a-7891a2808f81",
   "metadata": {
    "ExecuteTime": {
     "end_time": "2025-10-31T03:19:37.912429Z",
     "start_time": "2025-10-31T03:19:37.517695Z"
    }
   },
   "source": [
    "from langchain_openai import ChatOpenAI\n",
    "\n",
    "# Prompts we will use\n",
    "drivers_prompt = \"\"\"Generate a list of 3 top drivers for this race: {race_name}.\"\"\"\n",
    "lap_time_prompt = \"\"\"Generate a simulated qualifying lap time for {driver} at this track.\n",
    "Format: 'Driver: [Driver], Lap Time: [M:SS.mmm]'\"\"\"\n",
    "pole_position_prompt = \"\"\"Below are several qualifying lap times for {race_name}. Select the fastest one (Pole Position)!\n",
    "Return the ID of the fastest one, starting 0 as the ID for the first lap.\n",
    "Laps: \\n\\n  {laps}\"\"\"\n",
    "\n",
    "# LLM\n",
    "model = ChatOpenAI(model=\"gpt-4.1-nano\", temperature=0)"
   ],
   "outputs": [],
   "execution_count": 2
  },
  {
   "cell_type": "code",
   "id": "099218ca-ee78-4291-95a1-87ee61382e3b",
   "metadata": {
    "ExecuteTime": {
     "end_time": "2025-10-31T03:19:37.917480Z",
     "start_time": "2025-10-31T03:19:37.915311Z"
    }
   },
   "source": [
    "import operator\n",
    "from typing import Annotated\n",
    "from typing_extensions import TypedDict\n",
    "from pydantic import BaseModel\n",
    "\n",
    "class Drivers(BaseModel):\n",
    "    drivers: list[str]\n",
    "\n",
    "class PolePosition(BaseModel):\n",
    "    id: int\n",
    "\n",
    "class RaceQualiState(TypedDict):\n",
    "    race_name: str\n",
    "    drivers: list\n",
    "    laps: Annotated[list, operator.add]\n",
    "    pole_lap: str"
   ],
   "outputs": [],
   "execution_count": 3
  },
  {
   "cell_type": "code",
   "id": "45010efd-ad31-4daa-b77e-aaec79ef0309",
   "metadata": {
    "ExecuteTime": {
     "end_time": "2025-10-31T03:19:37.920908Z",
     "start_time": "2025-10-31T03:19:37.919472Z"
    }
   },
   "source": [
    "def get_drivers(state: RaceQualiState):\n",
    "    prompt = drivers_prompt.format(race_name=state[\"race_name\"])\n",
    "    response = model.with_structured_output(Drivers).invoke(prompt)\n",
    "    return {\"drivers\": response.drivers}"
   ],
   "outputs": [],
   "execution_count": 4
  },
  {
   "cell_type": "code",
   "id": "bc83e575-11f6-41a9-990a-adb571bcda06",
   "metadata": {
    "ExecuteTime": {
     "end_time": "2025-10-31T03:19:37.931939Z",
     "start_time": "2025-10-31T03:19:37.922936Z"
    }
   },
   "source": [
    "from langgraph.types import Send\n",
    "def continue_to_laps(state: RaceQualiState):\n",
    "    return [Send(\"simulate_lap\", {\"driver\": d}) for d in state[\"drivers\"]]"
   ],
   "outputs": [],
   "execution_count": 5
  },
  {
   "cell_type": "code",
   "id": "bcddc567-73d3-4fb3-bfc5-1bea538f2aab",
   "metadata": {
    "ExecuteTime": {
     "end_time": "2025-10-31T03:19:37.935804Z",
     "start_time": "2025-10-31T03:19:37.934099Z"
    }
   },
   "source": [
    "class LapSimState(TypedDict):\n",
    "    driver: str\n",
    "\n",
    "class LapTime(BaseModel):\n",
    "    lap_time: str\n",
    "\n",
    "def simulate_lap(state: LapSimState):\n",
    "    prompt = lap_time_prompt.format(driver=state[\"driver\"])\n",
    "    response = model.with_structured_output(LapTime).invoke(prompt)\n",
    "    return {\"laps\": [response.lap_time]}"
   ],
   "outputs": [],
   "execution_count": 6
  },
  {
   "cell_type": "code",
   "id": "8d672870-75e3-4307-bda0-c41a86cbbaff",
   "metadata": {
    "ExecuteTime": {
     "end_time": "2025-10-31T03:19:37.939381Z",
     "start_time": "2025-10-31T03:19:37.937969Z"
    }
   },
   "source": [
    "def get_pole_position(state: RaceQualiState):\n",
    "    laps = \"\\n\\n\".join(state[\"laps\"])\n",
    "    prompt = pole_position_prompt.format(race_name=state[\"race_name\"], laps=laps)\n",
    "    response = model.with_structured_output(PolePosition).invoke(prompt)\n",
    "    return {\"pole_lap\": state[\"laps\"][response.id]}"
   ],
   "outputs": [],
   "execution_count": 7
  },
  {
   "cell_type": "code",
   "id": "2ae6be4b-144e-483c-88ad-ce86d6477a0d",
   "metadata": {
    "ExecuteTime": {
     "end_time": "2025-10-31T03:19:38.475989Z",
     "start_time": "2025-10-31T03:19:37.941297Z"
    }
   },
   "source": [
    "from IPython.display import Image\n",
    "from langgraph.graph import END, StateGraph, START\n",
    "\n",
    "# Construct the graph: here we put everything together to construct our graph\n",
    "graph = StateGraph(RaceQualiState)\n",
    "graph.add_node(\"get_drivers\", get_drivers)\n",
    "graph.add_node(\"simulate_lap\", simulate_lap)\n",
    "graph.add_node(\"get_pole_position\", get_pole_position)\n",
    "graph.add_edge(START, \"get_drivers\")\n",
    "graph.add_conditional_edges(\"get_drivers\", continue_to_laps, [\"simulate_lap\"])\n",
    "graph.add_edge(\"simulate_lap\", \"get_pole_position\")\n",
    "graph.add_edge(\"get_pole_position\", END)\n",
    "\n",
    "# Compile the graph\n",
    "app = graph.compile()\n",
    "Image(app.get_graph().draw_mermaid_png())"
   ],
   "outputs": [
    {
     "data": {
      "image/png": "[encoded data removed]",
      "text/plain": [
       "<IPython.core.display.Image object>"
      ]
     },
     "execution_count": 8,
     "metadata": {},
     "output_type": "execute_result"
    }
   ],
   "execution_count": 8
  },
  {
   "cell_type": "code",
   "id": "e21dc7c9-0add-4125-be76-af701adb874a",
   "metadata": {
    "ExecuteTime": {
     "end_time": "2025-10-31T03:19:41.849691Z",
     "start_time": "2025-10-31T03:19:38.483871Z"
    }
   },
   "source": [
    "# Call the graph: here we call it to generate a list of lap times\n",
    "for s in app.stream({\"race_name\": \"Monaco Grand Prix\"}):\n",
    "    print(s)"
   ],
   "outputs": [
    {
     "name": "stdout",
     "output_type": "stream",
     "text": [
      "{'get_drivers': {'drivers': ['Max Verstappen', 'Lewis Hamilton', 'Charles Leclerc']}}\n",
      "{'simulate_lap': {'laps': ['Driver: Max Verstappen, Lap Time: 1:12.345']}}\n",
      "{'simulate_lap': {'laps': ['Driver: Charles Leclerc, Lap Time: 1:12.345']}}\n",
      "{'simulate_lap': {'laps': ['Driver: Lewis Hamilton, Lap Time: 1:12.345']}}\n",
      "{'get_pole_position': {'pole_lap': 'Driver: Max Verstappen, Lap Time: 1:12.345'}}\n"
     ]
    }
   ],
   "execution_count": 9
  }
 ],
 "metadata": {
  "kernelspec": {
   "display_name": "Python 3 (ipykernel)",
   "language": "python",
   "name": "python3"
  },
  "language_info": {
   "codemirror_mode": {
    "name": "ipython",
    "version": 3
   },
   "file_extension": ".py",
   "mimetype": "text/x-python",
   "name": "python",
   "nbconvert_exporter": "python",
   "pygments_lexer": "ipython3",
   "version": "3.12.1"
  }
 },
 "nbformat": 4,
 "nbformat_minor": 5
}
