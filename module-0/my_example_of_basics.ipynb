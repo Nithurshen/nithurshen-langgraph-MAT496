{
 "cells": [
  {
   "cell_type": "code",
   "id": "c2a15227",
   "metadata": {
    "ExecuteTime": {
     "end_time": "2025-10-16T09:54:57.232180Z",
     "start_time": "2025-10-16T09:54:57.227143Z"
    }
   },
   "source": [
    "import os, getpass\n",
    "from dotenv import load_dotenv\n",
    "\n",
    "load_dotenv(\"../.env\")"
   ],
   "outputs": [
    {
     "data": {
      "text/plain": [
       "True"
      ]
     },
     "execution_count": 1,
     "metadata": {},
     "output_type": "execute_result"
    }
   ],
   "execution_count": 1
  },
  {
   "cell_type": "code",
   "id": "e19a54d3",
   "metadata": {
    "ExecuteTime": {
     "end_time": "2025-10-16T09:58:44.777421Z",
     "start_time": "2025-10-16T09:58:44.773392Z"
    }
   },
   "source": [
    "from langchain_openai import ChatOpenAI\n",
    "gpt41_chat = ChatOpenAI(model=\"gpt-4.1-nano\", temperature=0)\n",
    "gpt4o_chat = ChatOpenAI(model=\"gpt-4o-mini\", temperature=0)"
   ],
   "outputs": [],
   "execution_count": 12
  },
  {
   "cell_type": "code",
   "id": "b1280e1b",
   "metadata": {
    "ExecuteTime": {
     "end_time": "2025-10-16T09:58:46.651594Z",
     "start_time": "2025-10-16T09:58:45.678264Z"
    }
   },
   "source": [
    "from langchain_core.messages import HumanMessage\n",
    "\n",
    "# Create a message\n",
    "msg = HumanMessage(content=\"Hello world\", name=\"Lance\")\n",
    "\n",
    "# Message list\n",
    "messages = [msg]\n",
    "\n",
    "# Invoke the model with a list of messages \n",
    "gpt41_chat.invoke(messages)"
   ],
   "outputs": [
    {
     "data": {
      "text/plain": [
       "AIMessage(content='Hello! How can I assist you today?', additional_kwargs={'refusal': None}, response_metadata={'token_usage': {'completion_tokens': 9, 'prompt_tokens': 11, 'total_tokens': 20, 'completion_tokens_details': {'accepted_prediction_tokens': 0, 'audio_tokens': 0, 'reasoning_tokens': 0, 'rejected_prediction_tokens': 0}, 'prompt_tokens_details': {'audio_tokens': 0, 'cached_tokens': 0}}, 'model_name': 'gpt-4.1-nano-2025-04-14', 'system_fingerprint': 'fp_1f35c1788c', 'id': 'chatcmpl-CRF2siZSMVJeXzRqzKrecF3uRTu9E', 'service_tier': 'default', 'finish_reason': 'stop', 'logprobs': None}, id='run--60236cb3-ebf7-4464-a8ca-0e61ff845916-0', usage_metadata={'input_tokens': 11, 'output_tokens': 9, 'total_tokens': 20, 'input_token_details': {'audio': 0, 'cache_read': 0}, 'output_token_details': {'audio': 0, 'reasoning': 0}})"
      ]
     },
     "execution_count": 13,
     "metadata": {},
     "output_type": "execute_result"
    }
   ],
   "execution_count": 13
  },
  {
   "cell_type": "code",
   "id": "f27c6c9a",
   "metadata": {
    "ExecuteTime": {
     "end_time": "2025-10-16T09:58:49.673720Z",
     "start_time": "2025-10-16T09:58:47.907870Z"
    }
   },
   "source": "gpt41_chat.invoke(\"hello world\")",
   "outputs": [
    {
     "data": {
      "text/plain": [
       "AIMessage(content='Hello! How can I assist you today?', additional_kwargs={'refusal': None}, response_metadata={'token_usage': {'completion_tokens': 9, 'prompt_tokens': 9, 'total_tokens': 18, 'completion_tokens_details': {'accepted_prediction_tokens': 0, 'audio_tokens': 0, 'reasoning_tokens': 0, 'rejected_prediction_tokens': 0}, 'prompt_tokens_details': {'audio_tokens': 0, 'cached_tokens': 0}}, 'model_name': 'gpt-4.1-nano-2025-04-14', 'system_fingerprint': 'fp_1f35c1788c', 'id': 'chatcmpl-CRF2u7VBgPMSvFpizNFwaJDthWUlB', 'service_tier': 'default', 'finish_reason': 'stop', 'logprobs': None}, id='run--61646c0d-41d4-4b38-997c-0300cbb71edb-0', usage_metadata={'input_tokens': 9, 'output_tokens': 9, 'total_tokens': 18, 'input_token_details': {'audio': 0, 'cache_read': 0}, 'output_token_details': {'audio': 0, 'reasoning': 0}})"
      ]
     },
     "execution_count": 14,
     "metadata": {},
     "output_type": "execute_result"
    }
   ],
   "execution_count": 14
  },
  {
   "cell_type": "code",
   "id": "fdc2f0ca",
   "metadata": {
    "ExecuteTime": {
     "end_time": "2025-10-16T09:58:54.709746Z",
     "start_time": "2025-10-16T09:58:52.741909Z"
    }
   },
   "source": "gpt4o_chat.invoke(\"hello world\")",
   "outputs": [
    {
     "data": {
      "text/plain": [
       "AIMessage(content='Hello! How can I assist you today?', additional_kwargs={'refusal': None}, response_metadata={'token_usage': {'completion_tokens': 9, 'prompt_tokens': 9, 'total_tokens': 18, 'completion_tokens_details': {'accepted_prediction_tokens': 0, 'audio_tokens': 0, 'reasoning_tokens': 0, 'rejected_prediction_tokens': 0}, 'prompt_tokens_details': {'audio_tokens': 0, 'cached_tokens': 0}}, 'model_name': 'gpt-4o-mini-2024-07-18', 'system_fingerprint': 'fp_560af6e559', 'id': 'chatcmpl-CRF30OfrGRtWMNThiy7NoFO3Qhyuq', 'service_tier': 'default', 'finish_reason': 'stop', 'logprobs': None}, id='run--a9599440-f922-4d01-9120-19e9d7e1deb4-0', usage_metadata={'input_tokens': 9, 'output_tokens': 9, 'total_tokens': 18, 'input_token_details': {'audio': 0, 'cache_read': 0}, 'output_token_details': {'audio': 0, 'reasoning': 0}})"
      ]
     },
     "execution_count": 15,
     "metadata": {},
     "output_type": "execute_result"
    }
   ],
   "execution_count": 15
  },
  {
   "cell_type": "code",
   "id": "52d69da9",
   "metadata": {
    "ExecuteTime": {
     "end_time": "2025-10-16T09:59:50.122010Z",
     "start_time": "2025-10-16T09:59:41.552805Z"
    }
   },
   "source": [
    "from langchain_community.tools.tavily_search import TavilySearchResults\n",
    "tavily_search = TavilySearchResults(max_results=50)\n",
    "search_docs = tavily_search.invoke(\"Who is Max Verstappen?\")"
   ],
   "outputs": [],
   "execution_count": 18
  },
  {
   "cell_type": "code",
   "id": "d06f87e6",
   "metadata": {
    "ExecuteTime": {
     "end_time": "2025-10-16T09:59:55.585025Z",
     "start_time": "2025-10-16T09:59:55.577522Z"
    }
   },
   "source": [
    "search_docs"
   ],
   "outputs": [
    {
     "data": {
      "text/plain": [
       "[{'title': 'Wikipedia Max Verstappen - Wikipedia',\n",
       "  'url': 'https://en.wikipedia.org/wiki/Max_Verstappen',\n",
       "  'content': '5 days ago - Verstappen was listed in the 2024 issue of Time as one of the 100 most influential people globally, and was appointed an Officer of the Order of Orange-Nassau in 2022. Max Emilian Verstappen was born on 30 September 1997 in Hasselt, Belgium to Jos Verstappen and Sophie Kumpen .',\n",
       "  'score': 0.98552},\n",
       " {'title': 'Max Verstappen | Pitwall',\n",
       "  'url': 'https://pitwall.app/drivers/max-verstappen',\n",
       "  'content': 'Max Verstappen : Career overview and Formula 1 statistics. Max Verstappen is a Dutch Formula 1 driver born on September 30, 1997. He made his Formula 1 debut at the 2015 Australian Grand Prix, driving for Toro Rosso. Career highlights .',\n",
       "  'score': 0.98434},\n",
       " {'title': 'Encyclopedia Britannica Max Verstappen | Biography, F1 Championships, Father, & Facts | Britannica',\n",
       "  'url': 'https://www.britannica.com/biography/Max-Verstappen',\n",
       "  'content': 'Ask the Chatbot   Games & Quizzes  History & Society  Science & Tech  Biographies  Animals & Nature  Geography & Travel  Arts & Culture  ProCon  Money  Videos He started slowly, with a 10th-place finish at the season opener in Australia, but within two months he had set another F1 record: his victory at the Spanish Grand Prix on May 15, 2016, made him the youngest driver ever to win an F1 championship race. Red Bull’s cars proved successful, while Mercedes’ slumped: Verstappen dominated the season with 15 wins, and he secured his second drivers’ championship, while his rival Hamilton finished sixth. Over the next six races, however, Verstappen won twice and finished second once, and he maintained a comfortable lead in the drivers’ championship heading into F1’s annual summer break.',\n",
       "  'score': 0.98372},\n",
       " {'title': \"25 Times Max Verstappen Proved He's on Another LEVEL! Top 10: Max Verstappen Best F1 moments - Formula 1 Top Stories Max Verstappen Videos - F1 Video Clips & Highlights - Sky Sports Max Verstappen Videos, Highlights - ESPN Max Verstappen - Motor Sports Videos and Highlights Max Verstappen F1 Stats: Career Results, Teammates, and Teams Rise to Success: Career Highlights of Max Verstappen Max Verstappen Videos - F1 Video Clips & Highlights - Sky Sports Rise to Success: Career Highlights of Max Verstappen Max Verstappen F1 stats & results - GP Racing Stats Rise to Success: Career Highlights of Max Verstappen Rise to Success: Career Highlights of Max Verstappen Rise to Success: Career Highlights of Max Verstappen\",\n",
       "  'url': 'https://www.youtube.com/watch?v=VOTZ0k2LZUg',\n",
       "  'content': \"25 Times Max Verstappen Proved He's on Another LEVEL!\\nRacers Reverie\\n31800 subscribers\\n8321 likes\\n763377 views\\n23 Oct 2024\\n25 Times Max Verstappen Proved He's on Another LEVEL!\\n\\nMax Verstappen has redefined what it means to be an F1 champion. From jaw-dropping overtakes to race-defining moments, the Dutch driver has cemented his legacy as one of the greatest to ever grace the track. In this video, we break down 25 incredible moments where Max Verstappen showcased his unparalleled skill, fierce determination, and sheer brilliance behind the wheel.\\n\\nFrom his historic first F1 win at the 2016 Spanish GP to his dominant performances in the rain and unforgettable wheel-to-wheel battles, we’ll relive Max's greatest triumphs. These are the moments that show why he’s not just a world champion—he’s a racing legend. 🏆\\n\\nIf you’re a fan of Formula 1, Max Verstappen, or simply love watching epic moments in motorsport history, this is the ultimate compilation for you!\\n\\n🔔 Subscribe for more F1 content and hit the notification bell so you don’t miss out on the latest videos!\\n\\n* NOTE: There are no fatalities in this video *\\n\\n📺 Watch the entire video for more information!\\n\\n_______________________________________________________________\\nAbout Racers Reverie\\n🎥  Videos about Motorsports, F1, Racing, Nascar, MotoGP and more\\n🎨  Written, voiced and produced by Racers Reverie\\n🔔 SUBSCRIBE NOW  @RacersReverie \\n\\nContact: RacersReverie@gmail.com\\n___________________________________________________\\n\\n⚠️ Copyright Disclaimers\\n• We use images and content in accordance with the YouTube Fair Use copyright guidelines\\n• Section 107 of the U.S. Copyright Act states: “Notwithstanding the provisions of sections 106 and 106A, the fair use of a copyrighted work, including such use by reproduction in copies or phonorecords or by any other means specified by that section, for purposes such as criticism, comment, news reporting, teaching (including multiple copies for classroom use), scholarship, or research, is not an infringement of copyright.”\\n• This video could contain certain copyrighted video clips, pictures, or photographs that were not specifically authorized to be used by the copyright holder(s), but which we believe in good faith are protected by federal law and the fair use doctrine for one or more of the reasons noted above.\\n\\n#maxverstappen #f1 #formula1 #redbullracing\\n515 comments\\n\",\n",
       "  'score': 0.98085},\n",
       " {'title': 'Max Verstappen Biography| Karting Career|Family Background Max Verstappen - F1 Driver for Red Bull Racing - Formula 1 Max Verstappen – F1 Driver Profile, Stats & Biography - Total ... Max Verstappen - Wikiwand Max Verstappen | Biography , F1 Championships, Father, & Facts - Britan… Max Verstappen Biography | Karting Career|Family Background Max Verstappen | Biography , F1 Championships, Father, & Facts - Britan… Max Verstappen | Biography , F1 Championships, Father, & Facts - Britan… Max Verstappen Biography | Karting Career|Family Background Max Verstappen Biography | Karting Career|Family Background Max Verstappen Biography, Age, Career, Family, Net Worth',\n",
       "  'url': 'https://sports.info/autosport/max-verstappen-biography-9041432',\n",
       "  'content': \"May 22, 2025 · Learn about the Dutch F1 legend Max Verstappen, who started racing at 4 and became the youngest winner in 2016. Find out his full name, age, nationality, relationship, net worth and more. He’s Max by name, and max by nature. Arriving as Formula 1 ’s youngest ever competitor at just 17 years old, Verstappen pushed his car, his rivals and the sport’s record books to the limit. The baby-faced Dutchman with the heart of a lion took the Toro Rosso – and then the Red Bull – by the horns with his instinctive racing style. Max Verstappen biography , Formula 1 driver profile with age, height, weight and history in F1 from karting days to 2021 world title. Max Emilian Verstappen (Dutch pronunciation: [ˈmɑks fɛrˈstɑpə (n)]; born 30 September 1997) is a Dutch and Belgian racing driver who competes under the Dutch flag in Formula One for Red Bull Racing. Verstappen has won four Formula One World Drivers' Championship titles, which he won consecutively from 2021 to 2024 with Red Bull, and has won 67 Grands Prix across 11 seasons. Who is Max Verstappen? F1's youngest race winner Max Verstappen, pictured here in 2024, became the youngest Formula One (F1) race winner in 2016, when he won the Spanish Grand Prix. He later won three consecutive F1 drivers' championships. Laura Payne is a freelance writer whose work covers many topics. She is a former Wayne State University linguistics instructor. Who are Max Verstappen parents? The Red Bull driver was born on September 30, 1997. He started racing aged 4, and his parents supported his career as they are a racing family. Max Verstappen was influenced by his father Jos and his uncle, Michael Schumacher. They inspired him to become a Formula 1 driver. How old was Max Verstappen when he won F1? Max Verstappen: In 2016, at the age of 18 , Verstappen became the youngest driver to ever win an F1 race. He went on to win four consecutive world championships, 2021–24. Max Verstappen (b. 1997) is a race-car driver competing in Formula One (F1) under the Dutch flag. How many World Championships did Max Verstappen win? He went on to win four consecutive world championships, 2021–24. Max Verstappen (b. 1997) is a race-car driver competing in Formula One (F1) under the Dutch flag. He is the youngest F1 race winner, and he won four consecutive F1 drivers’ championships, from 2021 through 2024. Who influenced Max Verstappen? He started racing aged 4, and his parents supported his career as they are a racing family. Max Verstappen was influenced by his father Jos and his uncle, Michael Schumacher . They inspired him to become a Formula 1 driver. His father, Jos Verstappen, is the former teammate of seven-time world champion Michael Schumacher during the 90s. Is Max Verstappen the best driver on the grid? Four-time F1 world champion Max Verstappen is one of the legends in the sport, as he is the best driver on the grid . Verstappen was born to be a Formula 1 driver, as he thrives in a racing family. Over the years, he earned a reputation for being the most aggressive and skilful driver. But where did it all start? Sep 19, 2025 · Max Verstappen Biography Max Emilian Verstappen was born on September 30, 1997, in Hasselt, Belgium, to a family deeply rooted in motorsport. His father, Jos Verstappen , was a former Formula One driver from the Netherlands, while his mother, Sophie Kumpen, was a successful Belgian kart racer. Growing up in such an environment, racing was in his blood. Max has a younger sister named Victoria\",\n",
       "  'score': 0.98061},\n",
       " {'title': 'Max Verstappen - F1 Driver for Red Bull Racing - Formula 1',\n",
       "  'url': 'https://www.formula1.com/en/drivers/max-verstappen',\n",
       "  'content': 'Grand Prix Races Grand Prix Points Grand Prix Podiums Grand Prix Poles Grand Prix Top 10s F1’s youngest points scorer soon became its youngest race winner – at the age of 18 years and 228 days – with an opportunistic but controlled drive on debut for Red Bull in Barcelona 2016. An epic third successive championship triumph featured a record 19 wins from 23 Grands Prix, and he held on for a fourth in 2024, despite Red Bull falling off the pace towards the end of the campaign. 2025 Singapore Grand Prix: Verstappen fends off Norris attack in the closing stages0:36 * All the key moments from the Singapore Grand Prix * Verstappen feels traffic ‘cost me a shot at pole’ in Singapore',\n",
       "  'score': 0.97548},\n",
       " {'title': 'Max Verstappen : Records, and Future in Formula 1',\n",
       "  'url': 'https://talkfootball.co.uk/blog/max-verstappen-records',\n",
       "  'content': 'Max Verstappen : Career Highlights , Records, and Future in Formula 1. Max Verstappen has redefined what it means to be a modern Formula 1 champion.',\n",
       "  'score': 0.97203},\n",
       " {'title': 'Max Verstappen Formula 1 driver biography · RaceFans',\n",
       "  'url': 'https://www.racefans.net/max-verstappen/',\n",
       "  'content': 'Max Verstappen first competed in Formula 1 in 2015 and won his first world championship six years later. Read his biography on RaceFans.',\n",
       "  'score': 0.96773},\n",
       " {'title': 'Max Verstappen Career Recap - The Youngest... - GamingZion',\n",
       "  'url': 'https://www.gamingzion.com/gambling/gambling-news/max-verstappen-career-recap/',\n",
       "  'content': 'As we continue with our Max Verstappen career recap, it is important to highlight just how young Verstappen started to race. Essentially, his whole adolescence development was spent in cars, which affected his personality.',\n",
       "  'score': 0.96763},\n",
       " {'title': 'Who is Formula 1 champion Max Verstappen ? Career highlights',\n",
       "  'url': 'https://www.nationalworld.com/sport/formula-1/max-verstappen-who-is-formula-1-champion-net-worth-girlfriend-salary-and-career-of-lewis-hamiltons-rival-4048602',\n",
       "  'content': 'Max Verstappen ’s career highlights . Verstappen became the youngest person to compete in Formula 1 when, at the age of 17 years and 166 days, he competed for Toro Rosso in the 2015 Australian Grand Prix.',\n",
       "  'score': 0.96344},\n",
       " {'title': 'Motorsport Max Verstappen Profile - Bio, News, High-Res Photos & High Quality Videos',\n",
       "  'url': 'https://www.motorsport.com/driver/max-verstappen/17529/',\n",
       "  'content': 'Despite the controversy, Verstappen went on to acquit himself well during his first year with Toro Rosso, which preceded his promotion to Red Bull Racing five rounds into the 2016 F1 season, an occasion he historically marked by claiming a stunning maiden victory on his debut with the team. Though F1’s all-new technical directive posed a challenge for Red Bull initially when mechanical gremlins forced Verstappen to retire from two of the opening three races, he quickly found his stride thereafter. Red Bull caused a major stir by choosing Verstappen to join the Scuderia Toro Rosso team for the 2015 F1 season, the announcement having come mid-way through his first season of open-wheel racing while he was still just 16-years old.',\n",
       "  'score': 0.96303},\n",
       " {'title': 'Max Verstappen – F1 Driver Profile, Stats & Biography - Total ...',\n",
       "  'url': 'https://www.total-motorsport.com/f1-drivers/max-verstappen/',\n",
       "  'content': 'Max Verstappen biography , Formula 1 driver profile with age, height, weight and history in F1 from karting days to 2021 world title.',\n",
       "  'score': 0.96079},\n",
       " {'title': 'Max Verstappen | TikTok',\n",
       "  'url': 'https://www.tiktok.com/discover/max-verstappen',\n",
       "  'content': 'Max Verstappen career in F1, Formula 1 highlights , Imola GP 2024 preview, F1 driver training insights, Red Bull Racing strategies.',\n",
       "  'score': 0.96001},\n",
       " {'title': 'Max Verstappen - Wikiwand',\n",
       "  'url': 'https://www.wikiwand.com/en/articles/Max_Verstappen',\n",
       "  'content': \"Max Emilian Verstappen (Dutch pronunciation: [ˈmɑks fɛrˈstɑpə (n)]; born 30 September 1997) is a Dutch and Belgian racing driver who competes under the Dutch flag in Formula One for Red Bull Racing. Verstappen has won four Formula One World Drivers' Championship titles, which he won consecutively from 2021 to 2024 with Red Bull, and has won 67 Grands Prix across 11 seasons.\",\n",
       "  'score': 0.95622},\n",
       " {'title': 'Max Verstappen - Career , Titles, & Records – Fueler',\n",
       "  'url': 'https://fueler.store/blogs/news/max-verstappen-career-titles-records',\n",
       "  'content': 'At the age of 25, Max Verstappen already has an exceptional resume. The Dutchman looks like one of the fastest Formula One drivers that we have ever seen and will certainly finish his career with more than two titles.',\n",
       "  'score': 0.95573},\n",
       " {'title': 'Max Verstappen Biography, Age, Career, Family, Net Worth',\n",
       "  'url': 'https://charge9ja.com/max-verstappen-biography-age-career-family-net-worth/',\n",
       "  'content': 'Sep 19, 2025 · Max Verstappen Biography Max Emilian Verstappen was born on September 30, 1997, in Hasselt, Belgium, to a family deeply rooted in motorsport. His father, Jos Verstappen , was a former Formula One driver from the Netherlands, while his mother, Sophie Kumpen, was a successful Belgian kart racer. Growing up in such an environment, racing was in his blood. Max has a younger sister named Victoria',\n",
       "  'score': 0.95022},\n",
       " {'title': 'Max Verstappen ｜F1｜Honda Global Corporate Website',\n",
       "  'url': 'https://global.honda/en/F1/driver/MaxVerstappen/',\n",
       "  'content': \"History of Honda's drivers, featuring Max Verstappen , Hiroki Tsunoda, Liam Lawson, Isak Hajjar, and other Honda drivers, their achievements, and the F1 cars they drove.。\",\n",
       "  'score': 0.9497},\n",
       " {'title': 'Amazon Amazon.com: Max Verstappen: The Inside Track on a Formula One Star: 9781785787300: Gray, James: Books',\n",
       "  'url': 'https://www.amazon.com/Max-Verstappen-Inside-Track-Formula/dp/1785787306',\n",
       "  'content': '## Best Sellers in this category Page 1 of 7 Start over *4.4 out of 5 stars*\\u200913,693 *#1 Best Seller* *4.4 out of 5 stars*\\u2009915 *#1 Best Seller* *4.6 out of 5 stars*\\u200926,740 *#1 Best Seller* 4. The Secret of Secrets: A Novel (Robert Langdon Book 6) *4.4 out of 5 stars*\\u2009915 *#1 Best Seller* *#1 Best Seller* 6. The Secret of Secrets: A Novel (Robert Langdon) *4.4 out of 5 stars*\\u2009915 *#1 Best Seller* Start here. Your recently viewed items and featured recommendations View or edit your browsing history After viewing product detail pages, look here to find an easy way to navigate back to pages you are interested in.',\n",
       "  'score': 0.94796},\n",
       " {'title': 'Max Verstappen | Formula 1 Wiki | Fandom',\n",
       "  'url': 'https://f1.fandom.com/wiki/Max_Verstappen',\n",
       "  'content': '| | 2019 Teams and Drivers | | | --- | --- | | Teams | Alfa\\xa0Romeo • Ferrari • Haas • McLaren • Mercedes • Racing Point • Red Bull • Renault • Toro\\xa0Rosso • Williams | | Engines | Ferrari • Honda • Mercedes • Renault | | Drivers | 3 Ricciardo • 4 Norris • 5 Vettel • 7 Räikkönen • 8 Grosjean • 10 Gasly • 11 Pérez • 16 Leclerc • 18 Stroll • 20 Magnussen • 23 Albon • 26 Kvyat • 27 Hülkenberg • 33 **Verstappen** • 44 Hamilton • 55 Sainz • 63 Russell • 77 Bottas • 88 Kubica • 99 Giovinazzi | | Other Drivers | Aitken • Alonso • Buemi • Calderón • Cmara • Correa • Delétraz • Ericsson • Fittipaldi • Fuoco • Gutiérrez • Hartley • Latifi • Ocon • Rigon • Schumacher • Sirotkin • Ticktum • Vandoorne • Wehrlein • Yamamoto | | | |',\n",
       "  'score': 0.94562},\n",
       " {'title': 'Max Verstappen News, Biography, Racing Career ... - Sportskeeda',\n",
       "  'url': 'https://www.sportskeeda.com/player/max-verstappen',\n",
       "  'content': 'Max Verstappen has the most lucrative career stats out of the current drivers in the Formula 1 grid. He has won three world championships from 2021-2023, breaking several records in the process.',\n",
       "  'score': 0.94311},\n",
       " {'title': 'Red Bull Max Verstappen: F1 – Red Bull Athlete Profile',\n",
       "  'url': 'https://www.redbull.com/us-en/athlete/max-verstappen',\n",
       "  'content': \"Already considered one of the greatest drivers in the sport's history, Dutch ace Max Verstappen is now a four-time Formula One world champion. As well as a famously fast father, Max Verstappen's mother, Sophie, was also a successful kart driver. By 2013, Max had won just about everything karting had to offer, winning the 2013 World KZ Championship at Varennes-sur-Allier in France. At just 16, Max took the F3 championship by storm, winning his sixth race before going on to win an incredible six consecutive victories in the series and placing third in the overall rankings. We’re kicking this new season off with Formula One world champion Max Verstappen, who talks to us about trusting the process. Max Verstappen Max Verstappen\",\n",
       "  'score': 0.94106},\n",
       " {'title': \"Lewis Hamilton's & Max Verstappen 's Stats After 200 F1 Races...\",\n",
       "  'url': 'https://www.givemesport.com/lewis-hamiltons-max-verstappens-stats-after-200-f1-races-compared/',\n",
       "  'content': 'Verstappen and Hamilton were hard to separate in terms of records after 200 career F1 races. Pole positions and race wins were key areas where Hamilton outperformed Verstappen , showing his consistency and ability to convert opportunities.',\n",
       "  'score': 0.93885},\n",
       " {'title': 'EBSCO Max Verstappen | Research Starters | EBSCO Research',\n",
       "  'url': 'https://www.ebsco.com/research-starters/biography/max-verstappen',\n",
       "  'content': 'Influenced by his father’s career as a racing driver who competed in Formula One racing, as well as his mother’s professional background in go-kart racing, Verstappen started racing karts when he was a young child, winning championships in the sport before the age of ten. Going into the Abu Dhabi Grand Prix, the final race of the 2021 season, both Verstappen and Hamilton were tied in championship points, meaning the winner of the race would win the 2021 Formula One World Drivers’ Championship. By this time, Verstappen had established a reputation as the sport’s dominant driver, and going into the 2024 season, he set his sights on matching former Red Bull Racing driver Sebastian Vettel’s four straight championship wins between 2010 and 13.',\n",
       "  'score': 0.93721},\n",
       " {'title': 'Ricciardo vs Verstappen stats - head-to-head - Formula 1 points',\n",
       "  'url': 'https://www.formula1points.com/head-to-head/career/Daniel+Ricciardo/Max+Verstappen',\n",
       "  'content': 'View head-to-head formula 1 driver comparison. Select two of your favorite drivers to compare their careers . Stats like 1-to-1 points comparison, per season, overall and race results comparison.',\n",
       "  'score': 0.93248},\n",
       " {'title': 'Amazon Max Verstappen: The unstoppable force in Formula One: McKenzie, Ewan: 9780711294929: Amazon.com: Books',\n",
       "  'url': 'https://www.amazon.com/Max-Verstappen-unstoppable-force-Formula/dp/0711294925',\n",
       "  'content': '# Max Verstappen: The unstoppable force in Formula One Hardcover – April 16, 2024 A fully illustrated biography of Max Verstappen, from karting in the junior races at age 10 to his third time winning the world championship at the end of 2023. Max broke all the records for youngest driver after he made his official debut in 2015, including youngest ever driver to win an F1 race after he transferred from Red Bull’s junior team Toro Rosso to Red Bull in 2016. This item:  Max Verstappen: The unstoppable force in Formula One 4. sufenvera Racing Fans Poster - Print Signed Max Verstappen Framed Film Photo Display 8x6 Inches,Birthday Christmas Gifts for Formula 1 Fans',\n",
       "  'score': 0.9313},\n",
       " {'title': 'Italian Grand Prix: How Max Verstappen surpassed... - BBC Sport',\n",
       "  'url': 'https://www.bbc.com/sport/formula1/articles/ce86v83j1r2o',\n",
       "  'content': \"**The lap with which Max Verstappen set a new all-time Formula 1 record on his way to pole position at the Italian Grand Prix surpassed the performance of the cars still considered the fastest in the sport's history.** Both Verstappen and McLaren's Lando Norris beat the previous record, set by Lewis Hamilton's Mercedes at the same race in 2020. On top of that, Monza was resurfaced before last year's race, and the new surface has more grip than the old, worn-out one on which Hamilton set the previous record. * Verstappen grabs Monza pole with fastest F1 lap Verstappen's time is the latest in a long line of fastest-ever laps, many set at Monza.\",\n",
       "  'score': 0.92924},\n",
       " {'title': 'Amazon Max Verstappen: Born to Race: A Biography: Gray, James: 9781785789199: Amazon.com: Books',\n",
       "  'url': 'https://www.amazon.com/Max-Verstappen/dp/1785789198',\n",
       "  'content': 'Download the free Kindle app and start reading Kindle books instantly on your smartphone, tablet, or computer - **no Kindle device required**. # Max Verstappen: Born to Race: A Biography Paperback – July 7, 2022 The Amazon Book Review   Each  Great on Kindle book offers a great reading experience, at a better value than print to keep your wallet happy. View the Kindle edition of this book Enjoy a great reading experience when you buy the Kindle edition of this book. This item:  Max Verstappen: Born to Race: A Biography His first book Max Verstappen was published in 2021. Customer Reviews, including Product Star Ratings help customers to learn more about the product and decide whether it is the right product for them.',\n",
       "  'score': 0.92609},\n",
       " {'title': 'HBO Max | Stream Series and Movies',\n",
       "  'url': 'https://www.hbomax.com/',\n",
       "  'content': '### Choose an HBO Max plan or bundle to start streaming. Available only for direct-billed purchases via Disney+, Hulu, and HBO Max. Access content from each service separately. ### Choose an HBO Max plan or bundle to start streaming. Available only for direct-billed purchases via Disney+, Hulu, and HBO Max. Access content from each service separately. * **HBO Max Basic With Ads**, **Disney+ Stream the NHL, NCAA® March Madness®, MLB™, U.S. Soccer, NASCAR, Unrivaled, Roland-Garros, college football, and premier cycling events live. **Disney+, Hulu, HBO Max Bundle With Ads Plan** - $16.99/month ($12.98/month savings) **Disney+, Hulu, HBO Max Bundle No Ads Plan** - $29.99/month ($21.98/month savings) + HBO Max Standard, Disney+ Premium, and Hulu (No Ads)',\n",
       "  'score': 0.92505},\n",
       " {'title': 'How to Watch HBO Max',\n",
       "  'url': 'https://www.hbo.com/how-to-watch-hbo-max',\n",
       "  'content': '### HBO Max Becomes on\\xa0May\\xa023 ##### Already have HBO Max through an HBO subscription? Access to HBO Max: Yvonne Orji # **How to Watch HBO Max** HBO Max is available to nearly all existing HBO subscribers. Learn more below on how you can get access to HBO Max and start streaming today. Yes - You likely have access to HBO Max at no extra charge! **Get HBO**. **\\u200cSteps to Activate Your HBO Max Access:** 1. Install the HBO Max app on a supported device. 2. Sign in to HBO Max by choosing \"Sign in with a Provider\" on the\\xa0**sign-in screen**. Plus, HBO Max subscribers can stream Warner Bros.',\n",
       "  'score': 0.91901},\n",
       " {'title': 'Amazon Max: The Dutch Master: The unauthorised biography of Max Verstappen: Hoogeboom, André: 9781910505755: Amazon.com: Books',\n",
       "  'url': 'https://www.amazon.com/Max-Master-unauthorised-biography-Verstappen/dp/1910505757',\n",
       "  'content': 'Born into motorsport, Max started karting aged four and in 2015 became the youngest driver ever to race in F1, less than six months after his 17th birthday . Following his first Grand Prix victory in 2016, he quickly established himself as a future World Champion and by 2021 his goal was in sight.',\n",
       "  'score': 0.91852},\n",
       " {'title': 'ESPN Max Verstappen Stats, Race Results, Wins, News, Record, Videos, Pictures, Bio in, Formula 1 - ESPN',\n",
       "  'url': 'https://www.espn.com/racing/driver/_/id/4665/max-verstappen',\n",
       "  'content': '2 weeks ago - Get the latest race results, news, videos, pictures, win record and more for Max Verstappen on ESPN.com.',\n",
       "  'score': 0.91542},\n",
       " {'title': 'HBO Max : Stream TV & Movies - Apps on Google Play',\n",
       "  'url': 'https://play.google.com/store/apps/details?id=com.wbd.stream&hl=en-US',\n",
       "  'content': '# HBO Max: Stream TV & Movies ## About this app The most talked about shows and movies featuring the worlds of HBO, the DC Universe, Adult Swim, A24, and beyond — plus live sports, breaking news, and more on HBO Max. • Unlimited access to thousands of TV shows and movies. HBO Max is available on select TV, web browser, mobile, tablet, and gaming console devices. • Catch even more sports action with the live Multiview experience — stream up to 3 games at once during select events. • Download shows and movies you love to watch on the go with select plans. • Stream with high-quality video and surround sound on select plans. Content and feature availability on HBO Max may vary by region. Same app. ## App support',\n",
       "  'score': 0.91536},\n",
       " {'title': 'Wordsworth Books Unstoppable: The Ultimate Biography Of Max Verstappen (Trade Paperback — Wordsworth Books',\n",
       "  'url': 'https://www.wordsworth.co.za/products/unstoppable-the-ultimate-biography-of-max-verstappen-trade-paperback',\n",
       "  'content': \"A definitive and intriguing biography of Max Verstappen , Formula 1's superstar, Lewis Hamilton's great rival and the winner of the 2021 and 2022 World Drivers' Championships. No Hollywood scriptwriter could possibly have envisioned the breathless, adrenaline-pumping climax to the 2021 Formula\",\n",
       "  'score': 0.90979},\n",
       " {'title': 'Max',\n",
       "  'url': 'https://webos.play-hbo.max.com/',\n",
       "  'content': 'Stream Max, the ultimate platform combining HBO content, favorite movies, TV shows, and exclusive Max Originals.',\n",
       "  'score': 0.90945},\n",
       " {'title': 'IMDb Max Verstappen - Biography - IMDb',\n",
       "  'url': 'https://www.imdb.com/name/nm6722413/bio/',\n",
       "  'content': \"* Biography IMDbPro # Biography ## Max Verstappen Edit Max Emilian Verstappen + Mad Max + Super Max 5′ 9¼″ (1.76 m) ### Mini bio So he was born with dual nationality: Dutch and Belgian. - IMDb mini biography by: Stefan Meens Victoria Verstappen(Sibling) * I'm not here to finish fourth. * [2025; on Formula 1's controversial new swearing ban] I am not going to say anything about that - I want to stay zen. Caring for the environment is very important, but Formula 1 has existed for many years, and it should continue. Edit page * View agent, publicist, legal and company contact details on IMDbPro ### Recently viewed You have no recently viewed pages\",\n",
       "  'score': 0.907},\n",
       " {'title': 'Max',\n",
       "  'url': 'https://auth.hbomax.com/login',\n",
       "  'content': 'Sign in to access HBO Max, the streaming platform with movies, series, and exclusive Max Originals.',\n",
       "  'score': 0.90653},\n",
       " {'title': 'Evro Max Verstappen – Evro',\n",
       "  'url': 'https://www.evropublishing.com/en-us/products/max-the-dutch-master-the-unauthorised-biography-of-max-verstappen',\n",
       "  'content': 'Overview Max The Dutch Master The unauthorised biography of Max Verstappen By André Hoogeboom Max Verstappen is Formula 1’s sensational new superstar. Born into motorsport, Max started karting aged four and in 2015 became the youngest driver ever to race in F1, less than six months after his 17th birthday. Following his first Grand Prix victory in 2016, he quickly established himself as a future World Champion and by 2021 his goal was in sight. Like a true Dutch Master, he has brought fresh artistry into F1 and made this most glamorous of sports even more exciting. This unauthorised biography,',\n",
       "  'score': 0.90138},\n",
       " {'title': 'How to get HBO | HBO & HBO Max Subscription Options | HBO ...',\n",
       "  'url': 'https://www.hbo.com/ways-to-get',\n",
       "  'content': '# **Ways to Get HBO** Subscription options to watch your favorite series and more. ## **How do I get HBO on my TV?** There are a couple of ways to watch HBO on your TV (and the rest of your devices). ### **Sign up for HBO Max** HBO Max is the enhanced service featuring all of HBO. With HBO Max, you can stream your favorite award-winning HBO series, blockbuster movies, and rewatch-worthy specials. To see all the ways you can get HBO Max, go to\\xa0Ways To Get HBO Max. ### **Get HBO through your TV provider** Alternatively, you can subscribe to HBO through your television provider. Plus, you’ll be able to use your account details to get HBO Max, too.',\n",
       "  'score': 0.90039},\n",
       " {'title': 'Allamericanspeakers Max Verstappen Biography | Booking Info for Speaking Engagements',\n",
       "  'url': 'https://www.allamericanspeakers.com/celebritytalentbios/Max+Verstappen/461914',\n",
       "  'content': 'Biography of Max Verstappen . Find fees and other booking information for Max Verstappen speaking engagements and appearances at live and virtual events.',\n",
       "  'score': 0.89739},\n",
       " {'title': 'Ways To Get HBO Max',\n",
       "  'url': 'https://www.hbomax.com/faq/ways-to-get',\n",
       "  'content': 'Ways To Get HBO Max | HBO Max # HBO Max ## Ways To Get HBO Max Here are all the ways to watch the most talked about series, hit movies, exclusive originals, family favorites, live sports, and breaking news on HBO Max. Download the HBO Max app and subscribe through the stores listed below. * Roku Streaming Store * Samsung TV * Verizon +play HBO Max is available through the providers below. * The Roku Channel * YouTube TV #### TV * Amazon Fire TV & Amazon Fire Tablet * Android TV * Apple TV * Roku * Samsung TV #### Still have questions on how to get HBO Max? Go to\\xa0Do I Already Have Access to HBO Max?',\n",
       "  'score': 0.89672},\n",
       " {'title': 'YouTube The Insane True Story of Max Verstappen - YouTube',\n",
       "  'url': 'https://www.youtube.com/watch?v=GAOt5O2xQo0',\n",
       "  'content': 'The Insane True Story of Max VerstappenMax Verstappen made waves in Formula 1 when he climbed a position just eight months following his debut in his initial',\n",
       "  'score': 0.89333},\n",
       " {'title': 'Top 10: Max Verstappen Best F1 moments - Formula 1',\n",
       "  'url': 'https://www.formula1.com/en/video/top-10-max-verstappen-best-f1-moments.1687525385882817571',\n",
       "  'content': \"Jan 8, 2020 · We count down Max Verstappen 's highlights from his Formula 1 career to date, including his incredible drive at the 2016 Brazilian Grand Prix.\",\n",
       "  'score': 0.89286},\n",
       " {'title': 'Max Verstappen : F1 – Red Bull Athlete Profile',\n",
       "  'url': 'https://www.redbull.com/gb-en/athlete/max-verstappen-bio',\n",
       "  'content': 'Max Verstappen takes the chequered flag during the F1 Grand Prix of Italy at Autodromo Nazionale Monza on September 7, 2025 in Monza, Italy.',\n",
       "  'score': 0.89036},\n",
       " {'title': 'Max Verstappen Videos, Highlights - ESPN',\n",
       "  'url': 'https://www.espn.com/racing/driver/videos/_/id/4665/max-verstappen',\n",
       "  'content': 'Sep 30, 1997 · Watch the latest Max Verstappen videos and highlights on ESPN.com.',\n",
       "  'score': 0.88497},\n",
       " {'title': 'Max Verstappen - Biography - IMDb',\n",
       "  'url': 'https://www.imdb.com/name/nm6722413/bio/?ref_=nm_ov_bio_sm',\n",
       "  'content': 'Max Emilian Verstappen . Height. 1.80 m. Mini Bio . Max has a Dutch father and a Belgian mother. So he was born with dual nationality: Dutch and Belgian.',\n",
       "  'score': 0.88358},\n",
       " {'title': 'Max Verstappen - Age, Family, Bio | Famous Birthdays',\n",
       "  'url': 'https://www.famousbirthdays.com/people/max-verstappen.html',\n",
       "  'content': '# Max Verstappen Race Car Driver Dutch race car driver who won more races than any other driver in FIA European Formula Three Championship in 2013. At 17 years and 166 days old, he became the youngest driver ever to start in a Formula One World Championship race. His father is retired Formula One driver Jos Verstappen. He has a sister named Victoria. He has been teammates with driver\\xa0Daniel Ricciardo\\xa0and\\xa0Sergio Pérez\\xa0for Red Bull. Most Popular   #537   Born on September 30   #2 Race Car Driver   #3   28 Year Old   #31 Born in Belgium   #1   First Name Max   #1 ## Max Verstappen Is A Member Of Race Car Drivers First Name Max Race Car Driver Race Car Driver Race Car Driver',\n",
       "  'score': 0.87993},\n",
       " {'title': 'Max Verstappen F1 News, Info + Biography | F1i.com',\n",
       "  'url': 'https://f1i.com/drivers/max-verstappen',\n",
       "  'content': 'Latest Max Verstappen news: Full biography , career stats, salary, girlfriend, age, height, history of the Red Bull Racing F1 driver.',\n",
       "  'score': 0.87493},\n",
       " {'title': 'Max Verstappen F1 Stats: Career Results, Teammates, and Teams',\n",
       "  'url': 'https://gpracingstats.com/drivers/max-verstappen/',\n",
       "  'content': \"Sep 30, 1997 · Explore Max Verstappen 's complete Formula 1 stats, including career race results, teams, teammates, and season-by-season performance.\",\n",
       "  'score': 0.87471},\n",
       " {'title': 'Max Verstappen : Profile, Championships, Racing... - bet365 News UK',\n",
       "  'url': 'https://news.bet365.com/en-gb/article/max-verstappen-profile/2025022709301293195',\n",
       "  'content': 'Biography . Max Verstappen has a great motor racing pedigree as his father, Jos, is a former F1 driver who started 106 races for seven teams between 1994 and 2003.',\n",
       "  'score': 0.87153},\n",
       " {'title': 'Red Bull Max Verstappen: The records & milestones of his career',\n",
       "  'url': 'https://www.redbull.com/int-en/max-verstappen-numbers-records',\n",
       "  'content': '... Max Verstappen has clinched his fourth consecutive Formula One World Championship , reinforcing his dominance in the sport. With 65 Grand Prix victories to his name, the Dutch driver has firmly established himself as one of the most successful competitors in F1 history.',\n",
       "  'score': 0.8653}]"
      ]
     },
     "execution_count": 19,
     "metadata": {},
     "output_type": "execute_result"
    }
   ],
   "execution_count": 19
  }
 ],
 "metadata": {
  "kernelspec": {
   "display_name": "Python 3 (ipykernel)",
   "language": "python",
   "name": "python3"
  },
  "language_info": {
   "codemirror_mode": {
    "name": "ipython",
    "version": 3
   },
   "file_extension": ".py",
   "mimetype": "text/x-python",
   "name": "python",
   "nbconvert_exporter": "python",
   "pygments_lexer": "ipython3",
   "version": "3.12.1"
  }
 },
 "nbformat": 4,
 "nbformat_minor": 5
}
