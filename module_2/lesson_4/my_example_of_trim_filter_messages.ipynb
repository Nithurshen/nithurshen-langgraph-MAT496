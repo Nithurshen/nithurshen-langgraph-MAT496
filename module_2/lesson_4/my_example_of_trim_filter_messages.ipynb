{
 "cells": [
  {
   "cell_type": "code",
   "id": "768dc606-d5f2-468d-96ea-910b264e0f8a",
   "metadata": {
    "ExecuteTime": {
     "end_time": "2025-10-22T05:53:53.418767Z",
     "start_time": "2025-10-22T05:53:53.414072Z"
    }
   },
   "source": [
    "import os, getpass\n",
    "from dotenv import load_dotenv\n",
    "load_dotenv()"
   ],
   "outputs": [
    {
     "data": {
      "text/plain": [
       "True"
      ]
     },
     "execution_count": 8,
     "metadata": {},
     "output_type": "execute_result"
    }
   ],
   "execution_count": 8
  },
  {
   "cell_type": "code",
   "id": "cf11a463-e27a-4a05-b41d-64882e38edca",
   "metadata": {
    "ExecuteTime": {
     "end_time": "2025-10-22T05:53:53.430917Z",
     "start_time": "2025-10-22T05:53:53.428407Z"
    }
   },
   "source": [
    "from pprint import pprint\n",
    "from langchain_core.messages import AIMessage, HumanMessage\n",
    "messages = [AIMessage(f\"Box this lap, box for hards.\", name=\"RaceEngineer\")]\n",
    "messages.append(HumanMessage(f\"Copy that.\", name=\"Driver\"))\n",
    "\n",
    "for m in messages:\n",
    "    m.pretty_print()"
   ],
   "outputs": [
    {
     "name": "stdout",
     "output_type": "stream",
     "text": [
      "==================================\u001B[1m Ai Message \u001B[0m==================================\n",
      "Name: RaceEngineer\n",
      "\n",
      "Box this lap, box for hards.\n",
      "================================\u001B[1m Human Message \u001B[0m=================================\n",
      "Name: Driver\n",
      "\n",
      "Copy that.\n"
     ]
    }
   ],
   "execution_count": 9
  },
  {
   "cell_type": "code",
   "id": "4712e288-e622-48a2-ad3f-a52f65f3ab08",
   "metadata": {
    "ExecuteTime": {
     "end_time": "2025-10-22T05:53:54.467854Z",
     "start_time": "2025-10-22T05:53:53.438071Z"
    }
   },
   "source": [
    "from langchain_openai import ChatOpenAI\n",
    "llm = ChatOpenAI(model=\"gpt-4.1-nano\")\n",
    "llm.invoke(messages)"
   ],
   "outputs": [
    {
     "data": {
      "text/plain": [
       "AIMessage(content='Understood. Coming into the pits for a tire change to hard compounds.', additional_kwargs={'refusal': None}, response_metadata={'token_usage': {'completion_tokens': 15, 'prompt_tokens': 28, 'total_tokens': 43, 'completion_tokens_details': {'accepted_prediction_tokens': 0, 'audio_tokens': 0, 'reasoning_tokens': 0, 'rejected_prediction_tokens': 0}, 'prompt_tokens_details': {'audio_tokens': 0, 'cached_tokens': 0}}, 'model_provider': 'openai', 'model_name': 'gpt-4.1-nano-2025-04-14', 'system_fingerprint': 'fp_950f36939b', 'id': 'chatcmpl-CTM5BGThyktmjL9gpFpkyLUuqvF62', 'service_tier': 'default', 'finish_reason': 'stop', 'logprobs': None}, id='lc_run--9a523c43-1da6-4239-acd7-e1cfe37e6d9a-0', usage_metadata={'input_tokens': 28, 'output_tokens': 15, 'total_tokens': 43, 'input_token_details': {'audio': 0, 'cache_read': 0}, 'output_token_details': {'audio': 0, 'reasoning': 0}})"
      ]
     },
     "execution_count": 10,
     "metadata": {},
     "output_type": "execute_result"
    }
   ],
   "execution_count": 10
  },
  {
   "cell_type": "code",
   "id": "bbd8c39c-633b-4176-9cc6-8318e42bb5dd",
   "metadata": {
    "ExecuteTime": {
     "end_time": "2025-10-22T05:53:55.321643Z",
     "start_time": "2025-10-22T05:53:54.472791Z"
    }
   },
   "source": [
    "from IPython.display import Image, display\n",
    "from langgraph.graph import MessagesState\n",
    "from langgraph.graph import StateGraph, START, END\n",
    "\n",
    "def race_control_node(state: MessagesState):\n",
    "    return {\"messages\": llm.invoke(state[\"messages\"])}\n",
    "\n",
    "builder = StateGraph(MessagesState)\n",
    "builder.add_node(\"race_control\", race_control_node)\n",
    "builder.add_edge(START, \"race_control\")\n",
    "builder.add_edge(\"race_control\", END)\n",
    "graph = builder.compile()\n",
    "\n",
    "display(Image(graph.get_graph().draw_mermaid_png()))"
   ],
   "outputs": [
    {
     "data": {
      "image/png": "[encoded data removed]",
      "text/plain": [
       "<IPython.core.display.Image object>"
      ]
     },
     "metadata": {},
     "output_type": "display_data",
     "jetTransient": {
      "display_id": null
     }
    }
   ],
   "execution_count": 11
  },
  {
   "cell_type": "code",
   "id": "3a5a3e4a-ccfd-4d14-81f1-f0de6e11a1e4",
   "metadata": {
    "ExecuteTime": {
     "end_time": "2025-10-22T05:53:56.067275Z",
     "start_time": "2025-10-22T05:53:55.330196Z"
    }
   },
   "source": [
    "output = graph.invoke({'messages': messages})\n",
    "for m in output['messages']:\n",
    "    m.pretty_print()"
   ],
   "outputs": [
    {
     "name": "stdout",
     "output_type": "stream",
     "text": [
      "==================================\u001B[1m Ai Message \u001B[0m==================================\n",
      "Name: RaceEngineer\n",
      "\n",
      "Box this lap, box for hards.\n",
      "================================\u001B[1m Human Message \u001B[0m=================================\n",
      "Name: Driver\n",
      "\n",
      "Copy that.\n",
      "==================================\u001B[1m Ai Message \u001B[0m==================================\n",
      "\n",
      "Understood, stay focused and prepare for the pit stop.\n"
     ]
    }
   ],
   "execution_count": 12
  },
  {
   "cell_type": "code",
   "id": "222c6bc5-bb0e-4a43-80f5-c8ec38d99f3a",
   "metadata": {
    "ExecuteTime": {
     "end_time": "2025-10-22T05:53:56.931078Z",
     "start_time": "2025-10-22T05:53:56.076325Z"
    }
   },
   "source": [
    "from langchain_core.messages import RemoveMessage\n",
    "\n",
    "def filter_radio_messages(state: MessagesState):\n",
    "    delete_messages = [RemoveMessage(id=m.id) for m in state[\"messages\"][:-2]]\n",
    "    return {\"messages\": delete_messages}\n",
    "\n",
    "def race_control_node(state: MessagesState):\n",
    "    return {\"messages\": [llm.invoke(state[\"messages\"])]}\n",
    "\n",
    "builder = StateGraph(MessagesState)\n",
    "builder.add_node(\"filter\", filter_radio_messages)\n",
    "builder.add_node(\"race_control\", race_control_node)\n",
    "builder.add_edge(START, \"filter\")\n",
    "builder.add_edge(\"filter\", \"race_control\")\n",
    "builder.add_edge(\"race_control\", END)\n",
    "graph = builder.compile()\n",
    "\n",
    "display(Image(graph.get_graph().draw_mermaid_png()))"
   ],
   "outputs": [
    {
     "data": {
      "image/png": "[encoded data removed]",
      "text/plain": [
       "<IPython.core.display.Image object>"
      ]
     },
     "metadata": {},
     "output_type": "display_data",
     "jetTransient": {
      "display_id": null
     }
    }
   ],
   "execution_count": 13
  },
  {
   "cell_type": "code",
   "id": "95a7c2cc-54ce-43e7-9a90-abf37827d709",
   "metadata": {
    "ExecuteTime": {
     "end_time": "2025-10-22T05:53:57.710210Z",
     "start_time": "2025-10-22T05:53:56.938108Z"
    }
   },
   "source": [
    "messages = [AIMessage(\"Track limits warning, turn 5.\", name=\"RaceControl\", id=\"msg1\")]\n",
    "messages.append(HumanMessage(\"Copy.\", name=\"Driver\", id=\"msg2\"))\n",
    "messages.append(AIMessage(\"Push now, push now.\", name=\"RaceEngineer\", id=\"msg3\"))\n",
    "messages.append(HumanMessage(\"Understood, tyres are good.\", name=\"Driver\", id=\"msg4\"))\n",
    "\n",
    "output = graph.invoke({'messages': messages})\n",
    "for m in output['messages']:\n",
    "    m.pretty_print()"
   ],
   "outputs": [
    {
     "name": "stdout",
     "output_type": "stream",
     "text": [
      "==================================\u001B[1m Ai Message \u001B[0m==================================\n",
      "Name: RaceEngineer\n",
      "\n",
      "Push now, push now.\n",
      "================================\u001B[1m Human Message \u001B[0m=================================\n",
      "Name: Driver\n",
      "\n",
      "Understood, tyres are good.\n",
      "==================================\u001B[1m Ai Message \u001B[0m==================================\n",
      "\n",
      "Great to hear the tires are in good shape. Keep monitoring the temperature and pressure, and stay focused on your lap. Let me know if you need any adjustments or if there's anything else.\n"
     ]
    }
   ],
   "execution_count": 14
  },
  {
   "cell_type": "code",
   "id": "22d0b904-7cd6-486b-8948-105bee3d4683",
   "metadata": {
    "ExecuteTime": {
     "end_time": "2025-10-22T05:53:58.509327Z",
     "start_time": "2025-10-22T05:53:57.720418Z"
    }
   },
   "source": [
    "def race_control_node_filtered(state: MessagesState):\n",
    "    return {\"messages\": [llm.invoke(state[\"messages\"][-1:])]}\n",
    "\n",
    "builder = StateGraph(MessagesState)\n",
    "builder.add_node(\"race_control_filtered\", race_control_node_filtered)\n",
    "builder.add_edge(START, \"race_control_filtered\")\n",
    "builder.add_edge(\"race_control_filtered\", END)\n",
    "graph = builder.compile()\n",
    "\n",
    "display(Image(graph.get_graph().draw_mermaid_png()))"
   ],
   "outputs": [
    {
     "data": {
      "image/png": "[encoded data removed]",
      "text/plain": [
       "<IPython.core.display.Image object>"
      ]
     },
     "metadata": {},
     "output_type": "display_data",
     "jetTransient": {
      "display_id": null
     }
    }
   ],
   "execution_count": 15
  },
  {
   "cell_type": "code",
   "id": "16956015-1dbe-4108-89b5-4209b68b51ca",
   "metadata": {
    "ExecuteTime": {
     "end_time": "2025-10-22T05:53:58.521613Z",
     "start_time": "2025-10-22T05:53:58.518523Z"
    }
   },
   "source": [
    "messages.append(output['messages'][-1])\n",
    "messages.append(HumanMessage(f\"What's the gap to the car behind?\", name=\"Driver\"))"
   ],
   "outputs": [],
   "execution_count": 16
  },
  {
   "cell_type": "code",
   "id": "85563415-c085-46a8-a4ac-155df798c54e",
   "metadata": {
    "ExecuteTime": {
     "end_time": "2025-10-22T05:53:58.531904Z",
     "start_time": "2025-10-22T05:53:58.529810Z"
    }
   },
   "source": [
    "for m in messages:\n",
    "    m.pretty_print()"
   ],
   "outputs": [
    {
     "name": "stdout",
     "output_type": "stream",
     "text": [
      "==================================\u001B[1m Ai Message \u001B[0m==================================\n",
      "Name: RaceControl\n",
      "\n",
      "Track limits warning, turn 5.\n",
      "================================\u001B[1m Human Message \u001B[0m=================================\n",
      "Name: Driver\n",
      "\n",
      "Copy.\n",
      "==================================\u001B[1m Ai Message \u001B[0m==================================\n",
      "Name: RaceEngineer\n",
      "\n",
      "Push now, push now.\n",
      "================================\u001B[1m Human Message \u001B[0m=================================\n",
      "Name: Driver\n",
      "\n",
      "Understood, tyres are good.\n",
      "==================================\u001B[1m Ai Message \u001B[0m==================================\n",
      "\n",
      "Great to hear the tires are in good shape. Keep monitoring the temperature and pressure, and stay focused on your lap. Let me know if you need any adjustments or if there's anything else.\n",
      "================================\u001B[1m Human Message \u001B[0m=================================\n",
      "Name: Driver\n",
      "\n",
      "What's the gap to the car behind?\n"
     ]
    }
   ],
   "execution_count": 17
  },
  {
   "cell_type": "code",
   "id": "23349705-a059-47b5-9760-d8f64e687393",
   "metadata": {
    "ExecuteTime": {
     "end_time": "2025-10-22T05:53:59.733655Z",
     "start_time": "2025-10-22T05:53:58.538056Z"
    }
   },
   "source": [
    "output_filtered = graph.invoke({'messages': messages})\n",
    "for m in output_filtered['messages']:\n",
    "    m.pretty_print()"
   ],
   "outputs": [
    {
     "name": "stdout",
     "output_type": "stream",
     "text": [
      "==================================\u001B[1m Ai Message \u001B[0m==================================\n",
      "Name: RaceControl\n",
      "\n",
      "Track limits warning, turn 5.\n",
      "================================\u001B[1m Human Message \u001B[0m=================================\n",
      "Name: Driver\n",
      "\n",
      "Copy.\n",
      "==================================\u001B[1m Ai Message \u001B[0m==================================\n",
      "Name: RaceEngineer\n",
      "\n",
      "Push now, push now.\n",
      "================================\u001B[1m Human Message \u001B[0m=================================\n",
      "Name: Driver\n",
      "\n",
      "Understood, tyres are good.\n",
      "==================================\u001B[1m Ai Message \u001B[0m==================================\n",
      "\n",
      "Great to hear the tires are in good shape. Keep monitoring the temperature and pressure, and stay focused on your lap. Let me know if you need any adjustments or if there's anything else.\n",
      "================================\u001B[1m Human Message \u001B[0m=================================\n",
      "Name: Driver\n",
      "\n",
      "What's the gap to the car behind?\n",
      "==================================\u001B[1m Ai Message \u001B[0m==================================\n",
      "\n",
      "To determine the gap to the car behind, you'll need to look at the distance or time interval between your vehicle and the car directly behind you. This information is often displayed on your dashboard, a rearview camera system, or a proximity sensor, if your vehicle is equipped with such features. \n",
      "\n",
      "If you're referring to a specific scenario, such as a racing game or a driving simulation, please provide more details or context so I can assist you better.\n"
     ]
    }
   ],
   "execution_count": 18
  },
  {
   "cell_type": "code",
   "id": "2ff99b81-cf03-4cc2-b44f-44829a73e1fd",
   "metadata": {
    "ExecuteTime": {
     "end_time": "2025-10-22T05:54:00.632889Z",
     "start_time": "2025-10-22T05:53:59.742286Z"
    }
   },
   "source": [
    "from langchain_core.messages import trim_messages\n",
    "\n",
    "def race_control_node_trimmed(state: MessagesState):\n",
    "    trimmed = trim_messages(\n",
    "            state[\"messages\"],\n",
    "            max_tokens=100,\n",
    "            strategy=\"last\",\n",
    "            token_counter=ChatOpenAI(model=\"gpt-4o\"),\n",
    "            allow_partial=False,\n",
    "        )\n",
    "    return {\"messages\": [llm.invoke(trimmed)]}\n",
    "\n",
    "builder = StateGraph(MessagesState)\n",
    "builder.add_node(\"race_control_trimmed\", race_control_node_trimmed)\n",
    "builder.add_edge(START, \"race_control_trimmed\")\n",
    "builder.add_edge(\"race_control_trimmed\", END)\n",
    "graph = builder.compile()\n",
    "\n",
    "display(Image(graph.get_graph().draw_mermaid_png()))"
   ],
   "outputs": [
    {
     "data": {
      "image/png": "[encoded data removed]",
      "text/plain": [
       "<IPython.core.display.Image object>"
      ]
     },
     "metadata": {},
     "output_type": "display_data",
     "jetTransient": {
      "display_id": null
     }
    }
   ],
   "execution_count": 19
  },
  {
   "cell_type": "code",
   "id": "24df63ac-da29-4874-b3df-7e390e97cc8a",
   "metadata": {
    "ExecuteTime": {
     "end_time": "2025-10-22T05:54:00.644442Z",
     "start_time": "2025-10-22T05:54:00.641791Z"
    }
   },
   "source": [
    "messages.append(output_filtered['messages'][-1])\n",
    "messages.append(HumanMessage(f\"Is rain expected?\", name=\"Driver\"))"
   ],
   "outputs": [],
   "execution_count": 20
  },
  {
   "cell_type": "code",
   "id": "6d9d8971-c75c-43ca-a209-eb1d07b2ead0",
   "metadata": {
    "ExecuteTime": {
     "end_time": "2025-10-22T05:54:00.778120Z",
     "start_time": "2025-10-22T05:54:00.651367Z"
    }
   },
   "source": [
    "trimmed_example = trim_messages(\n",
    "            messages,\n",
    "            max_tokens=100,\n",
    "            strategy=\"last\",\n",
    "            token_counter=ChatOpenAI(model=\"gpt-4o\"),\n",
    "            allow_partial=False\n",
    "        )\n",
    "trimmed_example"
   ],
   "outputs": [
    {
     "data": {
      "text/plain": [
       "[HumanMessage(content='Is rain expected?', additional_kwargs={}, response_metadata={}, name='Driver')]"
      ]
     },
     "execution_count": 21,
     "metadata": {},
     "output_type": "execute_result"
    }
   ],
   "execution_count": 21
  },
  {
   "cell_type": "code",
   "id": "ed70a269-a869-4fa0-a1df-29736a432c51",
   "metadata": {
    "ExecuteTime": {
     "end_time": "2025-10-22T05:54:01.427373Z",
     "start_time": "2025-10-22T05:54:00.788005Z"
    }
   },
   "source": "messages_out_trim = graph.invoke({'messages': messages})",
   "outputs": [],
   "execution_count": 22
  }
 ],
 "metadata": {
  "kernelspec": {
   "display_name": "Python 3 (ipykernel)",
   "language": "python",
   "name": "python3"
  },
  "language_info": {
   "codemirror_mode": {
    "name": "ipython",
    "version": 3
   },
   "file_extension": ".py",
   "mimetype": "text/x-python",
   "name": "python",
   "nbconvert_exporter": "python",
   "pygments_lexer": "ipython3",
   "version": "3.12.1"
  }
 },
 "nbformat": 4,
 "nbformat_minor": 5
}
