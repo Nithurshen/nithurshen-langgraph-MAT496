{
 "cells": [
  {
   "cell_type": "code",
   "id": "000a6daa-92ad-4e57-a060-d1c81176eb0d",
   "metadata": {
    "ExecuteTime": {
     "end_time": "2025-10-22T06:05:28.655764Z",
     "start_time": "2025-10-22T06:05:28.091271Z"
    }
   },
   "source": [
    "%%capture --no-stderr\n",
    "%pip install --quiet -U langchain_core langgraph langchain_openai"
   ],
   "outputs": [],
   "execution_count": 1
  },
  {
   "cell_type": "code",
   "id": "09201a62",
   "metadata": {
    "ExecuteTime": {
     "end_time": "2025-10-22T06:05:28.666817Z",
     "start_time": "2025-10-22T06:05:28.660595Z"
    }
   },
   "source": [
    "import os, getpass\n",
    "from dotenv import load_dotenv\n",
    "load_dotenv()"
   ],
   "outputs": [
    {
     "data": {
      "text/plain": [
       "True"
      ]
     },
     "execution_count": 2,
     "metadata": {},
     "output_type": "execute_result"
    }
   ],
   "execution_count": 2
  },
  {
   "cell_type": "code",
   "id": "537ade30-6a0e-4b6b-8bcd-ce90790b6392",
   "metadata": {
    "ExecuteTime": {
     "end_time": "2025-10-22T06:05:29.057034Z",
     "start_time": "2025-10-22T06:05:28.669566Z"
    }
   },
   "source": [
    "from langchain_openai import ChatOpenAI\n",
    "model = ChatOpenAI(model=\"gpt-4.1-nano\",temperature=0)"
   ],
   "outputs": [],
   "execution_count": 3
  },
  {
   "cell_type": "code",
   "id": "948e60f0-5c76-4235-b40e-cf523205d40e",
   "metadata": {
    "ExecuteTime": {
     "end_time": "2025-10-22T06:05:29.077472Z",
     "start_time": "2025-10-22T06:05:29.059688Z"
    }
   },
   "source": [
    "from langgraph.graph import MessagesState\n",
    "\n",
    "class RaceSessionState(MessagesState):\n",
    "    race_summary: str"
   ],
   "outputs": [],
   "execution_count": 4
  },
  {
   "cell_type": "code",
   "id": "c3f7d19b-afe0-4381-9b1a-0a832b162e7b",
   "metadata": {
    "ExecuteTime": {
     "end_time": "2025-10-22T06:05:29.081706Z",
     "start_time": "2025-10-22T06:05:29.079983Z"
    }
   },
   "source": [
    "from langchain_core.messages import SystemMessage, HumanMessage, RemoveMessage\n",
    "\n",
    "def call_race_control(state: RaceSessionState):\n",
    "    summary = state.get(\"race_summary\", \"\")\n",
    "    if summary:\n",
    "        system_message = f\"Summary of the race session so far: {summary}\"\n",
    "        messages = [SystemMessage(content=system_message)] + state[\"messages\"]\n",
    "    else:\n",
    "        messages = state[\"messages\"]\n",
    "    \n",
    "    response = model.invoke(messages)\n",
    "    return {\"messages\": response}"
   ],
   "outputs": [],
   "execution_count": 5
  },
  {
   "cell_type": "code",
   "id": "78c7aa59-3760-4e76-93f1-bc713e3ec39e",
   "metadata": {
    "ExecuteTime": {
     "end_time": "2025-10-22T06:05:29.085319Z",
     "start_time": "2025-10-22T06:05:29.083730Z"
    }
   },
   "source": [
    "def generate_race_report(state: RaceSessionState):\n",
    "    summary = state.get(\"race_summary\", \"\")\n",
    "    if summary:\n",
    "        summary_message = (\n",
    "            f\"This is the race report so far: {summary}\\n\\n\"\n",
    "            \"Update the report based on the new radio messages above:\"\n",
    "        )\n",
    "    else:\n",
    "        summary_message = \"Generate a brief race report based on the radio messages above:\"\n",
    "\n",
    "    messages = state[\"messages\"] + [HumanMessage(content=summary_message)]\n",
    "    response = model.invoke(messages)\n",
    "\n",
    "    delete_messages = [RemoveMessage(id=m.id) for m in state[\"messages\"][:-2]]\n",
    "    return {\"race_summary\": response.content, \"messages\": delete_messages}"
   ],
   "outputs": [],
   "execution_count": 6
  },
  {
   "cell_type": "code",
   "id": "b507665d-7f5d-442a-b498-218c94c5dd8b",
   "metadata": {
    "ExecuteTime": {
     "end_time": "2025-10-22T06:05:29.088556Z",
     "start_time": "2025-10-22T06:05:29.087066Z"
    }
   },
   "source": [
    "from langgraph.graph import END\n",
    "from typing_extensions import Literal\n",
    "\n",
    "def should_generate_report(state: RaceSessionState) -> Literal [\"generate_race_report\", END]:\n",
    "    messages = state[\"messages\"]\n",
    "    if len(messages) > 6:\n",
    "        return \"generate_race_report\"\n",
    "    return END"
   ],
   "outputs": [],
   "execution_count": 7
  },
  {
   "cell_type": "code",
   "id": "1d57516d-f9f1-4d3c-a84a-7277b5ce6df6",
   "metadata": {
    "ExecuteTime": {
     "end_time": "2025-10-22T06:05:29.893862Z",
     "start_time": "2025-10-22T06:05:29.090759Z"
    }
   },
   "source": [
    "from IPython.display import Image, display\n",
    "from langgraph.checkpoint.memory import MemorySaver\n",
    "from langgraph.graph import StateGraph, START\n",
    "\n",
    "workflow = StateGraph(RaceSessionState)\n",
    "workflow.add_node(\"radio_comms\", call_race_control)\n",
    "workflow.add_node(generate_race_report)\n",
    "\n",
    "workflow.add_edge(START, \"radio_comms\")\n",
    "workflow.add_conditional_edges(\"radio_comms\", should_generate_report)\n",
    "workflow.add_edge(\"generate_race_report\", END)\n",
    "\n",
    "memory = MemorySaver()\n",
    "graph = workflow.compile(checkpointer=memory)\n",
    "display(Image(graph.get_graph().draw_mermaid_png()))"
   ],
   "outputs": [
    {
     "data": {
      "image/png": "[encoded data removed]",
      "text/plain": [
       "<IPython.core.display.Image object>"
      ]
     },
     "metadata": {},
     "output_type": "display_data",
     "jetTransient": {
      "display_id": null
     }
    }
   ],
   "execution_count": 8
  },
  {
   "cell_type": "code",
   "id": "2566c93b-13e6-4a53-bc0f-b00fff691d30",
   "metadata": {
    "ExecuteTime": {
     "end_time": "2025-10-22T06:05:33.486044Z",
     "start_time": "2025-10-22T06:05:29.902622Z"
    }
   },
   "source": [
    "config = {\"configurable\": {\"thread_id\": \"race_1\"}}\n",
    "\n",
    "input_message = HumanMessage(content=\"Box this lap, box for hards.\", name=\"RaceEngineer\")\n",
    "output = graph.invoke({\"messages\": [input_message]}, config)\n",
    "for m in output['messages'][-1:]:\n",
    "    m.pretty_print()\n",
    "\n",
    "input_message = HumanMessage(content=\"Copy that.\", name=\"Driver\")\n",
    "output = graph.invoke({\"messages\": [input_message]}, config)\n",
    "for m in output['messages'][-1:]:\n",
    "    m.pretty_print()\n",
    "\n",
    "input_message = HumanMessage(content=\"Traffic behind, Leclerc +2.5s\", name=\"RaceEngineer\")\n",
    "output = graph.invoke({\"messages\": [input_message]}, config)\n",
    "for m in output['messages'][-1:]:\n",
    "    m.pretty_print()"
   ],
   "outputs": [
    {
     "name": "stdout",
     "output_type": "stream",
     "text": [
      "==================================\u001B[1m Ai Message \u001B[0m==================================\n",
      "\n",
      "Understood. Box this lap for hard tires.\n",
      "==================================\u001B[1m Ai Message \u001B[0m==================================\n",
      "\n",
      "Copy that. Proceeding to box for hard tires.\n",
      "==================================\u001B[1m Ai Message \u001B[0m==================================\n",
      "\n",
      "Acknowledged. Traffic behind, Leclerc is +2.5 seconds. Keep an eye on him.\n"
     ]
    }
   ],
   "execution_count": 9
  },
  {
   "cell_type": "code",
   "id": "91b82aaa-17f9-49e2-9528-f4b22e23ebcb",
   "metadata": {
    "ExecuteTime": {
     "end_time": "2025-10-22T06:05:33.497203Z",
     "start_time": "2025-10-22T06:05:33.493148Z"
    }
   },
   "source": "graph.get_state(config).values.get(\"race_summary\",\"\")",
   "outputs": [
    {
     "data": {
      "text/plain": [
       "''"
      ]
     },
     "execution_count": 10,
     "metadata": {},
     "output_type": "execute_result"
    }
   ],
   "execution_count": 10
  },
  {
   "cell_type": "code",
   "id": "24b34f0f-62ef-4008-8e96-480cbe92ea3e",
   "metadata": {
    "ExecuteTime": {
     "end_time": "2025-10-22T06:05:35.629193Z",
     "start_time": "2025-10-22T06:05:33.505203Z"
    }
   },
   "source": [
    "input_message = HumanMessage(content=\"Tyres are starting to go.\", name=\"Driver\")\n",
    "output = graph.invoke({\"messages\": [input_message]}, config)\n",
    "for m in output['messages'][-1:]:\n",
    "    m.pretty_print()"
   ],
   "outputs": [
    {
     "name": "stdout",
     "output_type": "stream",
     "text": [
      "==================================\u001B[1m Ai Message \u001B[0m==================================\n",
      "\n",
      "Understood. Monitor tire wear closely. Consider pushing or planning your next pit stop accordingly.\n"
     ]
    }
   ],
   "execution_count": 11
  },
  {
   "cell_type": "code",
   "id": "22f1b35f-e4bb-47f6-87b1-d84d8aed9aa9",
   "metadata": {
    "ExecuteTime": {
     "end_time": "2025-10-22T06:05:35.641056Z",
     "start_time": "2025-10-22T06:05:35.636892Z"
    }
   },
   "source": "graph.get_state(config).values.get(\"race_summary\",\"\")",
   "outputs": [
    {
     "data": {
      "text/plain": [
       "'During the race, the driver was instructed to box for hard tires, with the race engineer noting traffic behind, specifically Leclerc at +2.5 seconds. The driver acknowledged the call, and tire wear was reported to be starting to go, prompting a focus on monitoring tire degradation and planning for upcoming strategy adjustments.'"
      ]
     },
     "execution_count": 12,
     "metadata": {},
     "output_type": "execute_result"
    }
   ],
   "execution_count": 12
  }
 ],
 "metadata": {
  "kernelspec": {
   "display_name": "Python 3 (ipykernel)",
   "language": "python",
   "name": "python3"
  },
  "language_info": {
   "codemirror_mode": {
    "name": "ipython",
    "version": 3
   },
   "file_extension": ".py",
   "mimetype": "text/x-python",
   "name": "python",
   "nbconvert_exporter": "python",
   "pygments_lexer": "ipython3",
   "version": "3.11.13"
  }
 },
 "nbformat": 4,
 "nbformat_minor": 5
}
