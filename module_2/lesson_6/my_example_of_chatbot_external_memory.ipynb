{
 "cells": [
  {
   "cell_type": "code",
   "id": "2e10c4d4",
   "metadata": {
    "ExecuteTime": {
     "end_time": "2025-10-22T06:14:36.248758Z",
     "start_time": "2025-10-22T06:14:36.242527Z"
    }
   },
   "source": [
    "import os, getpass\n",
    "from dotenv import load_dotenv\n",
    "load_dotenv()"
   ],
   "outputs": [
    {
     "data": {
      "text/plain": [
       "True"
      ]
     },
     "execution_count": 1,
     "metadata": {},
     "output_type": "execute_result"
    }
   ],
   "execution_count": 1
  },
  {
   "cell_type": "code",
   "id": "fae15402-17ae-4e89-8ecf-4c89e08b22fe",
   "metadata": {
    "ExecuteTime": {
     "end_time": "2025-10-22T06:14:36.252531Z",
     "start_time": "2025-10-22T06:14:36.251150Z"
    }
   },
   "source": [
    "import sqlite3\n",
    "# In memory\n",
    "conn = sqlite3.connect(\":memory:\", check_same_thread = False)"
   ],
   "outputs": [],
   "execution_count": 2
  },
  {
   "cell_type": "code",
   "id": "58339167-920c-4994-a0a7-0a9c5d4f7cf7",
   "metadata": {
    "ExecuteTime": {
     "end_time": "2025-10-22T06:14:36.375314Z",
     "start_time": "2025-10-22T06:14:36.258565Z"
    }
   },
   "source": [
    "!mkdir -p state_db && [ ! -f state_db/f1_race_data.db ] && echo \"Placeholder for potential DB download if needed\"\n",
    "\n",
    "db_path = \"../state_db/f1_race_data.db\"\n",
    "conn = sqlite3.connect(db_path, check_same_thread=False)"
   ],
   "outputs": [
    {
     "name": "stdout",
     "output_type": "stream",
     "text": [
      "Placeholder for potential DB download if needed\r\n"
     ]
    }
   ],
   "execution_count": 3
  },
  {
   "cell_type": "code",
   "id": "3c7736b6-a750-48f8-a838-8e7616b12250",
   "metadata": {
    "ExecuteTime": {
     "end_time": "2025-10-22T06:14:36.531519Z",
     "start_time": "2025-10-22T06:14:36.378813Z"
    }
   },
   "source": [
    "# Here is our checkpointer \n",
    "from langgraph.checkpoint.sqlite import SqliteSaver\n",
    "memory = SqliteSaver(conn)"
   ],
   "outputs": [],
   "execution_count": 4
  },
  {
   "cell_type": "code",
   "id": "dc414e29-2078-41a0-887c-af1a6a3d72c0",
   "metadata": {
    "ExecuteTime": {
     "end_time": "2025-10-22T06:14:36.785753Z",
     "start_time": "2025-10-22T06:14:36.534147Z"
    }
   },
   "source": [
    "from langchain_openai import ChatOpenAI\n",
    "from langchain_core.messages import SystemMessage, HumanMessage, RemoveMessage\n",
    "from langgraph.graph import END\n",
    "from langgraph.graph import MessagesState\n",
    "\n",
    "model = ChatOpenAI(model=\"gpt-4.1-nano\",temperature=0)\n",
    "\n",
    "class RaceSessionState(MessagesState):\n",
    "    race_summary: str\n",
    "\n",
    "def call_race_control(state: RaceSessionState):\n",
    "    summary = state.get(\"race_summary\", \"\")\n",
    "    if summary:\n",
    "        system_message = f\"Summary of the race session so far: {summary}\"\n",
    "        messages = [SystemMessage(content=system_message)] + state[\"messages\"]\n",
    "    else:\n",
    "        messages = state[\"messages\"]\n",
    "\n",
    "    response = model.invoke(messages)\n",
    "    return {\"messages\": response}\n",
    "\n",
    "def generate_race_report(state: RaceSessionState):\n",
    "    summary = state.get(\"race_summary\", \"\")\n",
    "    if summary:\n",
    "        summary_message = (\n",
    "            f\"This is the race report so far: {summary}\\n\\n\"\n",
    "            \"Update the report based on the new radio messages above:\"\n",
    "        )\n",
    "    else:\n",
    "        summary_message = \"Generate a brief race report based on the radio messages above:\"\n",
    "\n",
    "    messages = state[\"messages\"] + [HumanMessage(content=summary_message)]\n",
    "    response = model.invoke(messages)\n",
    "\n",
    "    delete_messages = [RemoveMessage(id=m.id) for m in state[\"messages\"][:-2]]\n",
    "    return {\"race_summary\": response.content, \"messages\": delete_messages}\n",
    "\n",
    "def should_generate_report(state: RaceSessionState):\n",
    "    messages = state[\"messages\"]\n",
    "    if len(messages) > 6:\n",
    "        return \"generate_race_report\"\n",
    "    return END"
   ],
   "outputs": [],
   "execution_count": 5
  },
  {
   "cell_type": "code",
   "id": "e867fd95-91eb-4ce1-82fc-bb72d611a96d",
   "metadata": {
    "ExecuteTime": {
     "end_time": "2025-10-22T06:14:37.638209Z",
     "start_time": "2025-10-22T06:14:36.788988Z"
    }
   },
   "source": [
    "from IPython.display import Image, display\n",
    "from langgraph.graph import StateGraph, START\n",
    "\n",
    "workflow = StateGraph(RaceSessionState)\n",
    "workflow.add_node(\"radio_comms\", call_race_control)\n",
    "workflow.add_node(generate_race_report)\n",
    "\n",
    "workflow.add_edge(START, \"radio_comms\")\n",
    "workflow.add_conditional_edges(\"radio_comms\", should_generate_report)\n",
    "workflow.add_edge(\"generate_race_report\", END)\n",
    "\n",
    "graph = workflow.compile(checkpointer=memory)\n",
    "display(Image(graph.get_graph().draw_mermaid_png()))"
   ],
   "outputs": [
    {
     "data": {
      "image/png": "[encoded data removed]",
      "text/plain": [
       "<IPython.core.display.Image object>"
      ]
     },
     "metadata": {},
     "output_type": "display_data",
     "jetTransient": {
      "display_id": null
     }
    }
   ],
   "execution_count": 6
  },
  {
   "cell_type": "code",
   "id": "0f4094a0-d240-4be8-903a-7d9f605bdc5c",
   "metadata": {
    "ExecuteTime": {
     "end_time": "2025-10-22T06:14:40.815144Z",
     "start_time": "2025-10-22T06:14:37.654435Z"
    }
   },
   "source": [
    "config = {\"configurable\": {\"thread_id\": \"monaco_gp_2025\"}}\n",
    "\n",
    "input_message = HumanMessage(content=\"Box this lap, box for hards.\", name=\"RaceEngineer\")\n",
    "output = graph.invoke({\"messages\": [input_message]}, config)\n",
    "for m in output['messages'][-1:]:\n",
    "    m.pretty_print()\n",
    "\n",
    "input_message = HumanMessage(content=\"Copy that, pitting now.\", name=\"Driver_LEC\")\n",
    "output = graph.invoke({\"messages\": [input_message]}, config)\n",
    "for m in output['messages'][-1:]:\n",
    "    m.pretty_print()\n",
    "\n",
    "input_message = HumanMessage(content=\"Traffic behind, VER +1.5s\", name=\"RaceEngineer\")\n",
    "output = graph.invoke({\"messages\": [input_message]}, config)\n",
    "for m in output['messages'][-1:]:\n",
    "    m.pretty_print()"
   ],
   "outputs": [
    {
     "name": "stdout",
     "output_type": "stream",
     "text": [
      "==================================\u001B[1m Ai Message \u001B[0m==================================\n",
      "\n",
      "Understood. Box this lap to switch to hard tires.\n",
      "==================================\u001B[1m Ai Message \u001B[0m==================================\n",
      "\n",
      "Copy that, pitting now.\n",
      "==================================\u001B[1m Ai Message \u001B[0m==================================\n",
      "\n",
      "Acknowledged. Traffic behind, Verstappen is approximately 1.5 seconds behind.\n"
     ]
    }
   ],
   "execution_count": 7
  },
  {
   "cell_type": "code",
   "id": "d2ab158a-5a82-417a-8841-730a4cc18ea7",
   "metadata": {
    "ExecuteTime": {
     "end_time": "2025-10-22T06:14:40.826075Z",
     "start_time": "2025-10-22T06:14:40.821808Z"
    }
   },
   "source": [
    "config = {\"configurable\": {\"thread_id\": \"monaco_gp_2025\"}}\n",
    "graph_state = graph.get_state(config)\n",
    "graph_state"
   ],
   "outputs": [
    {
     "data": {
      "text/plain": [
       "StateSnapshot(values={'messages': [HumanMessage(content='Box this lap, box for hards.', additional_kwargs={}, response_metadata={}, name='RaceEngineer', id='a9357b1d-ba8c-4549-bccb-a736efd1e6bd'), AIMessage(content='Understood. Box this lap to switch to hard tires.', additional_kwargs={'refusal': None}, response_metadata={'token_usage': {'completion_tokens': 12, 'prompt_tokens': 19, 'total_tokens': 31, 'completion_tokens_details': {'accepted_prediction_tokens': 0, 'audio_tokens': 0, 'reasoning_tokens': 0, 'rejected_prediction_tokens': 0}, 'prompt_tokens_details': {'audio_tokens': 0, 'cached_tokens': 0}}, 'model_provider': 'openai', 'model_name': 'gpt-4.1-nano-2025-04-14', 'system_fingerprint': 'fp_950f36939b', 'id': 'chatcmpl-CTMPGXmIMVVshM85fCSbl1nIUT2rW', 'service_tier': 'default', 'finish_reason': 'stop', 'logprobs': None}, id='lc_run--c1aee52b-a7df-44d6-aa6f-825ff4194166-0', usage_metadata={'input_tokens': 19, 'output_tokens': 12, 'total_tokens': 31, 'input_token_details': {'audio': 0, 'cache_read': 0}, 'output_token_details': {'audio': 0, 'reasoning': 0}}), HumanMessage(content='Copy that, pitting now.', additional_kwargs={}, response_metadata={}, name='Driver_LEC', id='a438bc30-fd85-478f-89cc-cd236816d808'), AIMessage(content='Copy that, pitting now.', additional_kwargs={'refusal': None}, response_metadata={'token_usage': {'completion_tokens': 7, 'prompt_tokens': 50, 'total_tokens': 57, 'completion_tokens_details': {'accepted_prediction_tokens': 0, 'audio_tokens': 0, 'reasoning_tokens': 0, 'rejected_prediction_tokens': 0}, 'prompt_tokens_details': {'audio_tokens': 0, 'cached_tokens': 0}}, 'model_provider': 'openai', 'model_name': 'gpt-4.1-nano-2025-04-14', 'system_fingerprint': 'fp_438cf0ae7a', 'id': 'chatcmpl-CTMPHTFzLMOnN3W6IxagO1RmyEs00', 'service_tier': 'default', 'finish_reason': 'stop', 'logprobs': None}, id='lc_run--70fac6d1-2e9a-42d5-9249-3cc31ba2c381-0', usage_metadata={'input_tokens': 50, 'output_tokens': 7, 'total_tokens': 57, 'input_token_details': {'audio': 0, 'cache_read': 0}, 'output_token_details': {'audio': 0, 'reasoning': 0}}), HumanMessage(content='Traffic behind, VER +1.5s', additional_kwargs={}, response_metadata={}, name='RaceEngineer', id='d809c8e9-0ccf-48ba-9cc6-635e7615c2cd'), AIMessage(content='Acknowledged. Traffic behind, Verstappen is approximately 1.5 seconds behind.', additional_kwargs={'refusal': None}, response_metadata={'token_usage': {'completion_tokens': 17, 'prompt_tokens': 77, 'total_tokens': 94, 'completion_tokens_details': {'accepted_prediction_tokens': 0, 'audio_tokens': 0, 'reasoning_tokens': 0, 'rejected_prediction_tokens': 0}, 'prompt_tokens_details': {'audio_tokens': 0, 'cached_tokens': 0}}, 'model_provider': 'openai', 'model_name': 'gpt-4.1-nano-2025-04-14', 'system_fingerprint': 'fp_950f36939b', 'id': 'chatcmpl-CTMPItCflZvaTLy4jv186O4nq5moD', 'service_tier': 'default', 'finish_reason': 'stop', 'logprobs': None}, id='lc_run--20bb4372-f8c8-4b08-a3e5-bc6b95439374-0', usage_metadata={'input_tokens': 77, 'output_tokens': 17, 'total_tokens': 94, 'input_token_details': {'audio': 0, 'cache_read': 0}, 'output_token_details': {'audio': 0, 'reasoning': 0}})]}, next=(), config={'configurable': {'thread_id': 'monaco_gp_2025', 'checkpoint_ns': '', 'checkpoint_id': '1f0af0e6-50b0-6eae-8007-a41ea15e7cd0'}}, metadata={'source': 'loop', 'step': 7, 'parents': {}}, created_at='2025-10-22T06:14:40.811163+00:00', parent_config={'configurable': {'thread_id': 'monaco_gp_2025', 'checkpoint_ns': '', 'checkpoint_id': '1f0af0e6-465a-643c-8006-c3d96f2ebc5e'}}, tasks=(), interrupts=())"
      ]
     },
     "execution_count": 8,
     "metadata": {},
     "output_type": "execute_result"
    }
   ],
   "execution_count": 8
  },
  {
   "cell_type": "code",
   "id": "b9a44dc5-be04-45fa-a6fc-27b0f8ee4678",
   "metadata": {
    "ExecuteTime": {
     "end_time": "2025-10-22T06:14:40.840480Z",
     "start_time": "2025-10-22T06:14:40.837355Z"
    }
   },
   "source": [
    "config = {\"configurable\": {\"thread_id\": \"monaco_gp_2025\"}}\n",
    "graph_state = graph.get_state(config)\n",
    "graph_state"
   ],
   "outputs": [
    {
     "data": {
      "text/plain": [
       "StateSnapshot(values={'messages': [HumanMessage(content='Box this lap, box for hards.', additional_kwargs={}, response_metadata={}, name='RaceEngineer', id='a9357b1d-ba8c-4549-bccb-a736efd1e6bd'), AIMessage(content='Understood. Box this lap to switch to hard tires.', additional_kwargs={'refusal': None}, response_metadata={'token_usage': {'completion_tokens': 12, 'prompt_tokens': 19, 'total_tokens': 31, 'completion_tokens_details': {'accepted_prediction_tokens': 0, 'audio_tokens': 0, 'reasoning_tokens': 0, 'rejected_prediction_tokens': 0}, 'prompt_tokens_details': {'audio_tokens': 0, 'cached_tokens': 0}}, 'model_provider': 'openai', 'model_name': 'gpt-4.1-nano-2025-04-14', 'system_fingerprint': 'fp_950f36939b', 'id': 'chatcmpl-CTMPGXmIMVVshM85fCSbl1nIUT2rW', 'service_tier': 'default', 'finish_reason': 'stop', 'logprobs': None}, id='lc_run--c1aee52b-a7df-44d6-aa6f-825ff4194166-0', usage_metadata={'input_tokens': 19, 'output_tokens': 12, 'total_tokens': 31, 'input_token_details': {'audio': 0, 'cache_read': 0}, 'output_token_details': {'audio': 0, 'reasoning': 0}}), HumanMessage(content='Copy that, pitting now.', additional_kwargs={}, response_metadata={}, name='Driver_LEC', id='a438bc30-fd85-478f-89cc-cd236816d808'), AIMessage(content='Copy that, pitting now.', additional_kwargs={'refusal': None}, response_metadata={'token_usage': {'completion_tokens': 7, 'prompt_tokens': 50, 'total_tokens': 57, 'completion_tokens_details': {'accepted_prediction_tokens': 0, 'audio_tokens': 0, 'reasoning_tokens': 0, 'rejected_prediction_tokens': 0}, 'prompt_tokens_details': {'audio_tokens': 0, 'cached_tokens': 0}}, 'model_provider': 'openai', 'model_name': 'gpt-4.1-nano-2025-04-14', 'system_fingerprint': 'fp_438cf0ae7a', 'id': 'chatcmpl-CTMPHTFzLMOnN3W6IxagO1RmyEs00', 'service_tier': 'default', 'finish_reason': 'stop', 'logprobs': None}, id='lc_run--70fac6d1-2e9a-42d5-9249-3cc31ba2c381-0', usage_metadata={'input_tokens': 50, 'output_tokens': 7, 'total_tokens': 57, 'input_token_details': {'audio': 0, 'cache_read': 0}, 'output_token_details': {'audio': 0, 'reasoning': 0}}), HumanMessage(content='Traffic behind, VER +1.5s', additional_kwargs={}, response_metadata={}, name='RaceEngineer', id='d809c8e9-0ccf-48ba-9cc6-635e7615c2cd'), AIMessage(content='Acknowledged. Traffic behind, Verstappen is approximately 1.5 seconds behind.', additional_kwargs={'refusal': None}, response_metadata={'token_usage': {'completion_tokens': 17, 'prompt_tokens': 77, 'total_tokens': 94, 'completion_tokens_details': {'accepted_prediction_tokens': 0, 'audio_tokens': 0, 'reasoning_tokens': 0, 'rejected_prediction_tokens': 0}, 'prompt_tokens_details': {'audio_tokens': 0, 'cached_tokens': 0}}, 'model_provider': 'openai', 'model_name': 'gpt-4.1-nano-2025-04-14', 'system_fingerprint': 'fp_950f36939b', 'id': 'chatcmpl-CTMPItCflZvaTLy4jv186O4nq5moD', 'service_tier': 'default', 'finish_reason': 'stop', 'logprobs': None}, id='lc_run--20bb4372-f8c8-4b08-a3e5-bc6b95439374-0', usage_metadata={'input_tokens': 77, 'output_tokens': 17, 'total_tokens': 94, 'input_token_details': {'audio': 0, 'cache_read': 0}, 'output_token_details': {'audio': 0, 'reasoning': 0}})]}, next=(), config={'configurable': {'thread_id': 'monaco_gp_2025', 'checkpoint_ns': '', 'checkpoint_id': '1f0af0e6-50b0-6eae-8007-a41ea15e7cd0'}}, metadata={'source': 'loop', 'step': 7, 'parents': {}}, created_at='2025-10-22T06:14:40.811163+00:00', parent_config={'configurable': {'thread_id': 'monaco_gp_2025', 'checkpoint_ns': '', 'checkpoint_id': '1f0af0e6-465a-643c-8006-c3d96f2ebc5e'}}, tasks=(), interrupts=())"
      ]
     },
     "execution_count": 9,
     "metadata": {},
     "output_type": "execute_result"
    }
   ],
   "execution_count": 9
  }
 ],
 "metadata": {
  "kernelspec": {
   "display_name": "Python 3 (ipykernel)",
   "language": "python",
   "name": "python3"
  },
  "language_info": {
   "codemirror_mode": {
    "name": "ipython",
    "version": 3
   },
   "file_extension": ".py",
   "mimetype": "text/x-python",
   "name": "python",
   "nbconvert_exporter": "python",
   "pygments_lexer": "ipython3",
   "version": "3.12.1"
  }
 },
 "nbformat": 4,
 "nbformat_minor": 5
}
