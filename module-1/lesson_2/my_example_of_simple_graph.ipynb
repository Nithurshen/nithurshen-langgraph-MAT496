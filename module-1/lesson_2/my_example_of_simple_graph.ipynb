{
 "cells": [
  {
   "cell_type": "code",
   "id": "6a90709b-ddfa-4671-8acc-c59969a29991",
   "metadata": {
    "ExecuteTime": {
     "end_time": "2025-10-16T10:23:51.102354Z",
     "start_time": "2025-10-16T10:23:51.098041Z"
    }
   },
   "source": [
    "from typing_extensions import TypedDict\n",
    "\n",
    "class State(TypedDict):\n",
    "    graph_state: str"
   ],
   "outputs": [],
   "execution_count": 1
  },
  {
   "cell_type": "code",
   "id": "e8aabcb7-494c-4d35-be08-f81c76d75a6b",
   "metadata": {
    "ExecuteTime": {
     "end_time": "2025-10-16T10:26:18.126955Z",
     "start_time": "2025-10-16T10:26:18.123673Z"
    }
   },
   "source": [
    "def node_1(state):\n",
    "    print(\"---Node 1---\")\n",
    "    return {\"graph_state\": state['graph_state'] +\" I am\"}\n",
    "\n",
    "def node_2(state):\n",
    "    print(\"---Node 2---\")\n",
    "    return {\"graph_state\": state['graph_state'] +\" Max Verstappen,\"}\n",
    "\n",
    "def node_3(state):\n",
    "    print(\"---Node 3---\")\n",
    "    return {\"graph_state\": state['graph_state'] +\" Sebastian Vettel,\"}\n",
    "\n",
    "def node_4(state):\n",
    "    print(\"---Node 4---\")\n",
    "    return {\"graph_state\": state['graph_state'] + \" and I\"}\n",
    "\n",
    "def node_5(state):\n",
    "    print(\"---Node 5---\")\n",
    "    return {\"graph_state\": state['graph_state'] + \" won the\"}\n",
    "\n",
    "def node_6(state):\n",
    "    print(\"---Node 6---\")\n",
    "    return {\"graph_state\": state['graph_state'] + \" lost the\"}\n",
    "\n",
    "def node_7(state):\n",
    "    print(\"---Node 7---\")\n",
    "    return {\"graph_state\": state['graph_state'] + \" Monacco Grand Prix.\"}\n",
    "\n",
    "def node_8(state):\n",
    "    print(\"---Node 8---\")\n",
    "    return {\"graph_state\": state['graph_state'] + \" 24 Hours of Le-Mans\"}"
   ],
   "outputs": [],
   "execution_count": 2
  },
  {
   "cell_type": "code",
   "id": "7e53543a-902a-4d41-ad3d-25eee260e819",
   "metadata": {
    "ExecuteTime": {
     "end_time": "2025-10-16T10:28:38.807332Z",
     "start_time": "2025-10-16T10:28:38.803899Z"
    }
   },
   "source": [
    "import random\n",
    "from typing import Literal\n",
    "\n",
    "def decide_driver(state) -> Literal[\"node_2\", \"node_3\"]:\n",
    "    user_input = state['graph_state']\n",
    "    if random.random() < 0.5:\n",
    "        return \"node_2\"\n",
    "    return \"node_3\"\n",
    "\n",
    "def decide_win(state) -> Literal[\"node_5\", \"node_6\"]:\n",
    "    user_input = state['graph_state']\n",
    "    if random.random() > 0.3:\n",
    "        return \"node_5\"\n",
    "    return \"node_6\"\n",
    "\n",
    "def decide_race(state) -> Literal[\"node_7\", \"node_8\"]:\n",
    "    user_input = state['graph_state']\n",
    "    if random.random() < 0.5:\n",
    "        return \"node_7\"\n",
    "    return \"node_8\""
   ],
   "outputs": [],
   "execution_count": 3
  },
  {
   "cell_type": "code",
   "id": "7deb0359-55c1-4545-b52e-8252994befbb",
   "metadata": {
    "ExecuteTime": {
     "end_time": "2025-10-16T10:30:57.960637Z",
     "start_time": "2025-10-16T10:30:56.855456Z"
    }
   },
   "source": [
    "from IPython.display import Image, display\n",
    "from langgraph.graph import StateGraph, START, END\n",
    "\n",
    "builder = StateGraph(State)\n",
    "builder.add_node(\"node_1\", node_1)\n",
    "builder.add_node(\"node_2\", node_2)\n",
    "builder.add_node(\"node_3\", node_3)\n",
    "builder.add_node(\"node_4\", node_4)\n",
    "builder.add_node(\"node_5\", node_5)\n",
    "builder.add_node(\"node_6\", node_6)\n",
    "builder.add_node(\"node_7\", node_7)\n",
    "builder.add_node(\"node_8\", node_8)\n",
    "\n",
    "builder.add_edge(START, \"node_1\")\n",
    "builder.add_conditional_edges(\"node_1\", decide_driver)\n",
    "builder.add_edge(\"node_2\", \"node_4\")\n",
    "builder.add_edge(\"node_3\", \"node_4\")\n",
    "builder.add_conditional_edges(\"node_4\", decide_win)\n",
    "builder.add_conditional_edges(\"node_5\", decide_race)\n",
    "builder.add_conditional_edges(\"node_6\", decide_race)\n",
    "builder.add_edge(\"node_7\", END)\n",
    "builder.add_edge(\"node_8\", END)\n",
    "\n",
    "\n",
    "# Add\n",
    "graph = builder.compile()\n",
    "\n",
    "# View\n",
    "display(Image(graph.get_graph().draw_mermaid_png()))"
   ],
   "outputs": [
    {
     "data": {
      "image/png": "[encoded data removed]",
      "text/plain": [
       "<IPython.core.display.Image object>"
      ]
     },
     "metadata": {},
     "output_type": "display_data",
     "jetTransient": {
      "display_id": null
     }
    }
   ],
   "execution_count": 5
  },
  {
   "cell_type": "code",
   "id": "e895f17a-e835-4e8a-8e1b-63fe6d27cc52",
   "metadata": {
    "ExecuteTime": {
     "end_time": "2025-10-16T10:31:34.655175Z",
     "start_time": "2025-10-16T10:31:34.648929Z"
    }
   },
   "source": "graph.invoke({\"graph_state\" : \"It's lights out, and away we go. \"})",
   "outputs": [
    {
     "name": "stdout",
     "output_type": "stream",
     "text": [
      "---Node 1---\n",
      "---Node 3---\n",
      "---Node 4---\n",
      "---Node 5---\n",
      "---Node 7---\n"
     ]
    },
    {
     "data": {
      "text/plain": [
       "{'graph_state': \"It's lights out, and away we go.  I am Sebastian Vettel, and I won the Monacco Grand Prix.\"}"
      ]
     },
     "execution_count": 16,
     "metadata": {},
     "output_type": "execute_result"
    }
   ],
   "execution_count": 16
  }
 ],
 "metadata": {
  "kernelspec": {
   "display_name": "Python 3 (ipykernel)",
   "language": "python",
   "name": "python3"
  },
  "language_info": {
   "codemirror_mode": {
    "name": "ipython",
    "version": 3
   },
   "file_extension": ".py",
   "mimetype": "text/x-python",
   "name": "python",
   "nbconvert_exporter": "python",
   "pygments_lexer": "ipython3",
   "version": "3.12.1"
  }
 },
 "nbformat": 4,
 "nbformat_minor": 5
}
