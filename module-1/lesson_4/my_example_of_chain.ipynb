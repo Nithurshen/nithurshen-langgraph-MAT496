{
 "cells": [
  {
   "cell_type": "code",
   "id": "866b5321-a238-4a9e-af9e-f11a131b5f11",
   "metadata": {
    "ExecuteTime": {
     "end_time": "2025-10-16T12:06:46.324668Z",
     "start_time": "2025-10-16T12:06:46.276866Z"
    }
   },
   "source": [
    "from pprint import pprint\n",
    "from langchain_core.messages import AIMessage, HumanMessage\n",
    "\n",
    "messages = [AIMessage(content=f\"What can you tell about Max Verstappen's first World Championship?\", name=\"Model\")]\n",
    "messages.append(HumanMessage(content=f\"I feel that the stewards were unfair towards Lewis Hamilton, possibly because they didn't want a black guy becoming an eight time world champion.\",name=\"Lance\"))\n",
    "messages.append(AIMessage(content=f\"No, I think it was a deserved win for Max, as it was Lewis's decision to stay out with the hard tyres.\", name=\"Model\"))\n",
    "messages.append(HumanMessage(content=f\"If you put it like that, then that sounds fair.\", name=\"Lance\"))\n",
    "\n",
    "for m in messages:\n",
    "    m.pretty_print()"
   ],
   "outputs": [
    {
     "name": "stdout",
     "output_type": "stream",
     "text": [
      "==================================\u001B[1m Ai Message \u001B[0m==================================\n",
      "Name: Model\n",
      "\n",
      "What can you tell about Max Verstappen's first World Championship?\n",
      "================================\u001B[1m Human Message \u001B[0m=================================\n",
      "Name: Lance\n",
      "\n",
      "I feel that the stewards were unfair towards Lewis Hamilton, possibly because they didn't want a black guy becoming an eight time world champion.\n",
      "==================================\u001B[1m Ai Message \u001B[0m==================================\n",
      "Name: Model\n",
      "\n",
      "No, I think it was a deserved win for Max, as it was Lewis's decision to stay out with the hard tyres.\n",
      "================================\u001B[1m Human Message \u001B[0m=================================\n",
      "Name: Lance\n",
      "\n",
      "If you put it like that, then that sounds fair.\n"
     ]
    }
   ],
   "execution_count": 1
  },
  {
   "cell_type": "code",
   "id": "2652d5ec-7602-4220-bc6e-b90783ab287b",
   "metadata": {
    "ExecuteTime": {
     "end_time": "2025-10-16T12:06:57.004636Z",
     "start_time": "2025-10-16T12:06:56.998846Z"
    }
   },
   "source": [
    "import os, getpass\n",
    "from dotenv import load_dotenv\n",
    "\n",
    "load_dotenv()"
   ],
   "outputs": [
    {
     "data": {
      "text/plain": [
       "True"
      ]
     },
     "execution_count": 2,
     "metadata": {},
     "output_type": "execute_result"
    }
   ],
   "execution_count": 2
  },
  {
   "cell_type": "code",
   "id": "95b99ad4-5753-49d3-a916-a9e949722c01",
   "metadata": {
    "ExecuteTime": {
     "end_time": "2025-10-16T12:07:07.043578Z",
     "start_time": "2025-10-16T12:07:03.446893Z"
    }
   },
   "source": [
    "from langchain_openai import ChatOpenAI\n",
    "llm = ChatOpenAI(model=\"gpt-4.1-mini\")\n",
    "result = llm.invoke(messages)\n",
    "type(result)"
   ],
   "outputs": [
    {
     "data": {
      "text/plain": [
       "langchain_core.messages.ai.AIMessage"
      ]
     },
     "execution_count": 3,
     "metadata": {},
     "output_type": "execute_result"
    }
   ],
   "execution_count": 3
  },
  {
   "cell_type": "code",
   "id": "88d60338-c892-4d04-a83f-878de4a76a6a",
   "metadata": {
    "ExecuteTime": {
     "end_time": "2025-10-16T12:07:08.539197Z",
     "start_time": "2025-10-16T12:07:08.535483Z"
    }
   },
   "source": [
    "result"
   ],
   "outputs": [
    {
     "data": {
      "text/plain": [
       "AIMessage(content=\"It's great to approach these discussions with an open mind! Formula 1 races often hinge on complex strategic decisions, and both driver performance and team calls play crucial roles. Max Verstappen's first World Championship in 2021 was certainly hard-fought, with many memorable moments throughout the season. If you'd like, I can share more details about that season or particular races!\", additional_kwargs={'refusal': None}, response_metadata={'token_usage': {'completion_tokens': 74, 'prompt_tokens': 105, 'total_tokens': 179, 'completion_tokens_details': {'accepted_prediction_tokens': 0, 'audio_tokens': 0, 'reasoning_tokens': 0, 'rejected_prediction_tokens': 0}, 'prompt_tokens_details': {'audio_tokens': 0, 'cached_tokens': 0}}, 'model_name': 'gpt-4.1-mini-2025-04-14', 'system_fingerprint': 'fp_c064fdde7c', 'id': 'chatcmpl-CRH32BD1NLCR7gunKZa3ZCauGpYsY', 'service_tier': 'default', 'finish_reason': 'stop', 'logprobs': None}, id='run--b2c09814-5b1c-4517-a5ca-b82d89685a78-0', usage_metadata={'input_tokens': 105, 'output_tokens': 74, 'total_tokens': 179, 'input_token_details': {'audio': 0, 'cache_read': 0}, 'output_token_details': {'audio': 0, 'reasoning': 0}})"
      ]
     },
     "execution_count": 4,
     "metadata": {},
     "output_type": "execute_result"
    }
   ],
   "execution_count": 4
  },
  {
   "cell_type": "code",
   "id": "c3a29654-6b8e-4eda-9cec-22fabb9b8620",
   "metadata": {
    "ExecuteTime": {
     "end_time": "2025-10-16T12:07:19.776030Z",
     "start_time": "2025-10-16T12:07:19.773339Z"
    }
   },
   "source": [
    "result.response_metadata"
   ],
   "outputs": [
    {
     "data": {
      "text/plain": [
       "{'token_usage': {'completion_tokens': 74,\n",
       "  'prompt_tokens': 105,\n",
       "  'total_tokens': 179,\n",
       "  'completion_tokens_details': {'accepted_prediction_tokens': 0,\n",
       "   'audio_tokens': 0,\n",
       "   'reasoning_tokens': 0,\n",
       "   'rejected_prediction_tokens': 0},\n",
       "  'prompt_tokens_details': {'audio_tokens': 0, 'cached_tokens': 0}},\n",
       " 'model_name': 'gpt-4.1-mini-2025-04-14',\n",
       " 'system_fingerprint': 'fp_c064fdde7c',\n",
       " 'id': 'chatcmpl-CRH32BD1NLCR7gunKZa3ZCauGpYsY',\n",
       " 'service_tier': 'default',\n",
       " 'finish_reason': 'stop',\n",
       " 'logprobs': None}"
      ]
     },
     "execution_count": 5,
     "metadata": {},
     "output_type": "execute_result"
    }
   ],
   "execution_count": 5
  },
  {
   "cell_type": "code",
   "id": "928faf56-1a1a-4c5f-b97d-bd64d8e166d1",
   "metadata": {
    "ExecuteTime": {
     "end_time": "2025-10-16T12:08:43.667178Z",
     "start_time": "2025-10-16T12:08:43.660764Z"
    }
   },
   "source": [
    "def decide_winner(a: int, b: int) -> int:\n",
    "    \"\"\"Checks which F1 driver has the highest points and declare the winner.\n",
    "\n",
    "    Args:\n",
    "        a: first driver points\n",
    "        b: second driver points\n",
    "    \"\"\"\n",
    "    if a > b:\n",
    "        return a\n",
    "    elif a < b:\n",
    "        return b\n",
    "\n",
    "llm_with_tools = llm.bind_tools([decide_winner])"
   ],
   "outputs": [],
   "execution_count": 6
  },
  {
   "cell_type": "code",
   "id": "9edbe13e-cc72-4685-ac97-2ebb4ceb2544",
   "metadata": {
    "ExecuteTime": {
     "end_time": "2025-10-16T12:09:12.227202Z",
     "start_time": "2025-10-16T12:09:10.231092Z"
    }
   },
   "source": "tool_call = llm_with_tools.invoke([HumanMessage(content=f\"Who is the world champion if Max Verstappen has 255 points, and Oscar Piastry has 331 points\", name=\"Lance\")])",
   "outputs": [],
   "execution_count": 7
  },
  {
   "cell_type": "code",
   "id": "a78178cb-fa43-45b5-be5e-5a22bda5a5e7",
   "metadata": {
    "ExecuteTime": {
     "end_time": "2025-10-16T12:09:13.502Z",
     "start_time": "2025-10-16T12:09:13.499224Z"
    }
   },
   "source": [
    "tool_call.tool_calls"
   ],
   "outputs": [
    {
     "data": {
      "text/plain": [
       "[{'name': 'decide_winner',\n",
       "  'args': {'a': 255, 'b': 331},\n",
       "  'id': 'call_9f76CQceYFdaKdIvYCsBuPs8',\n",
       "  'type': 'tool_call'}]"
      ]
     },
     "execution_count": 8,
     "metadata": {},
     "output_type": "execute_result"
    }
   ],
   "execution_count": 8
  },
  {
   "cell_type": "code",
   "id": "3699dd5c-398c-43c7-b496-fd87e55e11ca",
   "metadata": {
    "ExecuteTime": {
     "end_time": "2025-10-16T12:09:20.057570Z",
     "start_time": "2025-10-16T12:09:20.054555Z"
    }
   },
   "source": [
    "from typing_extensions import TypedDict\n",
    "from langchain_core.messages import AnyMessage\n",
    "\n",
    "class MessagesState(TypedDict):\n",
    "    messages: list[AnyMessage]"
   ],
   "outputs": [],
   "execution_count": 9
  },
  {
   "cell_type": "code",
   "id": "6b33eb72-3197-4870-b9a3-0da8056c40c5",
   "metadata": {
    "ExecuteTime": {
     "end_time": "2025-10-16T12:09:21.707438Z",
     "start_time": "2025-10-16T12:09:21.673996Z"
    }
   },
   "source": [
    "from typing import Annotated\n",
    "from langgraph.graph.message import add_messages\n",
    "\n",
    "class MessagesState(TypedDict):\n",
    "    messages: Annotated[list[AnyMessage], add_messages]"
   ],
   "outputs": [],
   "execution_count": 10
  },
  {
   "cell_type": "code",
   "id": "9ab516ee-eab1-4856-8210-99f1fe499672",
   "metadata": {
    "ExecuteTime": {
     "end_time": "2025-10-16T12:09:24.405848Z",
     "start_time": "2025-10-16T12:09:24.403135Z"
    }
   },
   "source": [
    "from langgraph.graph import MessagesState\n",
    "\n",
    "class MessagesState(MessagesState):\n",
    "    # Add any keys needed beyond messages, which is pre-built \n",
    "    pass"
   ],
   "outputs": [],
   "execution_count": 11
  },
  {
   "cell_type": "code",
   "id": "23ffea76-16a5-4053-a1bc-91e0101d91dc",
   "metadata": {
    "ExecuteTime": {
     "end_time": "2025-10-16T12:10:11.180750Z",
     "start_time": "2025-10-16T12:10:11.175269Z"
    }
   },
   "source": [
    "# Initial state\n",
    "initial_messages = [AIMessage(content=\"Hello! What do you want to know about Formula 1?\", name=\"Model\"),\n",
    "                    HumanMessage(content=\"I'm want to know all the glory about Sebastian Vettel.\", name=\"Lance\")\n",
    "                   ]\n",
    "\n",
    "# New message to add\n",
    "new_message = AIMessage(content=\"Sure, I can help with that. Which season specifically are you interested in?\", name=\"Model\")\n",
    "\n",
    "# Test\n",
    "add_messages(initial_messages , new_message)"
   ],
   "outputs": [
    {
     "data": {
      "text/plain": [
       "[AIMessage(content='Hello! What do you want to know about Formula 1?', additional_kwargs={}, response_metadata={}, name='Model', id='5bd2b2cf-8d42-4f58-9356-d63583af166e'),\n",
       " HumanMessage(content=\"I'm want to know all the glory about Sebastian Vettel.\", additional_kwargs={}, response_metadata={}, name='Lance', id='bf815a78-364f-48fe-a2b4-70cf957aaf04'),\n",
       " AIMessage(content='Sure, I can help with that. Which season specifically are you interested in?', additional_kwargs={}, response_metadata={}, name='Model', id='87fdbe6b-fce2-4421-91f7-4b2765078426')]"
      ]
     },
     "execution_count": 12,
     "metadata": {},
     "output_type": "execute_result"
    }
   ],
   "execution_count": 12
  },
  {
   "cell_type": "code",
   "id": "b5306639-7e6a-44be-8471-8d2631701cfb",
   "metadata": {
    "ExecuteTime": {
     "end_time": "2025-10-16T12:10:19.411349Z",
     "start_time": "2025-10-16T12:10:18.890155Z"
    }
   },
   "source": [
    "from IPython.display import Image, display\n",
    "from langgraph.graph import StateGraph, START, END\n",
    "    \n",
    "# Node\n",
    "def tool_calling_llm(state: MessagesState):\n",
    "    return {\"messages\": [llm_with_tools.invoke(state[\"messages\"])]}\n",
    "\n",
    "# Build graph\n",
    "builder = StateGraph(MessagesState)\n",
    "builder.add_node(\"tool_calling_llm\", tool_calling_llm)\n",
    "builder.add_edge(START, \"tool_calling_llm\")\n",
    "builder.add_edge(\"tool_calling_llm\", END)\n",
    "graph = builder.compile()\n",
    "\n",
    "# View\n",
    "display(Image(graph.get_graph().draw_mermaid_png()))"
   ],
   "outputs": [
    {
     "data": {
      "image/png": "[encoded data removed]",
      "text/plain": [
       "<IPython.core.display.Image object>"
      ]
     },
     "metadata": {},
     "output_type": "display_data",
     "jetTransient": {
      "display_id": null
     }
    }
   ],
   "execution_count": 13
  },
  {
   "cell_type": "code",
   "id": "983e2487-c0a5-40a2-afbc-aa53ff49fefc",
   "metadata": {
    "ExecuteTime": {
     "end_time": "2025-10-16T12:10:34.157032Z",
     "start_time": "2025-10-16T12:10:31.472098Z"
    }
   },
   "source": [
    "messages = graph.invoke({\"messages\": HumanMessage(content=\"Hey there!\")})\n",
    "for m in messages['messages']:\n",
    "    m.pretty_print()"
   ],
   "outputs": [
    {
     "name": "stdout",
     "output_type": "stream",
     "text": [
      "================================\u001B[1m Human Message \u001B[0m=================================\n",
      "\n",
      "Hey there!\n",
      "==================================\u001B[1m Ai Message \u001B[0m==================================\n",
      "\n",
      "Hello! How can I assist you today?\n"
     ]
    }
   ],
   "execution_count": 14
  },
  {
   "cell_type": "code",
   "id": "7fe8b042-ecc8-426f-995e-cc1bbaf7cacc",
   "metadata": {
    "ExecuteTime": {
     "end_time": "2025-10-16T12:11:08.079425Z",
     "start_time": "2025-10-16T12:11:06.695429Z"
    }
   },
   "source": [
    "messages = graph.invoke({\"messages\": HumanMessage(content=\"Who is the world champion if Sebastian Vettel has 589 points and Lance Stroll has 12 points\", name=\"Lance\")})\n",
    "for m in messages['messages']:\n",
    "    m.pretty_print()"
   ],
   "outputs": [
    {
     "name": "stdout",
     "output_type": "stream",
     "text": [
      "================================\u001B[1m Human Message \u001B[0m=================================\n",
      "Name: Lance\n",
      "\n",
      "Who is the world champion if Sebastian Vettel has 589 points and Lance Stroll has 12 points\n",
      "==================================\u001B[1m Ai Message \u001B[0m==================================\n",
      "Tool Calls:\n",
      "  decide_winner (call_iV9zV78uVJfI1caPHcs8KsFk)\n",
      " Call ID: call_iV9zV78uVJfI1caPHcs8KsFk\n",
      "  Args:\n",
      "    a: 589\n",
      "    b: 12\n"
     ]
    }
   ],
   "execution_count": 15
  }
 ],
 "metadata": {
  "kernelspec": {
   "display_name": "lc-academy-env",
   "language": "python",
   "name": "python3"
  },
  "language_info": {
   "codemirror_mode": {
    "name": "ipython",
    "version": 3
   },
   "file_extension": ".py",
   "mimetype": "text/x-python",
   "name": "python",
   "nbconvert_exporter": "python",
   "pygments_lexer": "ipython3",
   "version": "3.11.8"
  }
 },
 "nbformat": 4,
 "nbformat_minor": 5
}
